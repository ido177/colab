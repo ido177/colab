{
  "nbformat": 4,
  "nbformat_minor": 0,
  "metadata": {
    "colab": {
      "name": "housing.ipynb",
      "provenance": [],
      "collapsed_sections": [],
      "authorship_tag": "ABX9TyPWF8XzmvUtuuyL6VIkI9vF",
      "include_colab_link": true
    },
    "kernelspec": {
      "name": "python3",
      "display_name": "Python 3"
    },
    "language_info": {
      "name": "python"
    }
  },
  "cells": [
    {
      "cell_type": "markdown",
      "metadata": {
        "id": "view-in-github",
        "colab_type": "text"
      },
      "source": [
        "<a href=\"https://colab.research.google.com/github/ido177/colab/blob/main/udemy/housing.ipynb\" target=\"_parent\"><img src=\"https://colab.research.google.com/assets/colab-badge.svg\" alt=\"Open In Colab\"/></a>"
      ]
    },
    {
      "cell_type": "code",
      "metadata": {
        "id": "pULNXFDDz0rB"
      },
      "source": [
        "import pandas as pd"
      ],
      "execution_count": 1,
      "outputs": []
    },
    {
      "cell_type": "code",
      "metadata": {
        "colab": {
          "base_uri": "https://localhost:8080/"
        },
        "id": "vBjyla2Hz2zq",
        "outputId": "68f6b55c-3893-421f-a172-d79b90562f1a"
      },
      "source": [
        "!gdown --id 1TWOw7jZVOpENjT8lUa6xHYjD4mZW1GOb"
      ],
      "execution_count": 3,
      "outputs": [
        {
          "output_type": "stream",
          "text": [
            "Downloading...\n",
            "From: https://drive.google.com/uc?id=1TWOw7jZVOpENjT8lUa6xHYjD4mZW1GOb\n",
            "To: /content/London+Housing+Data.csv\n",
            "\r  0% 0.00/623k [00:00<?, ?B/s]\r100% 623k/623k [00:00<00:00, 84.6MB/s]\n"
          ],
          "name": "stdout"
        }
      ]
    },
    {
      "cell_type": "code",
      "metadata": {
        "id": "8iawI2Uiz5Ww"
      },
      "source": [
        "df = pd.read_csv(r'/content/London+Housing+Data.csv')"
      ],
      "execution_count": 4,
      "outputs": []
    },
    {
      "cell_type": "code",
      "metadata": {
        "colab": {
          "base_uri": "https://localhost:8080/",
          "height": 419
        },
        "id": "ZJJ72XWN0G-x",
        "outputId": "5340660c-1b10-45e3-b323-4736f72a9878"
      },
      "source": [
        "df"
      ],
      "execution_count": 5,
      "outputs": [
        {
          "output_type": "execute_result",
          "data": {
            "text/html": [
              "<div>\n",
              "<style scoped>\n",
              "    .dataframe tbody tr th:only-of-type {\n",
              "        vertical-align: middle;\n",
              "    }\n",
              "\n",
              "    .dataframe tbody tr th {\n",
              "        vertical-align: top;\n",
              "    }\n",
              "\n",
              "    .dataframe thead th {\n",
              "        text-align: right;\n",
              "    }\n",
              "</style>\n",
              "<table border=\"1\" class=\"dataframe\">\n",
              "  <thead>\n",
              "    <tr style=\"text-align: right;\">\n",
              "      <th></th>\n",
              "      <th>date</th>\n",
              "      <th>area</th>\n",
              "      <th>average_price</th>\n",
              "      <th>code</th>\n",
              "      <th>houses_sold</th>\n",
              "      <th>no_of_crimes</th>\n",
              "    </tr>\n",
              "  </thead>\n",
              "  <tbody>\n",
              "    <tr>\n",
              "      <th>0</th>\n",
              "      <td>1/1/1995</td>\n",
              "      <td>city of london</td>\n",
              "      <td>91449</td>\n",
              "      <td>E09000001</td>\n",
              "      <td>17.0</td>\n",
              "      <td>NaN</td>\n",
              "    </tr>\n",
              "    <tr>\n",
              "      <th>1</th>\n",
              "      <td>2/1/1995</td>\n",
              "      <td>city of london</td>\n",
              "      <td>82203</td>\n",
              "      <td>E09000001</td>\n",
              "      <td>7.0</td>\n",
              "      <td>NaN</td>\n",
              "    </tr>\n",
              "    <tr>\n",
              "      <th>2</th>\n",
              "      <td>3/1/1995</td>\n",
              "      <td>city of london</td>\n",
              "      <td>79121</td>\n",
              "      <td>E09000001</td>\n",
              "      <td>14.0</td>\n",
              "      <td>NaN</td>\n",
              "    </tr>\n",
              "    <tr>\n",
              "      <th>3</th>\n",
              "      <td>4/1/1995</td>\n",
              "      <td>city of london</td>\n",
              "      <td>77101</td>\n",
              "      <td>E09000001</td>\n",
              "      <td>7.0</td>\n",
              "      <td>NaN</td>\n",
              "    </tr>\n",
              "    <tr>\n",
              "      <th>4</th>\n",
              "      <td>5/1/1995</td>\n",
              "      <td>city of london</td>\n",
              "      <td>84409</td>\n",
              "      <td>E09000001</td>\n",
              "      <td>10.0</td>\n",
              "      <td>NaN</td>\n",
              "    </tr>\n",
              "    <tr>\n",
              "      <th>...</th>\n",
              "      <td>...</td>\n",
              "      <td>...</td>\n",
              "      <td>...</td>\n",
              "      <td>...</td>\n",
              "      <td>...</td>\n",
              "      <td>...</td>\n",
              "    </tr>\n",
              "    <tr>\n",
              "      <th>13544</th>\n",
              "      <td>9/1/2019</td>\n",
              "      <td>england</td>\n",
              "      <td>249942</td>\n",
              "      <td>E92000001</td>\n",
              "      <td>64605.0</td>\n",
              "      <td>NaN</td>\n",
              "    </tr>\n",
              "    <tr>\n",
              "      <th>13545</th>\n",
              "      <td>10/1/2019</td>\n",
              "      <td>england</td>\n",
              "      <td>249376</td>\n",
              "      <td>E92000001</td>\n",
              "      <td>68677.0</td>\n",
              "      <td>NaN</td>\n",
              "    </tr>\n",
              "    <tr>\n",
              "      <th>13546</th>\n",
              "      <td>11/1/2019</td>\n",
              "      <td>england</td>\n",
              "      <td>248515</td>\n",
              "      <td>E92000001</td>\n",
              "      <td>67814.0</td>\n",
              "      <td>NaN</td>\n",
              "    </tr>\n",
              "    <tr>\n",
              "      <th>13547</th>\n",
              "      <td>12/1/2019</td>\n",
              "      <td>england</td>\n",
              "      <td>250410</td>\n",
              "      <td>E92000001</td>\n",
              "      <td>NaN</td>\n",
              "      <td>NaN</td>\n",
              "    </tr>\n",
              "    <tr>\n",
              "      <th>13548</th>\n",
              "      <td>1/1/2020</td>\n",
              "      <td>england</td>\n",
              "      <td>247355</td>\n",
              "      <td>E92000001</td>\n",
              "      <td>NaN</td>\n",
              "      <td>NaN</td>\n",
              "    </tr>\n",
              "  </tbody>\n",
              "</table>\n",
              "<p>13549 rows × 6 columns</p>\n",
              "</div>"
            ],
            "text/plain": [
              "            date            area  ...  houses_sold no_of_crimes\n",
              "0       1/1/1995  city of london  ...         17.0          NaN\n",
              "1       2/1/1995  city of london  ...          7.0          NaN\n",
              "2       3/1/1995  city of london  ...         14.0          NaN\n",
              "3       4/1/1995  city of london  ...          7.0          NaN\n",
              "4       5/1/1995  city of london  ...         10.0          NaN\n",
              "...          ...             ...  ...          ...          ...\n",
              "13544   9/1/2019         england  ...      64605.0          NaN\n",
              "13545  10/1/2019         england  ...      68677.0          NaN\n",
              "13546  11/1/2019         england  ...      67814.0          NaN\n",
              "13547  12/1/2019         england  ...          NaN          NaN\n",
              "13548   1/1/2020         england  ...          NaN          NaN\n",
              "\n",
              "[13549 rows x 6 columns]"
            ]
          },
          "metadata": {},
          "execution_count": 5
        }
      ]
    },
    {
      "cell_type": "markdown",
      "metadata": {
        "id": "UqAip6mF0X_L"
      },
      "source": [
        "1. Convert the data type of 'Date' column to date-time format"
      ]
    },
    {
      "cell_type": "code",
      "metadata": {
        "id": "dLi3VD1k0JzV"
      },
      "source": [
        "df['date'] = pd.to_datetime(df.date)"
      ],
      "execution_count": 6,
      "outputs": []
    },
    {
      "cell_type": "code",
      "metadata": {
        "colab": {
          "base_uri": "https://localhost:8080/",
          "height": 419
        },
        "id": "XIwrwvYC08A3",
        "outputId": "e73201e8-043e-42df-fa0d-8cec29557dce"
      },
      "source": [
        "df"
      ],
      "execution_count": 7,
      "outputs": [
        {
          "output_type": "execute_result",
          "data": {
            "text/html": [
              "<div>\n",
              "<style scoped>\n",
              "    .dataframe tbody tr th:only-of-type {\n",
              "        vertical-align: middle;\n",
              "    }\n",
              "\n",
              "    .dataframe tbody tr th {\n",
              "        vertical-align: top;\n",
              "    }\n",
              "\n",
              "    .dataframe thead th {\n",
              "        text-align: right;\n",
              "    }\n",
              "</style>\n",
              "<table border=\"1\" class=\"dataframe\">\n",
              "  <thead>\n",
              "    <tr style=\"text-align: right;\">\n",
              "      <th></th>\n",
              "      <th>date</th>\n",
              "      <th>area</th>\n",
              "      <th>average_price</th>\n",
              "      <th>code</th>\n",
              "      <th>houses_sold</th>\n",
              "      <th>no_of_crimes</th>\n",
              "    </tr>\n",
              "  </thead>\n",
              "  <tbody>\n",
              "    <tr>\n",
              "      <th>0</th>\n",
              "      <td>1995-01-01</td>\n",
              "      <td>city of london</td>\n",
              "      <td>91449</td>\n",
              "      <td>E09000001</td>\n",
              "      <td>17.0</td>\n",
              "      <td>NaN</td>\n",
              "    </tr>\n",
              "    <tr>\n",
              "      <th>1</th>\n",
              "      <td>1995-02-01</td>\n",
              "      <td>city of london</td>\n",
              "      <td>82203</td>\n",
              "      <td>E09000001</td>\n",
              "      <td>7.0</td>\n",
              "      <td>NaN</td>\n",
              "    </tr>\n",
              "    <tr>\n",
              "      <th>2</th>\n",
              "      <td>1995-03-01</td>\n",
              "      <td>city of london</td>\n",
              "      <td>79121</td>\n",
              "      <td>E09000001</td>\n",
              "      <td>14.0</td>\n",
              "      <td>NaN</td>\n",
              "    </tr>\n",
              "    <tr>\n",
              "      <th>3</th>\n",
              "      <td>1995-04-01</td>\n",
              "      <td>city of london</td>\n",
              "      <td>77101</td>\n",
              "      <td>E09000001</td>\n",
              "      <td>7.0</td>\n",
              "      <td>NaN</td>\n",
              "    </tr>\n",
              "    <tr>\n",
              "      <th>4</th>\n",
              "      <td>1995-05-01</td>\n",
              "      <td>city of london</td>\n",
              "      <td>84409</td>\n",
              "      <td>E09000001</td>\n",
              "      <td>10.0</td>\n",
              "      <td>NaN</td>\n",
              "    </tr>\n",
              "    <tr>\n",
              "      <th>...</th>\n",
              "      <td>...</td>\n",
              "      <td>...</td>\n",
              "      <td>...</td>\n",
              "      <td>...</td>\n",
              "      <td>...</td>\n",
              "      <td>...</td>\n",
              "    </tr>\n",
              "    <tr>\n",
              "      <th>13544</th>\n",
              "      <td>2019-09-01</td>\n",
              "      <td>england</td>\n",
              "      <td>249942</td>\n",
              "      <td>E92000001</td>\n",
              "      <td>64605.0</td>\n",
              "      <td>NaN</td>\n",
              "    </tr>\n",
              "    <tr>\n",
              "      <th>13545</th>\n",
              "      <td>2019-10-01</td>\n",
              "      <td>england</td>\n",
              "      <td>249376</td>\n",
              "      <td>E92000001</td>\n",
              "      <td>68677.0</td>\n",
              "      <td>NaN</td>\n",
              "    </tr>\n",
              "    <tr>\n",
              "      <th>13546</th>\n",
              "      <td>2019-11-01</td>\n",
              "      <td>england</td>\n",
              "      <td>248515</td>\n",
              "      <td>E92000001</td>\n",
              "      <td>67814.0</td>\n",
              "      <td>NaN</td>\n",
              "    </tr>\n",
              "    <tr>\n",
              "      <th>13547</th>\n",
              "      <td>2019-12-01</td>\n",
              "      <td>england</td>\n",
              "      <td>250410</td>\n",
              "      <td>E92000001</td>\n",
              "      <td>NaN</td>\n",
              "      <td>NaN</td>\n",
              "    </tr>\n",
              "    <tr>\n",
              "      <th>13548</th>\n",
              "      <td>2020-01-01</td>\n",
              "      <td>england</td>\n",
              "      <td>247355</td>\n",
              "      <td>E92000001</td>\n",
              "      <td>NaN</td>\n",
              "      <td>NaN</td>\n",
              "    </tr>\n",
              "  </tbody>\n",
              "</table>\n",
              "<p>13549 rows × 6 columns</p>\n",
              "</div>"
            ],
            "text/plain": [
              "            date            area  ...  houses_sold no_of_crimes\n",
              "0     1995-01-01  city of london  ...         17.0          NaN\n",
              "1     1995-02-01  city of london  ...          7.0          NaN\n",
              "2     1995-03-01  city of london  ...         14.0          NaN\n",
              "3     1995-04-01  city of london  ...          7.0          NaN\n",
              "4     1995-05-01  city of london  ...         10.0          NaN\n",
              "...          ...             ...  ...          ...          ...\n",
              "13544 2019-09-01         england  ...      64605.0          NaN\n",
              "13545 2019-10-01         england  ...      68677.0          NaN\n",
              "13546 2019-11-01         england  ...      67814.0          NaN\n",
              "13547 2019-12-01         england  ...          NaN          NaN\n",
              "13548 2020-01-01         england  ...          NaN          NaN\n",
              "\n",
              "[13549 rows x 6 columns]"
            ]
          },
          "metadata": {},
          "execution_count": 7
        }
      ]
    },
    {
      "cell_type": "markdown",
      "metadata": {
        "id": "rUGAQ2zi1CjH"
      },
      "source": [
        "2. Add a new column 'Year' on the dataframe which contains years only"
      ]
    },
    {
      "cell_type": "code",
      "metadata": {
        "id": "9pDXvJyn099V"
      },
      "source": [
        "df['year'] = df.date.dt.year"
      ],
      "execution_count": 8,
      "outputs": []
    },
    {
      "cell_type": "code",
      "metadata": {
        "colab": {
          "base_uri": "https://localhost:8080/",
          "height": 80
        },
        "id": "TkcVZKrR1dBZ",
        "outputId": "b2975860-7dd3-4ad0-d8a0-7db364a44053"
      },
      "source": [
        "df.head(1)"
      ],
      "execution_count": 9,
      "outputs": [
        {
          "output_type": "execute_result",
          "data": {
            "text/html": [
              "<div>\n",
              "<style scoped>\n",
              "    .dataframe tbody tr th:only-of-type {\n",
              "        vertical-align: middle;\n",
              "    }\n",
              "\n",
              "    .dataframe tbody tr th {\n",
              "        vertical-align: top;\n",
              "    }\n",
              "\n",
              "    .dataframe thead th {\n",
              "        text-align: right;\n",
              "    }\n",
              "</style>\n",
              "<table border=\"1\" class=\"dataframe\">\n",
              "  <thead>\n",
              "    <tr style=\"text-align: right;\">\n",
              "      <th></th>\n",
              "      <th>date</th>\n",
              "      <th>area</th>\n",
              "      <th>average_price</th>\n",
              "      <th>code</th>\n",
              "      <th>houses_sold</th>\n",
              "      <th>no_of_crimes</th>\n",
              "      <th>year</th>\n",
              "    </tr>\n",
              "  </thead>\n",
              "  <tbody>\n",
              "    <tr>\n",
              "      <th>0</th>\n",
              "      <td>1995-01-01</td>\n",
              "      <td>city of london</td>\n",
              "      <td>91449</td>\n",
              "      <td>E09000001</td>\n",
              "      <td>17.0</td>\n",
              "      <td>NaN</td>\n",
              "      <td>1995</td>\n",
              "    </tr>\n",
              "  </tbody>\n",
              "</table>\n",
              "</div>"
            ],
            "text/plain": [
              "        date            area  average_price  ... houses_sold  no_of_crimes  year\n",
              "0 1995-01-01  city of london          91449  ...        17.0           NaN  1995\n",
              "\n",
              "[1 rows x 7 columns]"
            ]
          },
          "metadata": {},
          "execution_count": 9
        }
      ]
    },
    {
      "cell_type": "markdown",
      "metadata": {
        "id": "8RTu6x4X1gfi"
      },
      "source": [
        "3. To add a month as a new column, between date and area"
      ]
    },
    {
      "cell_type": "code",
      "metadata": {
        "id": "Lh8Aoxb31eQL"
      },
      "source": [
        "df.insert(1, 'month', df.date.dt.month) # 1 - index of the column"
      ],
      "execution_count": 16,
      "outputs": []
    },
    {
      "cell_type": "code",
      "metadata": {
        "colab": {
          "base_uri": "https://localhost:8080/",
          "height": 80
        },
        "id": "QBnzsVh12CJF",
        "outputId": "2a47b4a3-ec5a-434a-99f1-8dddbdfa49c5"
      },
      "source": [
        "df.head(1)"
      ],
      "execution_count": 13,
      "outputs": [
        {
          "output_type": "execute_result",
          "data": {
            "text/html": [
              "<div>\n",
              "<style scoped>\n",
              "    .dataframe tbody tr th:only-of-type {\n",
              "        vertical-align: middle;\n",
              "    }\n",
              "\n",
              "    .dataframe tbody tr th {\n",
              "        vertical-align: top;\n",
              "    }\n",
              "\n",
              "    .dataframe thead th {\n",
              "        text-align: right;\n",
              "    }\n",
              "</style>\n",
              "<table border=\"1\" class=\"dataframe\">\n",
              "  <thead>\n",
              "    <tr style=\"text-align: right;\">\n",
              "      <th></th>\n",
              "      <th>date</th>\n",
              "      <th>month</th>\n",
              "      <th>area</th>\n",
              "      <th>average_price</th>\n",
              "      <th>code</th>\n",
              "      <th>houses_sold</th>\n",
              "      <th>no_of_crimes</th>\n",
              "      <th>year</th>\n",
              "    </tr>\n",
              "  </thead>\n",
              "  <tbody>\n",
              "    <tr>\n",
              "      <th>0</th>\n",
              "      <td>1995-01-01</td>\n",
              "      <td>1</td>\n",
              "      <td>city of london</td>\n",
              "      <td>91449</td>\n",
              "      <td>E09000001</td>\n",
              "      <td>17.0</td>\n",
              "      <td>NaN</td>\n",
              "      <td>1995</td>\n",
              "    </tr>\n",
              "  </tbody>\n",
              "</table>\n",
              "</div>"
            ],
            "text/plain": [
              "        date  month            area  ...  houses_sold no_of_crimes  year\n",
              "0 1995-01-01      1  city of london  ...         17.0          NaN  1995\n",
              "\n",
              "[1 rows x 8 columns]"
            ]
          },
          "metadata": {},
          "execution_count": 13
        }
      ]
    },
    {
      "cell_type": "markdown",
      "metadata": {
        "id": "7JFj0JRe2NNb"
      },
      "source": [
        "4. Remove the column year and month"
      ]
    },
    {
      "cell_type": "code",
      "metadata": {
        "id": "S82tc54_2DLa"
      },
      "source": [
        "df.drop(['year', 'month'], axis=1, inplace=True)"
      ],
      "execution_count": 18,
      "outputs": []
    },
    {
      "cell_type": "code",
      "metadata": {
        "colab": {
          "base_uri": "https://localhost:8080/",
          "height": 80
        },
        "id": "2_JARbBW2W_6",
        "outputId": "c2c2fcca-97d5-46d3-b6a8-03f6b2bde740"
      },
      "source": [
        "df.head(1)"
      ],
      "execution_count": 19,
      "outputs": [
        {
          "output_type": "execute_result",
          "data": {
            "text/html": [
              "<div>\n",
              "<style scoped>\n",
              "    .dataframe tbody tr th:only-of-type {\n",
              "        vertical-align: middle;\n",
              "    }\n",
              "\n",
              "    .dataframe tbody tr th {\n",
              "        vertical-align: top;\n",
              "    }\n",
              "\n",
              "    .dataframe thead th {\n",
              "        text-align: right;\n",
              "    }\n",
              "</style>\n",
              "<table border=\"1\" class=\"dataframe\">\n",
              "  <thead>\n",
              "    <tr style=\"text-align: right;\">\n",
              "      <th></th>\n",
              "      <th>date</th>\n",
              "      <th>area</th>\n",
              "      <th>average_price</th>\n",
              "      <th>code</th>\n",
              "      <th>houses_sold</th>\n",
              "      <th>no_of_crimes</th>\n",
              "    </tr>\n",
              "  </thead>\n",
              "  <tbody>\n",
              "    <tr>\n",
              "      <th>0</th>\n",
              "      <td>1995-01-01</td>\n",
              "      <td>city of london</td>\n",
              "      <td>91449</td>\n",
              "      <td>E09000001</td>\n",
              "      <td>17.0</td>\n",
              "      <td>NaN</td>\n",
              "    </tr>\n",
              "  </tbody>\n",
              "</table>\n",
              "</div>"
            ],
            "text/plain": [
              "        date            area  ...  houses_sold no_of_crimes\n",
              "0 1995-01-01  city of london  ...         17.0          NaN\n",
              "\n",
              "[1 rows x 6 columns]"
            ]
          },
          "metadata": {},
          "execution_count": 19
        }
      ]
    },
    {
      "cell_type": "markdown",
      "metadata": {
        "id": "IWwNdbtX2h1V"
      },
      "source": [
        "5. Show all the records where 'no of crimes' is zero and how many such records"
      ]
    },
    {
      "cell_type": "code",
      "metadata": {
        "colab": {
          "base_uri": "https://localhost:8080/"
        },
        "id": "aozToFJR2Y1e",
        "outputId": "c368a666-c839-4941-a53b-91b87ef5cdd4"
      },
      "source": [
        "len(df[df.no_of_crimes == 0])"
      ],
      "execution_count": 25,
      "outputs": [
        {
          "output_type": "execute_result",
          "data": {
            "text/plain": [
              "104"
            ]
          },
          "metadata": {},
          "execution_count": 25
        }
      ]
    },
    {
      "cell_type": "markdown",
      "metadata": {
        "id": "bHFof9uU3eFS"
      },
      "source": [
        "6. What is the max and min average_price per year in england"
      ]
    },
    {
      "cell_type": "code",
      "metadata": {
        "colab": {
          "base_uri": "https://localhost:8080/",
          "height": 80
        },
        "id": "i13jOXd_2xzs",
        "outputId": "53b763d1-b3bf-460b-c572-54c44d17f1af"
      },
      "source": [
        "df.head(1)"
      ],
      "execution_count": 26,
      "outputs": [
        {
          "output_type": "execute_result",
          "data": {
            "text/html": [
              "<div>\n",
              "<style scoped>\n",
              "    .dataframe tbody tr th:only-of-type {\n",
              "        vertical-align: middle;\n",
              "    }\n",
              "\n",
              "    .dataframe tbody tr th {\n",
              "        vertical-align: top;\n",
              "    }\n",
              "\n",
              "    .dataframe thead th {\n",
              "        text-align: right;\n",
              "    }\n",
              "</style>\n",
              "<table border=\"1\" class=\"dataframe\">\n",
              "  <thead>\n",
              "    <tr style=\"text-align: right;\">\n",
              "      <th></th>\n",
              "      <th>date</th>\n",
              "      <th>area</th>\n",
              "      <th>average_price</th>\n",
              "      <th>code</th>\n",
              "      <th>houses_sold</th>\n",
              "      <th>no_of_crimes</th>\n",
              "    </tr>\n",
              "  </thead>\n",
              "  <tbody>\n",
              "    <tr>\n",
              "      <th>0</th>\n",
              "      <td>1995-01-01</td>\n",
              "      <td>city of london</td>\n",
              "      <td>91449</td>\n",
              "      <td>E09000001</td>\n",
              "      <td>17.0</td>\n",
              "      <td>NaN</td>\n",
              "    </tr>\n",
              "  </tbody>\n",
              "</table>\n",
              "</div>"
            ],
            "text/plain": [
              "        date            area  ...  houses_sold no_of_crimes\n",
              "0 1995-01-01  city of london  ...         17.0          NaN\n",
              "\n",
              "[1 rows x 6 columns]"
            ]
          },
          "metadata": {},
          "execution_count": 26
        }
      ]
    },
    {
      "cell_type": "code",
      "metadata": {
        "id": "t_33cmqD29RU"
      },
      "source": [
        "df['year'] = df.date.dt.year"
      ],
      "execution_count": 27,
      "outputs": []
    },
    {
      "cell_type": "code",
      "metadata": {
        "colab": {
          "base_uri": "https://localhost:8080/",
          "height": 419
        },
        "id": "KtveUr8H3oth",
        "outputId": "9ae78b29-f816-4fee-cd51-d60f9413835b"
      },
      "source": [
        "df[df.area == 'england']"
      ],
      "execution_count": 31,
      "outputs": [
        {
          "output_type": "execute_result",
          "data": {
            "text/html": [
              "<div>\n",
              "<style scoped>\n",
              "    .dataframe tbody tr th:only-of-type {\n",
              "        vertical-align: middle;\n",
              "    }\n",
              "\n",
              "    .dataframe tbody tr th {\n",
              "        vertical-align: top;\n",
              "    }\n",
              "\n",
              "    .dataframe thead th {\n",
              "        text-align: right;\n",
              "    }\n",
              "</style>\n",
              "<table border=\"1\" class=\"dataframe\">\n",
              "  <thead>\n",
              "    <tr style=\"text-align: right;\">\n",
              "      <th></th>\n",
              "      <th>date</th>\n",
              "      <th>area</th>\n",
              "      <th>average_price</th>\n",
              "      <th>code</th>\n",
              "      <th>houses_sold</th>\n",
              "      <th>no_of_crimes</th>\n",
              "      <th>year</th>\n",
              "    </tr>\n",
              "  </thead>\n",
              "  <tbody>\n",
              "    <tr>\n",
              "      <th>13248</th>\n",
              "      <td>1995-01-01</td>\n",
              "      <td>england</td>\n",
              "      <td>53203</td>\n",
              "      <td>E92000001</td>\n",
              "      <td>47639.0</td>\n",
              "      <td>NaN</td>\n",
              "      <td>1995</td>\n",
              "    </tr>\n",
              "    <tr>\n",
              "      <th>13249</th>\n",
              "      <td>1995-02-01</td>\n",
              "      <td>england</td>\n",
              "      <td>53096</td>\n",
              "      <td>E92000001</td>\n",
              "      <td>47880.0</td>\n",
              "      <td>NaN</td>\n",
              "      <td>1995</td>\n",
              "    </tr>\n",
              "    <tr>\n",
              "      <th>13250</th>\n",
              "      <td>1995-03-01</td>\n",
              "      <td>england</td>\n",
              "      <td>53201</td>\n",
              "      <td>E92000001</td>\n",
              "      <td>67025.0</td>\n",
              "      <td>NaN</td>\n",
              "      <td>1995</td>\n",
              "    </tr>\n",
              "    <tr>\n",
              "      <th>13251</th>\n",
              "      <td>1995-04-01</td>\n",
              "      <td>england</td>\n",
              "      <td>53591</td>\n",
              "      <td>E92000001</td>\n",
              "      <td>56925.0</td>\n",
              "      <td>NaN</td>\n",
              "      <td>1995</td>\n",
              "    </tr>\n",
              "    <tr>\n",
              "      <th>13252</th>\n",
              "      <td>1995-05-01</td>\n",
              "      <td>england</td>\n",
              "      <td>53678</td>\n",
              "      <td>E92000001</td>\n",
              "      <td>64192.0</td>\n",
              "      <td>NaN</td>\n",
              "      <td>1995</td>\n",
              "    </tr>\n",
              "    <tr>\n",
              "      <th>...</th>\n",
              "      <td>...</td>\n",
              "      <td>...</td>\n",
              "      <td>...</td>\n",
              "      <td>...</td>\n",
              "      <td>...</td>\n",
              "      <td>...</td>\n",
              "      <td>...</td>\n",
              "    </tr>\n",
              "    <tr>\n",
              "      <th>13544</th>\n",
              "      <td>2019-09-01</td>\n",
              "      <td>england</td>\n",
              "      <td>249942</td>\n",
              "      <td>E92000001</td>\n",
              "      <td>64605.0</td>\n",
              "      <td>NaN</td>\n",
              "      <td>2019</td>\n",
              "    </tr>\n",
              "    <tr>\n",
              "      <th>13545</th>\n",
              "      <td>2019-10-01</td>\n",
              "      <td>england</td>\n",
              "      <td>249376</td>\n",
              "      <td>E92000001</td>\n",
              "      <td>68677.0</td>\n",
              "      <td>NaN</td>\n",
              "      <td>2019</td>\n",
              "    </tr>\n",
              "    <tr>\n",
              "      <th>13546</th>\n",
              "      <td>2019-11-01</td>\n",
              "      <td>england</td>\n",
              "      <td>248515</td>\n",
              "      <td>E92000001</td>\n",
              "      <td>67814.0</td>\n",
              "      <td>NaN</td>\n",
              "      <td>2019</td>\n",
              "    </tr>\n",
              "    <tr>\n",
              "      <th>13547</th>\n",
              "      <td>2019-12-01</td>\n",
              "      <td>england</td>\n",
              "      <td>250410</td>\n",
              "      <td>E92000001</td>\n",
              "      <td>NaN</td>\n",
              "      <td>NaN</td>\n",
              "      <td>2019</td>\n",
              "    </tr>\n",
              "    <tr>\n",
              "      <th>13548</th>\n",
              "      <td>2020-01-01</td>\n",
              "      <td>england</td>\n",
              "      <td>247355</td>\n",
              "      <td>E92000001</td>\n",
              "      <td>NaN</td>\n",
              "      <td>NaN</td>\n",
              "      <td>2020</td>\n",
              "    </tr>\n",
              "  </tbody>\n",
              "</table>\n",
              "<p>301 rows × 7 columns</p>\n",
              "</div>"
            ],
            "text/plain": [
              "            date     area  average_price  ... houses_sold  no_of_crimes  year\n",
              "13248 1995-01-01  england          53203  ...     47639.0           NaN  1995\n",
              "13249 1995-02-01  england          53096  ...     47880.0           NaN  1995\n",
              "13250 1995-03-01  england          53201  ...     67025.0           NaN  1995\n",
              "13251 1995-04-01  england          53591  ...     56925.0           NaN  1995\n",
              "13252 1995-05-01  england          53678  ...     64192.0           NaN  1995\n",
              "...          ...      ...            ...  ...         ...           ...   ...\n",
              "13544 2019-09-01  england         249942  ...     64605.0           NaN  2019\n",
              "13545 2019-10-01  england         249376  ...     68677.0           NaN  2019\n",
              "13546 2019-11-01  england         248515  ...     67814.0           NaN  2019\n",
              "13547 2019-12-01  england         250410  ...         NaN           NaN  2019\n",
              "13548 2020-01-01  england         247355  ...         NaN           NaN  2020\n",
              "\n",
              "[301 rows x 7 columns]"
            ]
          },
          "metadata": {},
          "execution_count": 31
        }
      ]
    },
    {
      "cell_type": "code",
      "metadata": {
        "id": "5pHXhvVO3t9P"
      },
      "source": [
        "df1 = df[df.area == 'england']"
      ],
      "execution_count": 32,
      "outputs": []
    },
    {
      "cell_type": "code",
      "metadata": {
        "colab": {
          "base_uri": "https://localhost:8080/"
        },
        "id": "qvqsdPAd33Vp",
        "outputId": "e2abbf2e-533d-49b4-d0eb-dd109486c1ea"
      },
      "source": [
        "df1.groupby('year').average_price.max()\n",
        "#df1.groupby('year').average_price.min()"
      ],
      "execution_count": 35,
      "outputs": [
        {
          "output_type": "execute_result",
          "data": {
            "text/plain": [
              "year\n",
              "1995     53901\n",
              "1996     55755\n",
              "1997     61564\n",
              "1998     65743\n",
              "1999     75071\n",
              "2000     84191\n",
              "2001     95992\n",
              "2002    119982\n",
              "2003    138985\n",
              "2004    160330\n",
              "2005    167244\n",
              "2006    182031\n",
              "2007    194764\n",
              "2008    191750\n",
              "2009    174136\n",
              "2010    180807\n",
              "2011    177335\n",
              "2012    180129\n",
              "2013    188544\n",
              "2014    203639\n",
              "2015    219582\n",
              "2016    231922\n",
              "2017    242628\n",
              "2018    248620\n",
              "2019    250410\n",
              "2020    247355\n",
              "Name: average_price, dtype: int64"
            ]
          },
          "metadata": {},
          "execution_count": 35
        }
      ]
    },
    {
      "cell_type": "markdown",
      "metadata": {
        "id": "6b1DdwhM4TYf"
      },
      "source": [
        "7. What is the max and min no of crimes recorded area"
      ]
    },
    {
      "cell_type": "code",
      "metadata": {
        "colab": {
          "base_uri": "https://localhost:8080/",
          "height": 80
        },
        "id": "ITuHHsht4ErB",
        "outputId": "213abfef-54de-43e8-e767-f09bc8e8166f"
      },
      "source": [
        "df.head(1)"
      ],
      "execution_count": 36,
      "outputs": [
        {
          "output_type": "execute_result",
          "data": {
            "text/html": [
              "<div>\n",
              "<style scoped>\n",
              "    .dataframe tbody tr th:only-of-type {\n",
              "        vertical-align: middle;\n",
              "    }\n",
              "\n",
              "    .dataframe tbody tr th {\n",
              "        vertical-align: top;\n",
              "    }\n",
              "\n",
              "    .dataframe thead th {\n",
              "        text-align: right;\n",
              "    }\n",
              "</style>\n",
              "<table border=\"1\" class=\"dataframe\">\n",
              "  <thead>\n",
              "    <tr style=\"text-align: right;\">\n",
              "      <th></th>\n",
              "      <th>date</th>\n",
              "      <th>area</th>\n",
              "      <th>average_price</th>\n",
              "      <th>code</th>\n",
              "      <th>houses_sold</th>\n",
              "      <th>no_of_crimes</th>\n",
              "      <th>year</th>\n",
              "    </tr>\n",
              "  </thead>\n",
              "  <tbody>\n",
              "    <tr>\n",
              "      <th>0</th>\n",
              "      <td>1995-01-01</td>\n",
              "      <td>city of london</td>\n",
              "      <td>91449</td>\n",
              "      <td>E09000001</td>\n",
              "      <td>17.0</td>\n",
              "      <td>NaN</td>\n",
              "      <td>1995</td>\n",
              "    </tr>\n",
              "  </tbody>\n",
              "</table>\n",
              "</div>"
            ],
            "text/plain": [
              "        date            area  average_price  ... houses_sold  no_of_crimes  year\n",
              "0 1995-01-01  city of london          91449  ...        17.0           NaN  1995\n",
              "\n",
              "[1 rows x 7 columns]"
            ]
          },
          "metadata": {},
          "execution_count": 36
        }
      ]
    },
    {
      "cell_type": "code",
      "metadata": {
        "colab": {
          "base_uri": "https://localhost:8080/"
        },
        "id": "EdZm3_RC4YQj",
        "outputId": "6e431109-d974-4827-db72-6df69781565d"
      },
      "source": [
        "df.groupby('area').no_of_crimes.max()"
      ],
      "execution_count": 37,
      "outputs": [
        {
          "output_type": "execute_result",
          "data": {
            "text/plain": [
              "area\n",
              "barking and dagenham      2049.0\n",
              "barnet                    2893.0\n",
              "bexley                    1914.0\n",
              "brent                     2937.0\n",
              "bromley                   2637.0\n",
              "camden                    4558.0\n",
              "city of london              10.0\n",
              "croydon                   3263.0\n",
              "ealing                    3401.0\n",
              "east midlands                NaN\n",
              "east of england              NaN\n",
              "enfield                   2798.0\n",
              "england                      NaN\n",
              "greenwich                 2853.0\n",
              "hackney                   3466.0\n",
              "hammersmith and fulham    2645.0\n",
              "haringey                  3199.0\n",
              "harrow                    1763.0\n",
              "havering                  1956.0\n",
              "hillingdon                2819.0\n",
              "hounslow                  2817.0\n",
              "inner london                 NaN\n",
              "islington                 3384.0\n",
              "kensington and chelsea    2778.0\n",
              "kingston upon thames      1379.0\n",
              "lambeth                   4701.0\n",
              "lewisham                  2813.0\n",
              "london                       NaN\n",
              "merton                    1623.0\n",
              "newham                    3668.0\n",
              "north east                   NaN\n",
              "north west                   NaN\n",
              "outer london                 NaN\n",
              "redbridge                 2560.0\n",
              "richmond upon thames      1551.0\n",
              "south east                   NaN\n",
              "south west                   NaN\n",
              "southwark                 3821.0\n",
              "sutton                    1425.0\n",
              "tower hamlets             3316.0\n",
              "waltham forest            2941.0\n",
              "wandsworth                3051.0\n",
              "west midlands                NaN\n",
              "westminster               7461.0\n",
              "yorks and the humber         NaN\n",
              "Name: no_of_crimes, dtype: float64"
            ]
          },
          "metadata": {},
          "execution_count": 37
        }
      ]
    },
    {
      "cell_type": "code",
      "metadata": {
        "colab": {
          "base_uri": "https://localhost:8080/"
        },
        "id": "y6_BxnqX4dEe",
        "outputId": "7b7113f9-945f-48f3-fe14-923e4d344dca"
      },
      "source": [
        "df.groupby('area').no_of_crimes.min().sort_values(ascending=True)"
      ],
      "execution_count": 38,
      "outputs": [
        {
          "output_type": "execute_result",
          "data": {
            "text/plain": [
              "area\n",
              "city of london               0.0\n",
              "kingston upon thames       692.0\n",
              "richmond upon thames       700.0\n",
              "sutton                     787.0\n",
              "merton                     819.0\n",
              "bexley                     860.0\n",
              "harrow                     937.0\n",
              "havering                  1130.0\n",
              "barking and dagenham      1217.0\n",
              "hammersmith and fulham    1323.0\n",
              "kensington and chelsea    1347.0\n",
              "bromley                   1441.0\n",
              "hillingdon                1445.0\n",
              "redbridge                 1487.0\n",
              "greenwich                 1513.0\n",
              "hounslow                  1529.0\n",
              "haringey                  1536.0\n",
              "waltham forest            1575.0\n",
              "wandsworth                1582.0\n",
              "enfield                   1635.0\n",
              "tower hamlets             1646.0\n",
              "lewisham                  1675.0\n",
              "barnet                    1703.0\n",
              "brent                     1850.0\n",
              "hackney                   1870.0\n",
              "ealing                    1871.0\n",
              "islington                 1871.0\n",
              "croydon                   2031.0\n",
              "camden                    2079.0\n",
              "newham                    2130.0\n",
              "southwark                 2267.0\n",
              "lambeth                   2381.0\n",
              "westminster               3504.0\n",
              "east midlands                NaN\n",
              "east of england              NaN\n",
              "england                      NaN\n",
              "inner london                 NaN\n",
              "london                       NaN\n",
              "north east                   NaN\n",
              "north west                   NaN\n",
              "outer london                 NaN\n",
              "south east                   NaN\n",
              "south west                   NaN\n",
              "west midlands                NaN\n",
              "yorks and the humber         NaN\n",
              "Name: no_of_crimes, dtype: float64"
            ]
          },
          "metadata": {},
          "execution_count": 38
        }
      ]
    },
    {
      "cell_type": "markdown",
      "metadata": {
        "id": "1MmF6CZ_4uS3"
      },
      "source": [
        "8. Show the total count of records of each area where avg price is less than 100000"
      ]
    },
    {
      "cell_type": "code",
      "metadata": {
        "colab": {
          "base_uri": "https://localhost:8080/",
          "height": 80
        },
        "id": "or2vwmz14r-a",
        "outputId": "5f4c3468-b0f3-485c-e433-080709c9d34c"
      },
      "source": [
        "df.head(1)"
      ],
      "execution_count": 39,
      "outputs": [
        {
          "output_type": "execute_result",
          "data": {
            "text/html": [
              "<div>\n",
              "<style scoped>\n",
              "    .dataframe tbody tr th:only-of-type {\n",
              "        vertical-align: middle;\n",
              "    }\n",
              "\n",
              "    .dataframe tbody tr th {\n",
              "        vertical-align: top;\n",
              "    }\n",
              "\n",
              "    .dataframe thead th {\n",
              "        text-align: right;\n",
              "    }\n",
              "</style>\n",
              "<table border=\"1\" class=\"dataframe\">\n",
              "  <thead>\n",
              "    <tr style=\"text-align: right;\">\n",
              "      <th></th>\n",
              "      <th>date</th>\n",
              "      <th>area</th>\n",
              "      <th>average_price</th>\n",
              "      <th>code</th>\n",
              "      <th>houses_sold</th>\n",
              "      <th>no_of_crimes</th>\n",
              "      <th>year</th>\n",
              "    </tr>\n",
              "  </thead>\n",
              "  <tbody>\n",
              "    <tr>\n",
              "      <th>0</th>\n",
              "      <td>1995-01-01</td>\n",
              "      <td>city of london</td>\n",
              "      <td>91449</td>\n",
              "      <td>E09000001</td>\n",
              "      <td>17.0</td>\n",
              "      <td>NaN</td>\n",
              "      <td>1995</td>\n",
              "    </tr>\n",
              "  </tbody>\n",
              "</table>\n",
              "</div>"
            ],
            "text/plain": [
              "        date            area  average_price  ... houses_sold  no_of_crimes  year\n",
              "0 1995-01-01  city of london          91449  ...        17.0           NaN  1995\n",
              "\n",
              "[1 rows x 7 columns]"
            ]
          },
          "metadata": {},
          "execution_count": 39
        }
      ]
    },
    {
      "cell_type": "code",
      "metadata": {
        "colab": {
          "base_uri": "https://localhost:8080/"
        },
        "id": "BAH9h0e646QW",
        "outputId": "3e1cf4be-d220-406c-dce6-7f720e6e8bd0"
      },
      "source": [
        "df[df.average_price < 100000].area.value_counts()"
      ],
      "execution_count": 40,
      "outputs": [
        {
          "output_type": "execute_result",
          "data": {
            "text/plain": [
              "north east              112\n",
              "north west              111\n",
              "yorks and the humber    110\n",
              "east midlands            96\n",
              "west midlands            94\n",
              "england                  87\n",
              "barking and dagenham     85\n",
              "south west               78\n",
              "east of england          76\n",
              "newham                   72\n",
              "bexley                   64\n",
              "waltham forest           64\n",
              "lewisham                 62\n",
              "havering                 60\n",
              "greenwich                59\n",
              "south east               59\n",
              "croydon                  57\n",
              "enfield                  54\n",
              "sutton                   54\n",
              "hackney                  53\n",
              "redbridge                52\n",
              "southwark                48\n",
              "tower hamlets            47\n",
              "outer london             46\n",
              "hillingdon               44\n",
              "hounslow                 41\n",
              "lambeth                  41\n",
              "brent                    40\n",
              "london                   39\n",
              "merton                   35\n",
              "haringey                 33\n",
              "bromley                  33\n",
              "inner london             31\n",
              "ealing                   31\n",
              "harrow                   30\n",
              "kingston upon thames     30\n",
              "wandsworth               26\n",
              "barnet                   25\n",
              "islington                19\n",
              "city of london           11\n",
              "Name: area, dtype: int64"
            ]
          },
          "metadata": {},
          "execution_count": 40
        }
      ]
    },
    {
      "cell_type": "code",
      "metadata": {
        "id": "Zu0TNNvQ5AvU"
      },
      "source": [
        ""
      ],
      "execution_count": null,
      "outputs": []
    }
  ]
}