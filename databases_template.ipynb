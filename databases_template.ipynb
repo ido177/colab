{
  "nbformat": 4,
  "nbformat_minor": 0,
  "metadata": {
    "colab": {
      "name": "databases_template.ipynb",
      "provenance": [],
      "collapsed_sections": [
        "KqEERNVm_Gao"
      ],
      "mount_file_id": "1dPskHaRRDGZGAi3dGAm0wrj67uEskO35",
      "authorship_tag": "ABX9TyO9Sn2b2fETwdWDUTBMgPfX",
      "include_colab_link": true
    },
    "kernelspec": {
      "name": "python3",
      "display_name": "Python 3"
    },
    "language_info": {
      "name": "python"
    }
  },
  "cells": [
    {
      "cell_type": "markdown",
      "metadata": {
        "id": "view-in-github",
        "colab_type": "text"
      },
      "source": [
        "<a href=\"https://colab.research.google.com/github/ido177/colab/blob/main/databases_template.ipynb\" target=\"_parent\"><img src=\"https://colab.research.google.com/assets/colab-badge.svg\" alt=\"Open In Colab\"/></a>"
      ]
    },
    {
      "cell_type": "code",
      "metadata": {
        "colab": {
          "base_uri": "https://localhost:8080/"
        },
        "id": "vTqXDtWSvyMZ",
        "outputId": "3a592672-f185-447e-f0fd-e084ad32c0cc"
      },
      "source": [
        "!gdown --id 1BSHIKQ7rFw5BpTq5nw1UZfjPK_7Mpnbi\n",
        "!mv _sqlite3.cpython-37m-x86_64-linux-gnu.so /usr/lib/python3.7/lib-dynload/\n",
        "import os\n",
        "os.kill(os.getpid(), 9)"
      ],
      "execution_count": null,
      "outputs": [
        {
          "output_type": "stream",
          "text": [
            "Downloading...\n",
            "From: https://drive.google.com/uc?id=1BSHIKQ7rFw5BpTq5nw1UZfjPK_7Mpnbi\n",
            "To: /content/_sqlite3.cpython-37m-x86_64-linux-gnu.so\n",
            "6.33MB [00:00, 20.1MB/s]\n"
          ],
          "name": "stdout"
        }
      ]
    },
    {
      "cell_type": "markdown",
      "metadata": {
        "id": "KqEERNVm_Gao"
      },
      "source": [
        "# Загрузка БД"
      ]
    },
    {
      "cell_type": "code",
      "metadata": {
        "id": "ySsVfKzVwueb"
      },
      "source": [
        "import pandas as pd\n",
        "import numpy as np\n",
        "import sqlite3"
      ],
      "execution_count": null,
      "outputs": []
    },
    {
      "cell_type": "code",
      "metadata": {
        "colab": {
          "base_uri": "https://localhost:8080/",
          "height": 37
        },
        "id": "GUHjuQcAw06k",
        "outputId": "7637d079-5ee6-411c-dc97-72a0fc92312e"
      },
      "source": [
        "sqlite3.sqlite_version"
      ],
      "execution_count": null,
      "outputs": [
        {
          "output_type": "execute_result",
          "data": {
            "application/vnd.google.colaboratory.intrinsic+json": {
              "type": "string"
            },
            "text/plain": [
              "'3.36.0'"
            ]
          },
          "metadata": {
            "tags": []
          },
          "execution_count": 2
        }
      ]
    },
    {
      "cell_type": "code",
      "metadata": {
        "id": "AYvN_7qxw5SG"
      },
      "source": [
        "con = sqlite3.connect('db')"
      ],
      "execution_count": null,
      "outputs": []
    },
    {
      "cell_type": "code",
      "metadata": {
        "colab": {
          "base_uri": "https://localhost:8080/"
        },
        "id": "MnFbAi3OxDPQ",
        "outputId": "b71e3a86-d8fa-4dd0-eddd-ea3a5f13205a"
      },
      "source": [
        "!gdown --id 1Gj0qVU0Acv-HqRjTIEwvkO4TqJYijehR"
      ],
      "execution_count": null,
      "outputs": [
        {
          "output_type": "stream",
          "text": [
            "Downloading...\n",
            "From: https://drive.google.com/uc?id=1Gj0qVU0Acv-HqRjTIEwvkO4TqJYijehR\n",
            "To: /content/german_credit_augmented.csv\n",
            "\r  0% 0.00/69.6k [00:00<?, ?B/s]\r100% 69.6k/69.6k [00:00<00:00, 1.09MB/s]\n"
          ],
          "name": "stdout"
        }
      ]
    },
    {
      "cell_type": "code",
      "metadata": {
        "id": "ckixlzzPxJO5"
      },
      "source": [
        "df = pd.read_csv('/content/german_credit_augmented.csv')"
      ],
      "execution_count": null,
      "outputs": []
    },
    {
      "cell_type": "code",
      "metadata": {
        "colab": {
          "base_uri": "https://localhost:8080/",
          "height": 309
        },
        "id": "q3sjQ3zVxX-y",
        "outputId": "c78cc5bc-34a0-4278-9f3f-ccd8a42c68c4"
      },
      "source": [
        "df.head()"
      ],
      "execution_count": null,
      "outputs": [
        {
          "output_type": "execute_result",
          "data": {
            "text/html": [
              "<div>\n",
              "<style scoped>\n",
              "    .dataframe tbody tr th:only-of-type {\n",
              "        vertical-align: middle;\n",
              "    }\n",
              "\n",
              "    .dataframe tbody tr th {\n",
              "        vertical-align: top;\n",
              "    }\n",
              "\n",
              "    .dataframe thead th {\n",
              "        text-align: right;\n",
              "    }\n",
              "</style>\n",
              "<table border=\"1\" class=\"dataframe\">\n",
              "  <thead>\n",
              "    <tr style=\"text-align: right;\">\n",
              "      <th></th>\n",
              "      <th>age</th>\n",
              "      <th>sex</th>\n",
              "      <th>job</th>\n",
              "      <th>housing</th>\n",
              "      <th>saving_accounts</th>\n",
              "      <th>checking_account</th>\n",
              "      <th>credit_amount</th>\n",
              "      <th>duration</th>\n",
              "      <th>purpose</th>\n",
              "      <th>default</th>\n",
              "      <th>contract_dt</th>\n",
              "      <th>client_id</th>\n",
              "    </tr>\n",
              "  </thead>\n",
              "  <tbody>\n",
              "    <tr>\n",
              "      <th>0</th>\n",
              "      <td>33</td>\n",
              "      <td>male</td>\n",
              "      <td>2</td>\n",
              "      <td>own</td>\n",
              "      <td>NaN</td>\n",
              "      <td>NaN</td>\n",
              "      <td>3074</td>\n",
              "      <td>9</td>\n",
              "      <td>radio/TV</td>\n",
              "      <td>0</td>\n",
              "      <td>2008-06-29 18:52:00</td>\n",
              "      <td>210</td>\n",
              "    </tr>\n",
              "    <tr>\n",
              "      <th>1</th>\n",
              "      <td>43</td>\n",
              "      <td>male</td>\n",
              "      <td>1</td>\n",
              "      <td>own</td>\n",
              "      <td>little</td>\n",
              "      <td>little</td>\n",
              "      <td>1344</td>\n",
              "      <td>12</td>\n",
              "      <td>car</td>\n",
              "      <td>0</td>\n",
              "      <td>2007-05-20 18:30:19</td>\n",
              "      <td>929</td>\n",
              "    </tr>\n",
              "    <tr>\n",
              "      <th>2</th>\n",
              "      <td>52</td>\n",
              "      <td>male</td>\n",
              "      <td>2</td>\n",
              "      <td>own</td>\n",
              "      <td>quite rich</td>\n",
              "      <td>NaN</td>\n",
              "      <td>936</td>\n",
              "      <td>9</td>\n",
              "      <td>education</td>\n",
              "      <td>0</td>\n",
              "      <td>2008-04-27 08:23:07</td>\n",
              "      <td>200</td>\n",
              "    </tr>\n",
              "    <tr>\n",
              "      <th>3</th>\n",
              "      <td>35</td>\n",
              "      <td>female</td>\n",
              "      <td>3</td>\n",
              "      <td>own</td>\n",
              "      <td>little</td>\n",
              "      <td>NaN</td>\n",
              "      <td>1393</td>\n",
              "      <td>11</td>\n",
              "      <td>car</td>\n",
              "      <td>0</td>\n",
              "      <td>2007-05-06 10:58:22</td>\n",
              "      <td>45</td>\n",
              "    </tr>\n",
              "    <tr>\n",
              "      <th>4</th>\n",
              "      <td>28</td>\n",
              "      <td>male</td>\n",
              "      <td>2</td>\n",
              "      <td>own</td>\n",
              "      <td>little</td>\n",
              "      <td>NaN</td>\n",
              "      <td>776</td>\n",
              "      <td>12</td>\n",
              "      <td>radio/TV</td>\n",
              "      <td>0</td>\n",
              "      <td>2007-07-21 13:22:14</td>\n",
              "      <td>358</td>\n",
              "    </tr>\n",
              "  </tbody>\n",
              "</table>\n",
              "</div>"
            ],
            "text/plain": [
              "   age     sex  job housing  ...    purpose default         contract_dt  client_id\n",
              "0   33    male    2     own  ...   radio/TV       0 2008-06-29 18:52:00        210\n",
              "1   43    male    1     own  ...        car       0 2007-05-20 18:30:19        929\n",
              "2   52    male    2     own  ...  education       0 2008-04-27 08:23:07        200\n",
              "3   35  female    3     own  ...        car       0 2007-05-06 10:58:22         45\n",
              "4   28    male    2     own  ...   radio/TV       0 2007-07-21 13:22:14        358\n",
              "\n",
              "[5 rows x 12 columns]"
            ]
          },
          "metadata": {
            "tags": []
          },
          "execution_count": 9
        }
      ]
    },
    {
      "cell_type": "markdown",
      "metadata": {
        "id": "oHOwQSYFx8Ll"
      },
      "source": [
        "head выводит 5 первых значений, tail - 5 последних\n"
      ]
    },
    {
      "cell_type": "code",
      "metadata": {
        "id": "ULWg9Z-yxgVI"
      },
      "source": [
        "df['contract_dt'] = pd.to_datetime(df['contract_dt'],format='%Y-%m-%d %H:%M:%S')"
      ],
      "execution_count": null,
      "outputs": []
    },
    {
      "cell_type": "markdown",
      "metadata": {
        "id": "mL5WvBthxyw5"
      },
      "source": [
        "to_datetime меняет формат данных в дату\n",
        "% помогает указать переменную"
      ]
    },
    {
      "cell_type": "code",
      "metadata": {
        "colab": {
          "base_uri": "https://localhost:8080/"
        },
        "id": "u-3hZmaJx6h7",
        "outputId": "1b3afa05-b4c2-4019-beb1-f1a7eb9799cb"
      },
      "source": [
        "df.dtypes"
      ],
      "execution_count": null,
      "outputs": [
        {
          "output_type": "execute_result",
          "data": {
            "text/plain": [
              "age                          int64\n",
              "sex                         object\n",
              "job                          int64\n",
              "housing                     object\n",
              "saving_accounts             object\n",
              "checking_account            object\n",
              "credit_amount                int64\n",
              "duration                     int64\n",
              "purpose                     object\n",
              "default                      int64\n",
              "contract_dt         datetime64[ns]\n",
              "client_id                    int64\n",
              "dtype: object"
            ]
          },
          "metadata": {
            "tags": []
          },
          "execution_count": 10
        }
      ]
    },
    {
      "cell_type": "markdown",
      "metadata": {
        "id": "XJ3VHR2NyMem"
      },
      "source": [
        "возможные типы данных"
      ]
    },
    {
      "cell_type": "code",
      "metadata": {
        "id": "PADdI3hSyO1i"
      },
      "source": [
        "df.to_sql('german_credit',con,index=False,if_exists='replace')"
      ],
      "execution_count": null,
      "outputs": []
    },
    {
      "cell_type": "markdown",
      "metadata": {
        "id": "QCeJ4UtgyrYw"
      },
      "source": [
        "Заливаем таблицу в БД\n",
        "Название, выбор бд, наличие индекса, замена существующих"
      ]
    },
    {
      "cell_type": "code",
      "metadata": {
        "id": "JPsdVMNOytV8"
      },
      "source": [
        "def select(sql):\n",
        "  return pd.read_sql(sql,con)"
      ],
      "execution_count": null,
      "outputs": []
    },
    {
      "cell_type": "markdown",
      "metadata": {
        "id": "RtjzF_kry57A"
      },
      "source": [
        "функция селекта"
      ]
    }
  ]
}