{
  "nbformat": 4,
  "nbformat_minor": 0,
  "metadata": {
    "colab": {
      "name": "Untitled2.ipynb",
      "provenance": [],
      "collapsed_sections": [
        "tGNQu9KuzCog"
      ],
      "mount_file_id": "1dPskHaRRDGZGAi3dGAm0wrj67uEskO35",
      "authorship_tag": "ABX9TyObshcEOVxXetTtvGU+SAV3",
      "include_colab_link": true
    },
    "kernelspec": {
      "name": "python3",
      "display_name": "Python 3"
    },
    "language_info": {
      "name": "python"
    }
  },
  "cells": [
    {
      "cell_type": "markdown",
      "metadata": {
        "id": "view-in-github",
        "colab_type": "text"
      },
      "source": [
        "<a href=\"https://colab.research.google.com/github/ido177/colab/blob/main/database/databases.ipynb\" target=\"_parent\"><img src=\"https://colab.research.google.com/assets/colab-badge.svg\" alt=\"Open In Colab\"/></a>"
      ]
    },
    {
      "cell_type": "code",
      "metadata": {
        "colab": {
          "base_uri": "https://localhost:8080/"
        },
        "id": "vTqXDtWSvyMZ",
        "outputId": "3a592672-f185-447e-f0fd-e084ad32c0cc"
      },
      "source": [
        "!gdown --id 1BSHIKQ7rFw5BpTq5nw1UZfjPK_7Mpnbi\n",
        "!mv _sqlite3.cpython-37m-x86_64-linux-gnu.so /usr/lib/python3.7/lib-dynload/\n",
        "import os\n",
        "os.kill(os.getpid(), 9)"
      ],
      "execution_count": null,
      "outputs": [
        {
          "output_type": "stream",
          "text": [
            "Downloading...\n",
            "From: https://drive.google.com/uc?id=1BSHIKQ7rFw5BpTq5nw1UZfjPK_7Mpnbi\n",
            "To: /content/_sqlite3.cpython-37m-x86_64-linux-gnu.so\n",
            "6.33MB [00:00, 20.1MB/s]\n"
          ],
          "name": "stdout"
        }
      ]
    },
    {
      "cell_type": "code",
      "metadata": {
        "id": "ySsVfKzVwueb"
      },
      "source": [
        "import pandas as pd\n",
        "import numpy as np\n",
        "import sqlite3"
      ],
      "execution_count": null,
      "outputs": []
    },
    {
      "cell_type": "code",
      "metadata": {
        "colab": {
          "base_uri": "https://localhost:8080/",
          "height": 37
        },
        "id": "GUHjuQcAw06k",
        "outputId": "7637d079-5ee6-411c-dc97-72a0fc92312e"
      },
      "source": [
        "sqlite3.sqlite_version"
      ],
      "execution_count": null,
      "outputs": [
        {
          "output_type": "execute_result",
          "data": {
            "application/vnd.google.colaboratory.intrinsic+json": {
              "type": "string"
            },
            "text/plain": [
              "'3.36.0'"
            ]
          },
          "metadata": {
            "tags": []
          },
          "execution_count": 2
        }
      ]
    },
    {
      "cell_type": "code",
      "metadata": {
        "id": "AYvN_7qxw5SG"
      },
      "source": [
        "con = sqlite3.connect('db')"
      ],
      "execution_count": null,
      "outputs": []
    },
    {
      "cell_type": "code",
      "metadata": {
        "colab": {
          "base_uri": "https://localhost:8080/"
        },
        "id": "MnFbAi3OxDPQ",
        "outputId": "b71e3a86-d8fa-4dd0-eddd-ea3a5f13205a"
      },
      "source": [
        "!gdown --id 1Gj0qVU0Acv-HqRjTIEwvkO4TqJYijehR"
      ],
      "execution_count": null,
      "outputs": [
        {
          "output_type": "stream",
          "text": [
            "Downloading...\n",
            "From: https://drive.google.com/uc?id=1Gj0qVU0Acv-HqRjTIEwvkO4TqJYijehR\n",
            "To: /content/german_credit_augmented.csv\n",
            "\r  0% 0.00/69.6k [00:00<?, ?B/s]\r100% 69.6k/69.6k [00:00<00:00, 1.09MB/s]\n"
          ],
          "name": "stdout"
        }
      ]
    },
    {
      "cell_type": "code",
      "metadata": {
        "id": "ckixlzzPxJO5"
      },
      "source": [
        "df = pd.read_csv('/content/german_credit_augmented.csv')"
      ],
      "execution_count": null,
      "outputs": []
    },
    {
      "cell_type": "code",
      "metadata": {
        "colab": {
          "base_uri": "https://localhost:8080/",
          "height": 309
        },
        "id": "q3sjQ3zVxX-y",
        "outputId": "c78cc5bc-34a0-4278-9f3f-ccd8a42c68c4"
      },
      "source": [
        "df.head()"
      ],
      "execution_count": null,
      "outputs": [
        {
          "output_type": "execute_result",
          "data": {
            "text/html": [
              "<div>\n",
              "<style scoped>\n",
              "    .dataframe tbody tr th:only-of-type {\n",
              "        vertical-align: middle;\n",
              "    }\n",
              "\n",
              "    .dataframe tbody tr th {\n",
              "        vertical-align: top;\n",
              "    }\n",
              "\n",
              "    .dataframe thead th {\n",
              "        text-align: right;\n",
              "    }\n",
              "</style>\n",
              "<table border=\"1\" class=\"dataframe\">\n",
              "  <thead>\n",
              "    <tr style=\"text-align: right;\">\n",
              "      <th></th>\n",
              "      <th>age</th>\n",
              "      <th>sex</th>\n",
              "      <th>job</th>\n",
              "      <th>housing</th>\n",
              "      <th>saving_accounts</th>\n",
              "      <th>checking_account</th>\n",
              "      <th>credit_amount</th>\n",
              "      <th>duration</th>\n",
              "      <th>purpose</th>\n",
              "      <th>default</th>\n",
              "      <th>contract_dt</th>\n",
              "      <th>client_id</th>\n",
              "    </tr>\n",
              "  </thead>\n",
              "  <tbody>\n",
              "    <tr>\n",
              "      <th>0</th>\n",
              "      <td>33</td>\n",
              "      <td>male</td>\n",
              "      <td>2</td>\n",
              "      <td>own</td>\n",
              "      <td>NaN</td>\n",
              "      <td>NaN</td>\n",
              "      <td>3074</td>\n",
              "      <td>9</td>\n",
              "      <td>radio/TV</td>\n",
              "      <td>0</td>\n",
              "      <td>2008-06-29 18:52:00</td>\n",
              "      <td>210</td>\n",
              "    </tr>\n",
              "    <tr>\n",
              "      <th>1</th>\n",
              "      <td>43</td>\n",
              "      <td>male</td>\n",
              "      <td>1</td>\n",
              "      <td>own</td>\n",
              "      <td>little</td>\n",
              "      <td>little</td>\n",
              "      <td>1344</td>\n",
              "      <td>12</td>\n",
              "      <td>car</td>\n",
              "      <td>0</td>\n",
              "      <td>2007-05-20 18:30:19</td>\n",
              "      <td>929</td>\n",
              "    </tr>\n",
              "    <tr>\n",
              "      <th>2</th>\n",
              "      <td>52</td>\n",
              "      <td>male</td>\n",
              "      <td>2</td>\n",
              "      <td>own</td>\n",
              "      <td>quite rich</td>\n",
              "      <td>NaN</td>\n",
              "      <td>936</td>\n",
              "      <td>9</td>\n",
              "      <td>education</td>\n",
              "      <td>0</td>\n",
              "      <td>2008-04-27 08:23:07</td>\n",
              "      <td>200</td>\n",
              "    </tr>\n",
              "    <tr>\n",
              "      <th>3</th>\n",
              "      <td>35</td>\n",
              "      <td>female</td>\n",
              "      <td>3</td>\n",
              "      <td>own</td>\n",
              "      <td>little</td>\n",
              "      <td>NaN</td>\n",
              "      <td>1393</td>\n",
              "      <td>11</td>\n",
              "      <td>car</td>\n",
              "      <td>0</td>\n",
              "      <td>2007-05-06 10:58:22</td>\n",
              "      <td>45</td>\n",
              "    </tr>\n",
              "    <tr>\n",
              "      <th>4</th>\n",
              "      <td>28</td>\n",
              "      <td>male</td>\n",
              "      <td>2</td>\n",
              "      <td>own</td>\n",
              "      <td>little</td>\n",
              "      <td>NaN</td>\n",
              "      <td>776</td>\n",
              "      <td>12</td>\n",
              "      <td>radio/TV</td>\n",
              "      <td>0</td>\n",
              "      <td>2007-07-21 13:22:14</td>\n",
              "      <td>358</td>\n",
              "    </tr>\n",
              "  </tbody>\n",
              "</table>\n",
              "</div>"
            ],
            "text/plain": [
              "   age     sex  job housing  ...    purpose default         contract_dt  client_id\n",
              "0   33    male    2     own  ...   radio/TV       0 2008-06-29 18:52:00        210\n",
              "1   43    male    1     own  ...        car       0 2007-05-20 18:30:19        929\n",
              "2   52    male    2     own  ...  education       0 2008-04-27 08:23:07        200\n",
              "3   35  female    3     own  ...        car       0 2007-05-06 10:58:22         45\n",
              "4   28    male    2     own  ...   radio/TV       0 2007-07-21 13:22:14        358\n",
              "\n",
              "[5 rows x 12 columns]"
            ]
          },
          "metadata": {
            "tags": []
          },
          "execution_count": 9
        }
      ]
    },
    {
      "cell_type": "markdown",
      "metadata": {
        "id": "oHOwQSYFx8Ll"
      },
      "source": [
        "head выводит 5 первых значений, tail - 5 последних\n"
      ]
    },
    {
      "cell_type": "code",
      "metadata": {
        "id": "ULWg9Z-yxgVI"
      },
      "source": [
        "df['contract_dt'] = pd.to_datetime(df['contract_dt'],format='%Y-%m-%d %H:%M:%S')"
      ],
      "execution_count": null,
      "outputs": []
    },
    {
      "cell_type": "markdown",
      "metadata": {
        "id": "mL5WvBthxyw5"
      },
      "source": [
        "to_datetime меняет формат данных в дату\n",
        "% помогает указать переменную"
      ]
    },
    {
      "cell_type": "code",
      "metadata": {
        "colab": {
          "base_uri": "https://localhost:8080/"
        },
        "id": "u-3hZmaJx6h7",
        "outputId": "1b3afa05-b4c2-4019-beb1-f1a7eb9799cb"
      },
      "source": [
        "df.dtypes"
      ],
      "execution_count": null,
      "outputs": [
        {
          "output_type": "execute_result",
          "data": {
            "text/plain": [
              "age                          int64\n",
              "sex                         object\n",
              "job                          int64\n",
              "housing                     object\n",
              "saving_accounts             object\n",
              "checking_account            object\n",
              "credit_amount                int64\n",
              "duration                     int64\n",
              "purpose                     object\n",
              "default                      int64\n",
              "contract_dt         datetime64[ns]\n",
              "client_id                    int64\n",
              "dtype: object"
            ]
          },
          "metadata": {
            "tags": []
          },
          "execution_count": 10
        }
      ]
    },
    {
      "cell_type": "markdown",
      "metadata": {
        "id": "XJ3VHR2NyMem"
      },
      "source": [
        "возможные типы данных"
      ]
    },
    {
      "cell_type": "code",
      "metadata": {
        "id": "PADdI3hSyO1i"
      },
      "source": [
        "df.to_sql('german_credit',con,index=False,if_exists='replace')"
      ],
      "execution_count": null,
      "outputs": []
    },
    {
      "cell_type": "markdown",
      "metadata": {
        "id": "QCeJ4UtgyrYw"
      },
      "source": [
        "Заливаем таблицу в БД\n",
        "Название, выбор бд, наличие индекса, замена существующих"
      ]
    },
    {
      "cell_type": "code",
      "metadata": {
        "id": "JPsdVMNOytV8"
      },
      "source": [
        "def select(sql):\n",
        "  return pd.read_sql(sql,con)"
      ],
      "execution_count": null,
      "outputs": []
    },
    {
      "cell_type": "markdown",
      "metadata": {
        "id": "RtjzF_kry57A"
      },
      "source": [
        "функция селекта"
      ]
    },
    {
      "cell_type": "markdown",
      "metadata": {
        "id": "tGNQu9KuzCog"
      },
      "source": [
        "# Селект к таблице"
      ]
    },
    {
      "cell_type": "code",
      "metadata": {
        "id": "n4ewTxFnzIGR"
      },
      "source": [
        "sql = '''select t.* from german_credit t limit 5'''"
      ],
      "execution_count": null,
      "outputs": []
    },
    {
      "cell_type": "code",
      "metadata": {
        "colab": {
          "base_uri": "https://localhost:8080/",
          "height": 309
        },
        "id": "iHNgS5ivzONy",
        "outputId": "c2d9f082-d9c0-4c04-c4b7-40e53225aac4"
      },
      "source": [
        "select(sql)"
      ],
      "execution_count": null,
      "outputs": [
        {
          "output_type": "execute_result",
          "data": {
            "text/html": [
              "<div>\n",
              "<style scoped>\n",
              "    .dataframe tbody tr th:only-of-type {\n",
              "        vertical-align: middle;\n",
              "    }\n",
              "\n",
              "    .dataframe tbody tr th {\n",
              "        vertical-align: top;\n",
              "    }\n",
              "\n",
              "    .dataframe thead th {\n",
              "        text-align: right;\n",
              "    }\n",
              "</style>\n",
              "<table border=\"1\" class=\"dataframe\">\n",
              "  <thead>\n",
              "    <tr style=\"text-align: right;\">\n",
              "      <th></th>\n",
              "      <th>age</th>\n",
              "      <th>sex</th>\n",
              "      <th>job</th>\n",
              "      <th>housing</th>\n",
              "      <th>saving_accounts</th>\n",
              "      <th>checking_account</th>\n",
              "      <th>credit_amount</th>\n",
              "      <th>duration</th>\n",
              "      <th>purpose</th>\n",
              "      <th>default</th>\n",
              "      <th>contract_dt</th>\n",
              "      <th>client_id</th>\n",
              "    </tr>\n",
              "  </thead>\n",
              "  <tbody>\n",
              "    <tr>\n",
              "      <th>0</th>\n",
              "      <td>33</td>\n",
              "      <td>male</td>\n",
              "      <td>2</td>\n",
              "      <td>own</td>\n",
              "      <td>None</td>\n",
              "      <td>None</td>\n",
              "      <td>3074</td>\n",
              "      <td>9</td>\n",
              "      <td>radio/TV</td>\n",
              "      <td>0</td>\n",
              "      <td>2008-06-29 18:52:00</td>\n",
              "      <td>210</td>\n",
              "    </tr>\n",
              "    <tr>\n",
              "      <th>1</th>\n",
              "      <td>43</td>\n",
              "      <td>male</td>\n",
              "      <td>1</td>\n",
              "      <td>own</td>\n",
              "      <td>little</td>\n",
              "      <td>little</td>\n",
              "      <td>1344</td>\n",
              "      <td>12</td>\n",
              "      <td>car</td>\n",
              "      <td>0</td>\n",
              "      <td>2007-05-20 18:30:19</td>\n",
              "      <td>929</td>\n",
              "    </tr>\n",
              "    <tr>\n",
              "      <th>2</th>\n",
              "      <td>52</td>\n",
              "      <td>male</td>\n",
              "      <td>2</td>\n",
              "      <td>own</td>\n",
              "      <td>quite rich</td>\n",
              "      <td>None</td>\n",
              "      <td>936</td>\n",
              "      <td>9</td>\n",
              "      <td>education</td>\n",
              "      <td>0</td>\n",
              "      <td>2008-04-27 08:23:07</td>\n",
              "      <td>200</td>\n",
              "    </tr>\n",
              "    <tr>\n",
              "      <th>3</th>\n",
              "      <td>35</td>\n",
              "      <td>female</td>\n",
              "      <td>3</td>\n",
              "      <td>own</td>\n",
              "      <td>little</td>\n",
              "      <td>None</td>\n",
              "      <td>1393</td>\n",
              "      <td>11</td>\n",
              "      <td>car</td>\n",
              "      <td>0</td>\n",
              "      <td>2007-05-06 10:58:22</td>\n",
              "      <td>45</td>\n",
              "    </tr>\n",
              "    <tr>\n",
              "      <th>4</th>\n",
              "      <td>28</td>\n",
              "      <td>male</td>\n",
              "      <td>2</td>\n",
              "      <td>own</td>\n",
              "      <td>little</td>\n",
              "      <td>None</td>\n",
              "      <td>776</td>\n",
              "      <td>12</td>\n",
              "      <td>radio/TV</td>\n",
              "      <td>0</td>\n",
              "      <td>2007-07-21 13:22:14</td>\n",
              "      <td>358</td>\n",
              "    </tr>\n",
              "  </tbody>\n",
              "</table>\n",
              "</div>"
            ],
            "text/plain": [
              "   age     sex  job housing  ...    purpose default          contract_dt  client_id\n",
              "0   33    male    2     own  ...   radio/TV       0  2008-06-29 18:52:00        210\n",
              "1   43    male    1     own  ...        car       0  2007-05-20 18:30:19        929\n",
              "2   52    male    2     own  ...  education       0  2008-04-27 08:23:07        200\n",
              "3   35  female    3     own  ...        car       0  2007-05-06 10:58:22         45\n",
              "4   28    male    2     own  ...   radio/TV       0  2007-07-21 13:22:14        358\n",
              "\n",
              "[5 rows x 12 columns]"
            ]
          },
          "metadata": {
            "tags": []
          },
          "execution_count": 14
        }
      ]
    },
    {
      "cell_type": "code",
      "metadata": {
        "id": "iq6Rg9mgzYRA"
      },
      "source": [
        "t = select(sql)"
      ],
      "execution_count": null,
      "outputs": []
    },
    {
      "cell_type": "code",
      "metadata": {
        "colab": {
          "base_uri": "https://localhost:8080/"
        },
        "id": "edjkmFEj0f0w",
        "outputId": "f9a63443-11b8-4e8a-bbcb-b0f9540d6f47"
      },
      "source": [
        "! ls -l ."
      ],
      "execution_count": null,
      "outputs": [
        {
          "output_type": "stream",
          "text": [
            "total 156\n",
            "-rw-r--r-- 1 root root 81920 Aug 15 12:30 db\n",
            "drwx------ 5 root root  4096 Aug 15 12:37 drive\n",
            "-rw-r--r-- 1 root root 69563 Aug 15 12:24 german_credit_augmented.csv\n",
            "drwxr-xr-x 1 root root  4096 Jul 16 13:20 sample_data\n"
          ],
          "name": "stdout"
        }
      ]
    },
    {
      "cell_type": "code",
      "metadata": {
        "id": "lXEm8NyG1IXJ"
      },
      "source": [
        "!mkdir -p '/content/drive/MyDrive/data/'"
      ],
      "execution_count": null,
      "outputs": []
    },
    {
      "cell_type": "code",
      "metadata": {
        "id": "rxNCgAlk0z56"
      },
      "source": [
        "con = sqlite3.connect('/content/drive/MyDrive/data/german_credit.db')"
      ],
      "execution_count": null,
      "outputs": []
    },
    {
      "cell_type": "code",
      "metadata": {
        "id": "Jkn2IvAv1a5B"
      },
      "source": [
        "df.sample(2).to_sql('german_credit', con, index=False, if_exists='replace')"
      ],
      "execution_count": null,
      "outputs": []
    },
    {
      "cell_type": "markdown",
      "metadata": {
        "id": "pMl6V6Tj3Lv2"
      },
      "source": [
        "Заливаем не полную таблицу, а сэмпл из 2 строк(рандомные)"
      ]
    },
    {
      "cell_type": "code",
      "metadata": {
        "colab": {
          "base_uri": "https://localhost:8080/",
          "height": 165
        },
        "id": "DdYMM9Aw2LIi",
        "outputId": "a117ad63-fe15-43ae-c4b3-9aca1ae9e342"
      },
      "source": [
        "select(sql)"
      ],
      "execution_count": null,
      "outputs": [
        {
          "output_type": "execute_result",
          "data": {
            "text/html": [
              "<div>\n",
              "<style scoped>\n",
              "    .dataframe tbody tr th:only-of-type {\n",
              "        vertical-align: middle;\n",
              "    }\n",
              "\n",
              "    .dataframe tbody tr th {\n",
              "        vertical-align: top;\n",
              "    }\n",
              "\n",
              "    .dataframe thead th {\n",
              "        text-align: right;\n",
              "    }\n",
              "</style>\n",
              "<table border=\"1\" class=\"dataframe\">\n",
              "  <thead>\n",
              "    <tr style=\"text-align: right;\">\n",
              "      <th></th>\n",
              "      <th>age</th>\n",
              "      <th>sex</th>\n",
              "      <th>job</th>\n",
              "      <th>housing</th>\n",
              "      <th>saving_accounts</th>\n",
              "      <th>checking_account</th>\n",
              "      <th>credit_amount</th>\n",
              "      <th>duration</th>\n",
              "      <th>purpose</th>\n",
              "      <th>default</th>\n",
              "      <th>contract_dt</th>\n",
              "      <th>client_id</th>\n",
              "    </tr>\n",
              "  </thead>\n",
              "  <tbody>\n",
              "    <tr>\n",
              "      <th>0</th>\n",
              "      <td>25</td>\n",
              "      <td>female</td>\n",
              "      <td>1</td>\n",
              "      <td>own</td>\n",
              "      <td>little</td>\n",
              "      <td>moderate</td>\n",
              "      <td>4736</td>\n",
              "      <td>24</td>\n",
              "      <td>furniture/equipment</td>\n",
              "      <td>1</td>\n",
              "      <td>2007-09-23 20:18:57</td>\n",
              "      <td>911</td>\n",
              "    </tr>\n",
              "    <tr>\n",
              "      <th>1</th>\n",
              "      <td>23</td>\n",
              "      <td>female</td>\n",
              "      <td>0</td>\n",
              "      <td>rent</td>\n",
              "      <td>quite rich</td>\n",
              "      <td>moderate</td>\n",
              "      <td>3758</td>\n",
              "      <td>24</td>\n",
              "      <td>radio/TV</td>\n",
              "      <td>0</td>\n",
              "      <td>2008-01-30 11:15:04</td>\n",
              "      <td>347</td>\n",
              "    </tr>\n",
              "  </tbody>\n",
              "</table>\n",
              "</div>"
            ],
            "text/plain": [
              "   age     sex  job  ... default          contract_dt client_id\n",
              "0   25  female    1  ...       1  2007-09-23 20:18:57       911\n",
              "1   23  female    0  ...       0  2008-01-30 11:15:04       347\n",
              "\n",
              "[2 rows x 12 columns]"
            ]
          },
          "metadata": {
            "tags": []
          },
          "execution_count": 34
        }
      ]
    },
    {
      "cell_type": "markdown",
      "metadata": {
        "id": "eEyTatGa3w6z"
      },
      "source": [
        "# Создаем данные"
      ]
    },
    {
      "cell_type": "code",
      "metadata": {
        "id": "F_-I2Bzu31hF"
      },
      "source": [
        "import pandas as pd"
      ],
      "execution_count": null,
      "outputs": []
    },
    {
      "cell_type": "code",
      "metadata": {
        "id": "LKTTZP4K4At1"
      },
      "source": [
        "df = pd.DataFrame({'col1': [1,2,3],\n",
        "                   'col2': ['a', 'b', 'c']})"
      ],
      "execution_count": null,
      "outputs": []
    },
    {
      "cell_type": "markdown",
      "metadata": {
        "id": "5dGrJD0I4akJ"
      },
      "source": [
        "key: value of table"
      ]
    },
    {
      "cell_type": "code",
      "metadata": {
        "colab": {
          "base_uri": "https://localhost:8080/",
          "height": 142
        },
        "id": "QdjZD-O-4LGl",
        "outputId": "f679cee1-aa68-498c-bfb5-1a9f260c0713"
      },
      "source": [
        "df"
      ],
      "execution_count": null,
      "outputs": [
        {
          "output_type": "execute_result",
          "data": {
            "text/html": [
              "<div>\n",
              "<style scoped>\n",
              "    .dataframe tbody tr th:only-of-type {\n",
              "        vertical-align: middle;\n",
              "    }\n",
              "\n",
              "    .dataframe tbody tr th {\n",
              "        vertical-align: top;\n",
              "    }\n",
              "\n",
              "    .dataframe thead th {\n",
              "        text-align: right;\n",
              "    }\n",
              "</style>\n",
              "<table border=\"1\" class=\"dataframe\">\n",
              "  <thead>\n",
              "    <tr style=\"text-align: right;\">\n",
              "      <th></th>\n",
              "      <th>col1</th>\n",
              "      <th>col2</th>\n",
              "    </tr>\n",
              "  </thead>\n",
              "  <tbody>\n",
              "    <tr>\n",
              "      <th>0</th>\n",
              "      <td>1</td>\n",
              "      <td>a</td>\n",
              "    </tr>\n",
              "    <tr>\n",
              "      <th>1</th>\n",
              "      <td>2</td>\n",
              "      <td>b</td>\n",
              "    </tr>\n",
              "    <tr>\n",
              "      <th>2</th>\n",
              "      <td>3</td>\n",
              "      <td>c</td>\n",
              "    </tr>\n",
              "  </tbody>\n",
              "</table>\n",
              "</div>"
            ],
            "text/plain": [
              "   col1 col2\n",
              "0     1    a\n",
              "1     2    b\n",
              "2     3    c"
            ]
          },
          "metadata": {
            "tags": []
          },
          "execution_count": 40
        }
      ]
    },
    {
      "cell_type": "code",
      "metadata": {
        "id": "d0uDP3Xv4gdg"
      },
      "source": [
        "df.to_sql('users', con, index=False, if_exists='replace')"
      ],
      "execution_count": null,
      "outputs": []
    },
    {
      "cell_type": "markdown",
      "metadata": {
        "id": "KUHA504g4z6A"
      },
      "source": [
        "Заливаем датафрейм в таблицу юзерс"
      ]
    },
    {
      "cell_type": "code",
      "metadata": {
        "id": "_63-V6VM4pE3"
      },
      "source": [
        "sql = '''select * from users t'''"
      ],
      "execution_count": null,
      "outputs": []
    },
    {
      "cell_type": "code",
      "metadata": {
        "colab": {
          "base_uri": "https://localhost:8080/",
          "height": 142
        },
        "id": "vtmoCW5F4sfo",
        "outputId": "4dc4ce25-8aec-47f1-9295-3393d348b9a1"
      },
      "source": [
        "pd.read_sql(sql, con)"
      ],
      "execution_count": null,
      "outputs": [
        {
          "output_type": "execute_result",
          "data": {
            "text/html": [
              "<div>\n",
              "<style scoped>\n",
              "    .dataframe tbody tr th:only-of-type {\n",
              "        vertical-align: middle;\n",
              "    }\n",
              "\n",
              "    .dataframe tbody tr th {\n",
              "        vertical-align: top;\n",
              "    }\n",
              "\n",
              "    .dataframe thead th {\n",
              "        text-align: right;\n",
              "    }\n",
              "</style>\n",
              "<table border=\"1\" class=\"dataframe\">\n",
              "  <thead>\n",
              "    <tr style=\"text-align: right;\">\n",
              "      <th></th>\n",
              "      <th>col1</th>\n",
              "      <th>col2</th>\n",
              "    </tr>\n",
              "  </thead>\n",
              "  <tbody>\n",
              "    <tr>\n",
              "      <th>0</th>\n",
              "      <td>1</td>\n",
              "      <td>a</td>\n",
              "    </tr>\n",
              "    <tr>\n",
              "      <th>1</th>\n",
              "      <td>2</td>\n",
              "      <td>b</td>\n",
              "    </tr>\n",
              "    <tr>\n",
              "      <th>2</th>\n",
              "      <td>3</td>\n",
              "      <td>c</td>\n",
              "    </tr>\n",
              "  </tbody>\n",
              "</table>\n",
              "</div>"
            ],
            "text/plain": [
              "   col1 col2\n",
              "0     1    a\n",
              "1     2    b\n",
              "2     3    c"
            ]
          },
          "metadata": {
            "tags": []
          },
          "execution_count": 47
        }
      ]
    },
    {
      "cell_type": "code",
      "metadata": {
        "colab": {
          "base_uri": "https://localhost:8080/",
          "height": 142
        },
        "id": "3uoEVw3G5T5X",
        "outputId": "e1551752-1e03-4914-feca-843f22f47a88"
      },
      "source": [
        "select(sql)"
      ],
      "execution_count": null,
      "outputs": [
        {
          "output_type": "execute_result",
          "data": {
            "text/html": [
              "<div>\n",
              "<style scoped>\n",
              "    .dataframe tbody tr th:only-of-type {\n",
              "        vertical-align: middle;\n",
              "    }\n",
              "\n",
              "    .dataframe tbody tr th {\n",
              "        vertical-align: top;\n",
              "    }\n",
              "\n",
              "    .dataframe thead th {\n",
              "        text-align: right;\n",
              "    }\n",
              "</style>\n",
              "<table border=\"1\" class=\"dataframe\">\n",
              "  <thead>\n",
              "    <tr style=\"text-align: right;\">\n",
              "      <th></th>\n",
              "      <th>col1</th>\n",
              "      <th>col2</th>\n",
              "    </tr>\n",
              "  </thead>\n",
              "  <tbody>\n",
              "    <tr>\n",
              "      <th>0</th>\n",
              "      <td>1</td>\n",
              "      <td>a</td>\n",
              "    </tr>\n",
              "    <tr>\n",
              "      <th>1</th>\n",
              "      <td>2</td>\n",
              "      <td>b</td>\n",
              "    </tr>\n",
              "    <tr>\n",
              "      <th>2</th>\n",
              "      <td>3</td>\n",
              "      <td>c</td>\n",
              "    </tr>\n",
              "  </tbody>\n",
              "</table>\n",
              "</div>"
            ],
            "text/plain": [
              "   col1 col2\n",
              "0     1    a\n",
              "1     2    b\n",
              "2     3    c"
            ]
          },
          "metadata": {
            "tags": []
          },
          "execution_count": 48
        }
      ]
    },
    {
      "cell_type": "code",
      "metadata": {
        "id": "j1lKPufn5uhO"
      },
      "source": [
        "id = '18ndcpusUcr2EuyuMhWvb1ftPwqIxL4ySV7vBufinLK4'"
      ],
      "execution_count": null,
      "outputs": []
    },
    {
      "cell_type": "code",
      "metadata": {
        "id": "kC8GeIuc58vR"
      },
      "source": [
        "df = pd.read_csv(f'https://docs.google.com/spreadsheets/d/{id}/export?format=csv')"
      ],
      "execution_count": null,
      "outputs": []
    },
    {
      "cell_type": "code",
      "metadata": {
        "colab": {
          "base_uri": "https://localhost:8080/",
          "height": 142
        },
        "id": "MUE0f7ET6Bh1",
        "outputId": "0dc66247-ed81-4aa8-88c5-7227c1c7e244"
      },
      "source": [
        "df"
      ],
      "execution_count": null,
      "outputs": [
        {
          "output_type": "execute_result",
          "data": {
            "text/html": [
              "<div>\n",
              "<style scoped>\n",
              "    .dataframe tbody tr th:only-of-type {\n",
              "        vertical-align: middle;\n",
              "    }\n",
              "\n",
              "    .dataframe tbody tr th {\n",
              "        vertical-align: top;\n",
              "    }\n",
              "\n",
              "    .dataframe thead th {\n",
              "        text-align: right;\n",
              "    }\n",
              "</style>\n",
              "<table border=\"1\" class=\"dataframe\">\n",
              "  <thead>\n",
              "    <tr style=\"text-align: right;\">\n",
              "      <th></th>\n",
              "      <th>user_id</th>\n",
              "      <th>name</th>\n",
              "    </tr>\n",
              "  </thead>\n",
              "  <tbody>\n",
              "    <tr>\n",
              "      <th>0</th>\n",
              "      <td>2</td>\n",
              "      <td>b</td>\n",
              "    </tr>\n",
              "    <tr>\n",
              "      <th>1</th>\n",
              "      <td>3</td>\n",
              "      <td>c</td>\n",
              "    </tr>\n",
              "    <tr>\n",
              "      <th>2</th>\n",
              "      <td>4</td>\n",
              "      <td>d</td>\n",
              "    </tr>\n",
              "  </tbody>\n",
              "</table>\n",
              "</div>"
            ],
            "text/plain": [
              "   user_id name\n",
              "0        2    b\n",
              "1        3    c\n",
              "2        4    d"
            ]
          },
          "metadata": {
            "tags": []
          },
          "execution_count": 52
        }
      ]
    },
    {
      "cell_type": "code",
      "metadata": {
        "id": "T3O-C8Qa6MVc"
      },
      "source": [
        "df.to_sql('users2',con,index=False,if_exists='replace')"
      ],
      "execution_count": null,
      "outputs": []
    },
    {
      "cell_type": "code",
      "metadata": {
        "id": "euvflF6i6Xw4"
      },
      "source": [
        "sql = '''select * from users2 t'''"
      ],
      "execution_count": null,
      "outputs": []
    },
    {
      "cell_type": "code",
      "metadata": {
        "id": "uPUjNKTF6awK",
        "colab": {
          "base_uri": "https://localhost:8080/",
          "height": 142
        },
        "outputId": "08442c0c-487e-4b81-966d-45d2d2d9e258"
      },
      "source": [
        "select(sql)"
      ],
      "execution_count": null,
      "outputs": [
        {
          "output_type": "execute_result",
          "data": {
            "text/html": [
              "<div>\n",
              "<style scoped>\n",
              "    .dataframe tbody tr th:only-of-type {\n",
              "        vertical-align: middle;\n",
              "    }\n",
              "\n",
              "    .dataframe tbody tr th {\n",
              "        vertical-align: top;\n",
              "    }\n",
              "\n",
              "    .dataframe thead th {\n",
              "        text-align: right;\n",
              "    }\n",
              "</style>\n",
              "<table border=\"1\" class=\"dataframe\">\n",
              "  <thead>\n",
              "    <tr style=\"text-align: right;\">\n",
              "      <th></th>\n",
              "      <th>user_id</th>\n",
              "      <th>name</th>\n",
              "    </tr>\n",
              "  </thead>\n",
              "  <tbody>\n",
              "    <tr>\n",
              "      <th>0</th>\n",
              "      <td>2</td>\n",
              "      <td>b</td>\n",
              "    </tr>\n",
              "    <tr>\n",
              "      <th>1</th>\n",
              "      <td>3</td>\n",
              "      <td>c</td>\n",
              "    </tr>\n",
              "    <tr>\n",
              "      <th>2</th>\n",
              "      <td>4</td>\n",
              "      <td>d</td>\n",
              "    </tr>\n",
              "  </tbody>\n",
              "</table>\n",
              "</div>"
            ],
            "text/plain": [
              "   user_id name\n",
              "0        2    b\n",
              "1        3    c\n",
              "2        4    d"
            ]
          },
          "metadata": {
            "tags": []
          },
          "execution_count": 55
        }
      ]
    }
  ]
}