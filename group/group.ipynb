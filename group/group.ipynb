{
  "nbformat": 4,
  "nbformat_minor": 0,
  "metadata": {
    "colab": {
      "name": "group.ipynb",
      "provenance": [],
      "collapsed_sections": [
        "KqEERNVm_Gao"
      ],
      "mount_file_id": "1dPskHaRRDGZGAi3dGAm0wrj67uEskO35",
      "authorship_tag": "ABX9TyONmZfhMZwXm9TJaCwTHKiy",
      "include_colab_link": true
    },
    "kernelspec": {
      "name": "python3",
      "display_name": "Python 3"
    },
    "language_info": {
      "name": "python"
    }
  },
  "cells": [
    {
      "cell_type": "markdown",
      "metadata": {
        "id": "view-in-github",
        "colab_type": "text"
      },
      "source": [
        "<a href=\"https://colab.research.google.com/github/ido177/colab/blob/main/group/group.ipynb\" target=\"_parent\"><img src=\"https://colab.research.google.com/assets/colab-badge.svg\" alt=\"Open In Colab\"/></a>"
      ]
    },
    {
      "cell_type": "code",
      "metadata": {
        "colab": {
          "base_uri": "https://localhost:8080/"
        },
        "id": "vTqXDtWSvyMZ",
        "outputId": "f186e0ea-f29c-429e-8b9f-f18ac338280c"
      },
      "source": [
        "!gdown --id 1BSHIKQ7rFw5BpTq5nw1UZfjPK_7Mpnbi\n",
        "!mv _sqlite3.cpython-37m-x86_64-linux-gnu.so /usr/lib/python3.7/lib-dynload/\n",
        "import os\n",
        "os.kill(os.getpid(), 9)"
      ],
      "execution_count": null,
      "outputs": [
        {
          "output_type": "stream",
          "text": [
            "Downloading...\n",
            "From: https://drive.google.com/uc?id=1BSHIKQ7rFw5BpTq5nw1UZfjPK_7Mpnbi\n",
            "To: /content/_sqlite3.cpython-37m-x86_64-linux-gnu.so\n",
            "\r0.00B [00:00, ?B/s]\r6.33MB [00:00, 99.9MB/s]\n"
          ],
          "name": "stdout"
        }
      ]
    },
    {
      "cell_type": "markdown",
      "metadata": {
        "id": "KqEERNVm_Gao"
      },
      "source": [
        "# Загрузка БД"
      ]
    },
    {
      "cell_type": "code",
      "metadata": {
        "id": "ySsVfKzVwueb"
      },
      "source": [
        "import pandas as pd\n",
        "import numpy as np\n",
        "import sqlite3"
      ],
      "execution_count": 1,
      "outputs": []
    },
    {
      "cell_type": "code",
      "metadata": {
        "colab": {
          "base_uri": "https://localhost:8080/",
          "height": 193
        },
        "id": "GUHjuQcAw06k",
        "outputId": "4ffb963f-3643-4fcf-bfe2-fc7ebdcc3436"
      },
      "source": [
        "sqlite3.sqlite_version"
      ],
      "execution_count": 2,
      "outputs": [
        {
          "output_type": "execute_result",
          "data": {
            "application/vnd.google.colaboratory.intrinsic+json": {
              "type": "string"
            },
            "text/plain": [
              "'3.36.0'"
            ]
          },
          "metadata": {
            "tags": []
          },
          "execution_count": 2
        }
      ]
    },
    {
      "cell_type": "code",
      "metadata": {
        "id": "AYvN_7qxw5SG"
      },
      "source": [
        "con = sqlite3.connect('db')"
      ],
      "execution_count": 3,
      "outputs": []
    },
    {
      "cell_type": "code",
      "metadata": {
        "colab": {
          "base_uri": "https://localhost:8080/"
        },
        "id": "MnFbAi3OxDPQ",
        "outputId": "b43f398f-4689-4191-a7a0-f9aa9349dcf3"
      },
      "source": [
        "!gdown --id 1Gj0qVU0Acv-HqRjTIEwvkO4TqJYijehR"
      ],
      "execution_count": 4,
      "outputs": [
        {
          "output_type": "stream",
          "text": [
            "Downloading...\n",
            "From: https://drive.google.com/uc?id=1Gj0qVU0Acv-HqRjTIEwvkO4TqJYijehR\n",
            "To: /content/german_credit_augmented.csv\n",
            "\r  0% 0.00/69.6k [00:00<?, ?B/s]\r100% 69.6k/69.6k [00:00<00:00, 25.0MB/s]\n"
          ],
          "name": "stdout"
        }
      ]
    },
    {
      "cell_type": "code",
      "metadata": {
        "id": "ckixlzzPxJO5"
      },
      "source": [
        "df = pd.read_csv('/content/german_credit_augmented.csv')"
      ],
      "execution_count": 5,
      "outputs": []
    },
    {
      "cell_type": "code",
      "metadata": {
        "colab": {
          "base_uri": "https://localhost:8080/",
          "height": 309
        },
        "id": "q3sjQ3zVxX-y",
        "outputId": "50e9cf95-4c8d-4de2-f4e5-04801de095d1"
      },
      "source": [
        "df.head()"
      ],
      "execution_count": 6,
      "outputs": [
        {
          "output_type": "execute_result",
          "data": {
            "text/html": [
              "<div>\n",
              "<style scoped>\n",
              "    .dataframe tbody tr th:only-of-type {\n",
              "        vertical-align: middle;\n",
              "    }\n",
              "\n",
              "    .dataframe tbody tr th {\n",
              "        vertical-align: top;\n",
              "    }\n",
              "\n",
              "    .dataframe thead th {\n",
              "        text-align: right;\n",
              "    }\n",
              "</style>\n",
              "<table border=\"1\" class=\"dataframe\">\n",
              "  <thead>\n",
              "    <tr style=\"text-align: right;\">\n",
              "      <th></th>\n",
              "      <th>age</th>\n",
              "      <th>sex</th>\n",
              "      <th>job</th>\n",
              "      <th>housing</th>\n",
              "      <th>saving_accounts</th>\n",
              "      <th>checking_account</th>\n",
              "      <th>credit_amount</th>\n",
              "      <th>duration</th>\n",
              "      <th>purpose</th>\n",
              "      <th>default</th>\n",
              "      <th>contract_dt</th>\n",
              "      <th>client_id</th>\n",
              "    </tr>\n",
              "  </thead>\n",
              "  <tbody>\n",
              "    <tr>\n",
              "      <th>0</th>\n",
              "      <td>33</td>\n",
              "      <td>male</td>\n",
              "      <td>2</td>\n",
              "      <td>own</td>\n",
              "      <td>NaN</td>\n",
              "      <td>NaN</td>\n",
              "      <td>3074</td>\n",
              "      <td>9</td>\n",
              "      <td>radio/TV</td>\n",
              "      <td>0</td>\n",
              "      <td>2008-06-29 18:52:00</td>\n",
              "      <td>210</td>\n",
              "    </tr>\n",
              "    <tr>\n",
              "      <th>1</th>\n",
              "      <td>43</td>\n",
              "      <td>male</td>\n",
              "      <td>1</td>\n",
              "      <td>own</td>\n",
              "      <td>little</td>\n",
              "      <td>little</td>\n",
              "      <td>1344</td>\n",
              "      <td>12</td>\n",
              "      <td>car</td>\n",
              "      <td>0</td>\n",
              "      <td>2007-05-20 18:30:19</td>\n",
              "      <td>929</td>\n",
              "    </tr>\n",
              "    <tr>\n",
              "      <th>2</th>\n",
              "      <td>52</td>\n",
              "      <td>male</td>\n",
              "      <td>2</td>\n",
              "      <td>own</td>\n",
              "      <td>quite rich</td>\n",
              "      <td>NaN</td>\n",
              "      <td>936</td>\n",
              "      <td>9</td>\n",
              "      <td>education</td>\n",
              "      <td>0</td>\n",
              "      <td>2008-04-27 08:23:07</td>\n",
              "      <td>200</td>\n",
              "    </tr>\n",
              "    <tr>\n",
              "      <th>3</th>\n",
              "      <td>35</td>\n",
              "      <td>female</td>\n",
              "      <td>3</td>\n",
              "      <td>own</td>\n",
              "      <td>little</td>\n",
              "      <td>NaN</td>\n",
              "      <td>1393</td>\n",
              "      <td>11</td>\n",
              "      <td>car</td>\n",
              "      <td>0</td>\n",
              "      <td>2007-05-06 10:58:22</td>\n",
              "      <td>45</td>\n",
              "    </tr>\n",
              "    <tr>\n",
              "      <th>4</th>\n",
              "      <td>28</td>\n",
              "      <td>male</td>\n",
              "      <td>2</td>\n",
              "      <td>own</td>\n",
              "      <td>little</td>\n",
              "      <td>NaN</td>\n",
              "      <td>776</td>\n",
              "      <td>12</td>\n",
              "      <td>radio/TV</td>\n",
              "      <td>0</td>\n",
              "      <td>2007-07-21 13:22:14</td>\n",
              "      <td>358</td>\n",
              "    </tr>\n",
              "  </tbody>\n",
              "</table>\n",
              "</div>"
            ],
            "text/plain": [
              "   age     sex  job housing  ...    purpose default          contract_dt  client_id\n",
              "0   33    male    2     own  ...   radio/TV       0  2008-06-29 18:52:00        210\n",
              "1   43    male    1     own  ...        car       0  2007-05-20 18:30:19        929\n",
              "2   52    male    2     own  ...  education       0  2008-04-27 08:23:07        200\n",
              "3   35  female    3     own  ...        car       0  2007-05-06 10:58:22         45\n",
              "4   28    male    2     own  ...   radio/TV       0  2007-07-21 13:22:14        358\n",
              "\n",
              "[5 rows x 12 columns]"
            ]
          },
          "metadata": {
            "tags": []
          },
          "execution_count": 6
        }
      ]
    },
    {
      "cell_type": "markdown",
      "metadata": {
        "id": "oHOwQSYFx8Ll"
      },
      "source": [
        "head выводит 5 первых значений, tail - 5 последних\n"
      ]
    },
    {
      "cell_type": "code",
      "metadata": {
        "id": "ULWg9Z-yxgVI"
      },
      "source": [
        "df['contract_dt'] = pd.to_datetime(df['contract_dt'],format='%Y-%m-%d %H:%M:%S')"
      ],
      "execution_count": 7,
      "outputs": []
    },
    {
      "cell_type": "markdown",
      "metadata": {
        "id": "mL5WvBthxyw5"
      },
      "source": [
        "to_datetime меняет формат данных в дату\n",
        "% помогает указать переменную"
      ]
    },
    {
      "cell_type": "code",
      "metadata": {
        "colab": {
          "base_uri": "https://localhost:8080/"
        },
        "id": "u-3hZmaJx6h7",
        "outputId": "a48d7f28-180e-4055-d5ae-498002efb6f1"
      },
      "source": [
        "df.dtypes"
      ],
      "execution_count": 8,
      "outputs": [
        {
          "output_type": "execute_result",
          "data": {
            "text/plain": [
              "age                          int64\n",
              "sex                         object\n",
              "job                          int64\n",
              "housing                     object\n",
              "saving_accounts             object\n",
              "checking_account            object\n",
              "credit_amount                int64\n",
              "duration                     int64\n",
              "purpose                     object\n",
              "default                      int64\n",
              "contract_dt         datetime64[ns]\n",
              "client_id                    int64\n",
              "dtype: object"
            ]
          },
          "metadata": {
            "tags": []
          },
          "execution_count": 8
        }
      ]
    },
    {
      "cell_type": "markdown",
      "metadata": {
        "id": "XJ3VHR2NyMem"
      },
      "source": [
        "возможные типы данных"
      ]
    },
    {
      "cell_type": "code",
      "metadata": {
        "id": "PADdI3hSyO1i"
      },
      "source": [
        "df.to_sql('german_credit',con,index=False,if_exists='replace')"
      ],
      "execution_count": 9,
      "outputs": []
    },
    {
      "cell_type": "markdown",
      "metadata": {
        "id": "QCeJ4UtgyrYw"
      },
      "source": [
        "Заливаем таблицу в БД\n",
        "Название, выбор бд, наличие индекса, замена существующих"
      ]
    },
    {
      "cell_type": "code",
      "metadata": {
        "id": "JPsdVMNOytV8"
      },
      "source": [
        "def select(sql):\n",
        "  return pd.read_sql(sql,con)"
      ],
      "execution_count": 10,
      "outputs": []
    },
    {
      "cell_type": "markdown",
      "metadata": {
        "id": "wpSHEI5OuKuZ"
      },
      "source": [
        "# Сводная таблица"
      ]
    },
    {
      "cell_type": "markdown",
      "metadata": {
        "id": "RtjzF_kry57A"
      },
      "source": [
        "функция селекта"
      ]
    },
    {
      "cell_type": "code",
      "metadata": {
        "id": "C4Z0aBzUuGTG"
      },
      "source": [
        "sql = ''' select t.sex,\n",
        "count(*) as cnt,\n",
        "avg(t.credit_amount) as credit_amount_avg\n",
        "\n",
        "\n",
        "from german_credit t\n",
        "group by t.sex'''"
      ],
      "execution_count": null,
      "outputs": []
    },
    {
      "cell_type": "markdown",
      "metadata": {
        "id": "TA4b3LPu9L6b"
      },
      "source": [
        ""
      ]
    },
    {
      "cell_type": "code",
      "metadata": {
        "colab": {
          "base_uri": "https://localhost:8080/",
          "height": 111
        },
        "id": "bLCrEzS4ulHY",
        "outputId": "5d47c2dc-a7f1-453d-a072-2b31b2ef2d8f"
      },
      "source": [
        "select(sql)"
      ],
      "execution_count": null,
      "outputs": [
        {
          "output_type": "execute_result",
          "data": {
            "text/html": [
              "<div>\n",
              "<style scoped>\n",
              "    .dataframe tbody tr th:only-of-type {\n",
              "        vertical-align: middle;\n",
              "    }\n",
              "\n",
              "    .dataframe tbody tr th {\n",
              "        vertical-align: top;\n",
              "    }\n",
              "\n",
              "    .dataframe thead th {\n",
              "        text-align: right;\n",
              "    }\n",
              "</style>\n",
              "<table border=\"1\" class=\"dataframe\">\n",
              "  <thead>\n",
              "    <tr style=\"text-align: right;\">\n",
              "      <th></th>\n",
              "      <th>sex</th>\n",
              "      <th>cnt</th>\n",
              "      <th>credit_amount_avg</th>\n",
              "    </tr>\n",
              "  </thead>\n",
              "  <tbody>\n",
              "    <tr>\n",
              "      <th>0</th>\n",
              "      <td>female</td>\n",
              "      <td>310</td>\n",
              "      <td>2877.774194</td>\n",
              "    </tr>\n",
              "    <tr>\n",
              "      <th>1</th>\n",
              "      <td>male</td>\n",
              "      <td>690</td>\n",
              "      <td>3448.040580</td>\n",
              "    </tr>\n",
              "  </tbody>\n",
              "</table>\n",
              "</div>"
            ],
            "text/plain": [
              "      sex  cnt  credit_amount_avg\n",
              "0  female  310        2877.774194\n",
              "1    male  690        3448.040580"
            ]
          },
          "metadata": {
            "tags": []
          },
          "execution_count": 20
        }
      ]
    },
    {
      "cell_type": "code",
      "metadata": {
        "colab": {
          "base_uri": "https://localhost:8080/",
          "height": 142
        },
        "id": "l6pVJZYvu6BS",
        "outputId": "0bdf8367-3098-4edc-a884-9704880f4d2d"
      },
      "source": [
        "df.groupby('sex')['credit_amount'].agg(['count','mean'])"
      ],
      "execution_count": null,
      "outputs": [
        {
          "output_type": "execute_result",
          "data": {
            "text/html": [
              "<div>\n",
              "<style scoped>\n",
              "    .dataframe tbody tr th:only-of-type {\n",
              "        vertical-align: middle;\n",
              "    }\n",
              "\n",
              "    .dataframe tbody tr th {\n",
              "        vertical-align: top;\n",
              "    }\n",
              "\n",
              "    .dataframe thead th {\n",
              "        text-align: right;\n",
              "    }\n",
              "</style>\n",
              "<table border=\"1\" class=\"dataframe\">\n",
              "  <thead>\n",
              "    <tr style=\"text-align: right;\">\n",
              "      <th></th>\n",
              "      <th>count</th>\n",
              "      <th>mean</th>\n",
              "    </tr>\n",
              "    <tr>\n",
              "      <th>sex</th>\n",
              "      <th></th>\n",
              "      <th></th>\n",
              "    </tr>\n",
              "  </thead>\n",
              "  <tbody>\n",
              "    <tr>\n",
              "      <th>female</th>\n",
              "      <td>310</td>\n",
              "      <td>2877.774194</td>\n",
              "    </tr>\n",
              "    <tr>\n",
              "      <th>male</th>\n",
              "      <td>690</td>\n",
              "      <td>3448.040580</td>\n",
              "    </tr>\n",
              "  </tbody>\n",
              "</table>\n",
              "</div>"
            ],
            "text/plain": [
              "        count         mean\n",
              "sex                       \n",
              "female    310  2877.774194\n",
              "male      690  3448.040580"
            ]
          },
          "metadata": {
            "tags": []
          },
          "execution_count": 17
        }
      ]
    },
    {
      "cell_type": "markdown",
      "metadata": {
        "id": "_WGNC2m3xTq3"
      },
      "source": [
        "GROUP BY позволяет объединять значения нескольких колонок и подводить их к значению одной из колонок. В нашем случае мы берем колонку секс(2 строки) и берем еще колонку, в которой куча строк. Применяем обобщающее значение"
      ]
    },
    {
      "cell_type": "code",
      "metadata": {
        "id": "omXNcvDgvuRM"
      },
      "source": [
        "sql = '''select count(distinct t.housing), count(t.housing) from german_credit t '''"
      ],
      "execution_count": null,
      "outputs": []
    },
    {
      "cell_type": "code",
      "metadata": {
        "colab": {
          "base_uri": "https://localhost:8080/",
          "height": 164
        },
        "id": "w6iTzXm3vyrj",
        "outputId": "f020f8c0-6f13-4b4d-8d25-12b95660f8f8"
      },
      "source": [
        "select(sql)"
      ],
      "execution_count": 1,
      "outputs": [
        {
          "output_type": "error",
          "ename": "NameError",
          "evalue": "ignored",
          "traceback": [
            "\u001b[0;31m---------------------------------------------------------------------------\u001b[0m",
            "\u001b[0;31mNameError\u001b[0m                                 Traceback (most recent call last)",
            "\u001b[0;32m<ipython-input-1-3abb1b804f07>\u001b[0m in \u001b[0;36m<module>\u001b[0;34m()\u001b[0m\n\u001b[0;32m----> 1\u001b[0;31m \u001b[0mselect\u001b[0m\u001b[0;34m(\u001b[0m\u001b[0msql\u001b[0m\u001b[0;34m)\u001b[0m\u001b[0;34m\u001b[0m\u001b[0;34m\u001b[0m\u001b[0m\n\u001b[0m",
            "\u001b[0;31mNameError\u001b[0m: name 'select' is not defined"
          ]
        }
      ]
    },
    {
      "cell_type": "code",
      "metadata": {
        "colab": {
          "base_uri": "https://localhost:8080/"
        },
        "id": "nJntaQpO84bS",
        "outputId": "5bdc3531-7e9f-4666-dabc-da9fbce24fee"
      },
      "source": [
        "df.groupby('checking_account')['credit_amount'].count()"
      ],
      "execution_count": 15,
      "outputs": [
        {
          "output_type": "execute_result",
          "data": {
            "text/plain": [
              "checking_account\n",
              "little      274\n",
              "moderate    269\n",
              "rich         63\n",
              "Name: credit_amount, dtype: int64"
            ]
          },
          "metadata": {
            "tags": []
          },
          "execution_count": 15
        }
      ]
    },
    {
      "cell_type": "code",
      "metadata": {
        "colab": {
          "base_uri": "https://localhost:8080/"
        },
        "id": "UgUgEUva9gEO",
        "outputId": "cf60bcb1-70b0-4e46-9d7c-1a296d1b3534"
      },
      "source": [
        "df.groupby('checking_account',dropna=False)['credit_amount'].count()"
      ],
      "execution_count": 14,
      "outputs": [
        {
          "output_type": "execute_result",
          "data": {
            "text/plain": [
              "checking_account\n",
              "little      274\n",
              "moderate    269\n",
              "rich         63\n",
              "NaN         394\n",
              "Name: credit_amount, dtype: int64"
            ]
          },
          "metadata": {
            "tags": []
          },
          "execution_count": 14
        }
      ]
    },
    {
      "cell_type": "code",
      "metadata": {
        "id": "X2FpZydT9rrV"
      },
      "source": [
        "sql = ''' select\n",
        "\n",
        "sum(case when t.checking_account is null then 1 else 0 end) as is_null, \n",
        "count(case when t.checking_account is null then 1 else 0 end) as is_null2\n",
        "\n",
        "from german_credit t'''"
      ],
      "execution_count": 25,
      "outputs": []
    },
    {
      "cell_type": "code",
      "metadata": {
        "colab": {
          "base_uri": "https://localhost:8080/",
          "height": 80
        },
        "id": "KFtuAHDX96y8",
        "outputId": "99cdbc31-b5e0-4a80-c55b-73270bfda6a3"
      },
      "source": [
        "select(sql)"
      ],
      "execution_count": 26,
      "outputs": [
        {
          "output_type": "execute_result",
          "data": {
            "text/html": [
              "<div>\n",
              "<style scoped>\n",
              "    .dataframe tbody tr th:only-of-type {\n",
              "        vertical-align: middle;\n",
              "    }\n",
              "\n",
              "    .dataframe tbody tr th {\n",
              "        vertical-align: top;\n",
              "    }\n",
              "\n",
              "    .dataframe thead th {\n",
              "        text-align: right;\n",
              "    }\n",
              "</style>\n",
              "<table border=\"1\" class=\"dataframe\">\n",
              "  <thead>\n",
              "    <tr style=\"text-align: right;\">\n",
              "      <th></th>\n",
              "      <th>is_null</th>\n",
              "      <th>is_null2</th>\n",
              "    </tr>\n",
              "  </thead>\n",
              "  <tbody>\n",
              "    <tr>\n",
              "      <th>0</th>\n",
              "      <td>394</td>\n",
              "      <td>1000</td>\n",
              "    </tr>\n",
              "  </tbody>\n",
              "</table>\n",
              "</div>"
            ],
            "text/plain": [
              "   is_null  is_null2\n",
              "0      394      1000"
            ]
          },
          "metadata": {
            "tags": []
          },
          "execution_count": 26
        }
      ]
    },
    {
      "cell_type": "code",
      "metadata": {
        "id": "sek1MJL898Qy"
      },
      "source": [
        "t = pd.DataFrame({'col1': [1,np.nan,2]})"
      ],
      "execution_count": 27,
      "outputs": []
    },
    {
      "cell_type": "code",
      "metadata": {
        "colab": {
          "base_uri": "https://localhost:8080/",
          "height": 142
        },
        "id": "T0FRj_dk-vjT",
        "outputId": "7ae33505-c35e-42a2-ae62-465df29322de"
      },
      "source": [
        "t"
      ],
      "execution_count": 28,
      "outputs": [
        {
          "output_type": "execute_result",
          "data": {
            "text/html": [
              "<div>\n",
              "<style scoped>\n",
              "    .dataframe tbody tr th:only-of-type {\n",
              "        vertical-align: middle;\n",
              "    }\n",
              "\n",
              "    .dataframe tbody tr th {\n",
              "        vertical-align: top;\n",
              "    }\n",
              "\n",
              "    .dataframe thead th {\n",
              "        text-align: right;\n",
              "    }\n",
              "</style>\n",
              "<table border=\"1\" class=\"dataframe\">\n",
              "  <thead>\n",
              "    <tr style=\"text-align: right;\">\n",
              "      <th></th>\n",
              "      <th>col1</th>\n",
              "    </tr>\n",
              "  </thead>\n",
              "  <tbody>\n",
              "    <tr>\n",
              "      <th>0</th>\n",
              "      <td>1.0</td>\n",
              "    </tr>\n",
              "    <tr>\n",
              "      <th>1</th>\n",
              "      <td>NaN</td>\n",
              "    </tr>\n",
              "    <tr>\n",
              "      <th>2</th>\n",
              "      <td>2.0</td>\n",
              "    </tr>\n",
              "  </tbody>\n",
              "</table>\n",
              "</div>"
            ],
            "text/plain": [
              "   col1\n",
              "0   1.0\n",
              "1   NaN\n",
              "2   2.0"
            ]
          },
          "metadata": {
            "tags": []
          },
          "execution_count": 28
        }
      ]
    },
    {
      "cell_type": "code",
      "metadata": {
        "id": "8x4SzKx0-wER"
      },
      "source": [
        "t.to_sql('null_test',con,index=False,if_exists='replace')"
      ],
      "execution_count": 29,
      "outputs": []
    },
    {
      "cell_type": "code",
      "metadata": {
        "id": "dFPOzJW1-1tp"
      },
      "source": [
        "sql = ''' select count(t.col1), count(*), count(1) from null_test t'''"
      ],
      "execution_count": 32,
      "outputs": []
    },
    {
      "cell_type": "code",
      "metadata": {
        "colab": {
          "base_uri": "https://localhost:8080/",
          "height": 80
        },
        "id": "gyuUrYGy_LYp",
        "outputId": "b4264de2-2dcb-42ba-9e95-e9e3ea143bc2"
      },
      "source": [
        "select(sql)"
      ],
      "execution_count": 33,
      "outputs": [
        {
          "output_type": "execute_result",
          "data": {
            "text/html": [
              "<div>\n",
              "<style scoped>\n",
              "    .dataframe tbody tr th:only-of-type {\n",
              "        vertical-align: middle;\n",
              "    }\n",
              "\n",
              "    .dataframe tbody tr th {\n",
              "        vertical-align: top;\n",
              "    }\n",
              "\n",
              "    .dataframe thead th {\n",
              "        text-align: right;\n",
              "    }\n",
              "</style>\n",
              "<table border=\"1\" class=\"dataframe\">\n",
              "  <thead>\n",
              "    <tr style=\"text-align: right;\">\n",
              "      <th></th>\n",
              "      <th>count(t.col1)</th>\n",
              "      <th>count(*)</th>\n",
              "      <th>count(1)</th>\n",
              "    </tr>\n",
              "  </thead>\n",
              "  <tbody>\n",
              "    <tr>\n",
              "      <th>0</th>\n",
              "      <td>2</td>\n",
              "      <td>3</td>\n",
              "      <td>3</td>\n",
              "    </tr>\n",
              "  </tbody>\n",
              "</table>\n",
              "</div>"
            ],
            "text/plain": [
              "   count(t.col1)  count(*)  count(1)\n",
              "0              2         3         3"
            ]
          },
          "metadata": {
            "tags": []
          },
          "execution_count": 33
        }
      ]
    },
    {
      "cell_type": "code",
      "metadata": {
        "id": "zalRsXKY_Maq"
      },
      "source": [
        "sql = '''select \n",
        "\n",
        "t.checking_account,\n",
        "\n",
        "coalesce(t.checking_account, 'no_info')\n",
        "\n",
        "from german_credit t'''"
      ],
      "execution_count": 34,
      "outputs": []
    },
    {
      "cell_type": "markdown",
      "metadata": {
        "id": "9efZcHlbAKxN"
      },
      "source": [
        "coalesce заменяет значение пропуска"
      ]
    },
    {
      "cell_type": "code",
      "metadata": {
        "colab": {
          "base_uri": "https://localhost:8080/",
          "height": 419
        },
        "id": "sfTizjiy_70M",
        "outputId": "3e3d83ab-69b2-445c-9bef-7f03af3879a0"
      },
      "source": [
        "select(sql)"
      ],
      "execution_count": 35,
      "outputs": [
        {
          "output_type": "execute_result",
          "data": {
            "text/html": [
              "<div>\n",
              "<style scoped>\n",
              "    .dataframe tbody tr th:only-of-type {\n",
              "        vertical-align: middle;\n",
              "    }\n",
              "\n",
              "    .dataframe tbody tr th {\n",
              "        vertical-align: top;\n",
              "    }\n",
              "\n",
              "    .dataframe thead th {\n",
              "        text-align: right;\n",
              "    }\n",
              "</style>\n",
              "<table border=\"1\" class=\"dataframe\">\n",
              "  <thead>\n",
              "    <tr style=\"text-align: right;\">\n",
              "      <th></th>\n",
              "      <th>checking_account</th>\n",
              "      <th>coalesce(t.checking_account, 'no_info')</th>\n",
              "    </tr>\n",
              "  </thead>\n",
              "  <tbody>\n",
              "    <tr>\n",
              "      <th>0</th>\n",
              "      <td>None</td>\n",
              "      <td>no_info</td>\n",
              "    </tr>\n",
              "    <tr>\n",
              "      <th>1</th>\n",
              "      <td>little</td>\n",
              "      <td>little</td>\n",
              "    </tr>\n",
              "    <tr>\n",
              "      <th>2</th>\n",
              "      <td>None</td>\n",
              "      <td>no_info</td>\n",
              "    </tr>\n",
              "    <tr>\n",
              "      <th>3</th>\n",
              "      <td>None</td>\n",
              "      <td>no_info</td>\n",
              "    </tr>\n",
              "    <tr>\n",
              "      <th>4</th>\n",
              "      <td>None</td>\n",
              "      <td>no_info</td>\n",
              "    </tr>\n",
              "    <tr>\n",
              "      <th>...</th>\n",
              "      <td>...</td>\n",
              "      <td>...</td>\n",
              "    </tr>\n",
              "    <tr>\n",
              "      <th>995</th>\n",
              "      <td>little</td>\n",
              "      <td>little</td>\n",
              "    </tr>\n",
              "    <tr>\n",
              "      <th>996</th>\n",
              "      <td>moderate</td>\n",
              "      <td>moderate</td>\n",
              "    </tr>\n",
              "    <tr>\n",
              "      <th>997</th>\n",
              "      <td>moderate</td>\n",
              "      <td>moderate</td>\n",
              "    </tr>\n",
              "    <tr>\n",
              "      <th>998</th>\n",
              "      <td>None</td>\n",
              "      <td>no_info</td>\n",
              "    </tr>\n",
              "    <tr>\n",
              "      <th>999</th>\n",
              "      <td>moderate</td>\n",
              "      <td>moderate</td>\n",
              "    </tr>\n",
              "  </tbody>\n",
              "</table>\n",
              "<p>1000 rows × 2 columns</p>\n",
              "</div>"
            ],
            "text/plain": [
              "    checking_account coalesce(t.checking_account, 'no_info')\n",
              "0               None                                 no_info\n",
              "1             little                                  little\n",
              "2               None                                 no_info\n",
              "3               None                                 no_info\n",
              "4               None                                 no_info\n",
              "..               ...                                     ...\n",
              "995           little                                  little\n",
              "996         moderate                                moderate\n",
              "997         moderate                                moderate\n",
              "998             None                                 no_info\n",
              "999         moderate                                moderate\n",
              "\n",
              "[1000 rows x 2 columns]"
            ]
          },
          "metadata": {
            "tags": []
          },
          "execution_count": 35
        }
      ]
    },
    {
      "cell_type": "code",
      "metadata": {
        "id": "0NRvL6Hf_8zD"
      },
      "source": [
        "t = pd.DataFrame({'id':[1,2,1],\n",
        "                  'name':['a','b','a']})"
      ],
      "execution_count": 52,
      "outputs": []
    },
    {
      "cell_type": "code",
      "metadata": {
        "colab": {
          "base_uri": "https://localhost:8080/",
          "height": 142
        },
        "id": "NX5vnU7IBUHp",
        "outputId": "fcb30fb4-e3bf-447c-cded-1fad3cabe853"
      },
      "source": [
        "t"
      ],
      "execution_count": 37,
      "outputs": [
        {
          "output_type": "execute_result",
          "data": {
            "text/html": [
              "<div>\n",
              "<style scoped>\n",
              "    .dataframe tbody tr th:only-of-type {\n",
              "        vertical-align: middle;\n",
              "    }\n",
              "\n",
              "    .dataframe tbody tr th {\n",
              "        vertical-align: top;\n",
              "    }\n",
              "\n",
              "    .dataframe thead th {\n",
              "        text-align: right;\n",
              "    }\n",
              "</style>\n",
              "<table border=\"1\" class=\"dataframe\">\n",
              "  <thead>\n",
              "    <tr style=\"text-align: right;\">\n",
              "      <th></th>\n",
              "      <th>id</th>\n",
              "      <th>name</th>\n",
              "    </tr>\n",
              "  </thead>\n",
              "  <tbody>\n",
              "    <tr>\n",
              "      <th>0</th>\n",
              "      <td>1</td>\n",
              "      <td>a</td>\n",
              "    </tr>\n",
              "    <tr>\n",
              "      <th>1</th>\n",
              "      <td>2</td>\n",
              "      <td>b</td>\n",
              "    </tr>\n",
              "    <tr>\n",
              "      <th>2</th>\n",
              "      <td>3</td>\n",
              "      <td>c</td>\n",
              "    </tr>\n",
              "  </tbody>\n",
              "</table>\n",
              "</div>"
            ],
            "text/plain": [
              "   id name\n",
              "0   1    a\n",
              "1   2    b\n",
              "2   3    c"
            ]
          },
          "metadata": {
            "tags": []
          },
          "execution_count": 37
        }
      ]
    },
    {
      "cell_type": "code",
      "metadata": {
        "id": "PHIP5TftBVGW"
      },
      "source": [
        "t.to_sql('dupl_test',con,index=False,if_exists='replace')"
      ],
      "execution_count": 53,
      "outputs": []
    },
    {
      "cell_type": "code",
      "metadata": {
        "id": "StAO6NlIBcww"
      },
      "source": [
        "sql = '''select t.id, t.name, count(*) as cnt from dupl_test t\n",
        "group by t.id, t.name'''"
      ],
      "execution_count": 50,
      "outputs": []
    },
    {
      "cell_type": "code",
      "metadata": {
        "colab": {
          "base_uri": "https://localhost:8080/",
          "height": 111
        },
        "id": "cQCVJnVhBh7D",
        "outputId": "44ee9ca1-1493-4bf6-ce68-caa07e0f9ca9"
      },
      "source": [
        "select(sql)"
      ],
      "execution_count": 54,
      "outputs": [
        {
          "output_type": "execute_result",
          "data": {
            "text/html": [
              "<div>\n",
              "<style scoped>\n",
              "    .dataframe tbody tr th:only-of-type {\n",
              "        vertical-align: middle;\n",
              "    }\n",
              "\n",
              "    .dataframe tbody tr th {\n",
              "        vertical-align: top;\n",
              "    }\n",
              "\n",
              "    .dataframe thead th {\n",
              "        text-align: right;\n",
              "    }\n",
              "</style>\n",
              "<table border=\"1\" class=\"dataframe\">\n",
              "  <thead>\n",
              "    <tr style=\"text-align: right;\">\n",
              "      <th></th>\n",
              "      <th>id</th>\n",
              "      <th>name</th>\n",
              "      <th>cnt</th>\n",
              "    </tr>\n",
              "  </thead>\n",
              "  <tbody>\n",
              "    <tr>\n",
              "      <th>0</th>\n",
              "      <td>1</td>\n",
              "      <td>a</td>\n",
              "      <td>2</td>\n",
              "    </tr>\n",
              "    <tr>\n",
              "      <th>1</th>\n",
              "      <td>2</td>\n",
              "      <td>b</td>\n",
              "      <td>1</td>\n",
              "    </tr>\n",
              "  </tbody>\n",
              "</table>\n",
              "</div>"
            ],
            "text/plain": [
              "   id name  cnt\n",
              "0   1    a    2\n",
              "1   2    b    1"
            ]
          },
          "metadata": {
            "tags": []
          },
          "execution_count": 54
        }
      ]
    },
    {
      "cell_type": "code",
      "metadata": {
        "id": "ljL5BPF3Bi_v"
      },
      "source": [
        "sql = '''select t.id, t.name, count(*) as cnt from dupl_test t\n",
        "\n",
        "group by t.id, t.name\n",
        "\n",
        "having count(*) > 1\n",
        "'''"
      ],
      "execution_count": 56,
      "outputs": []
    },
    {
      "cell_type": "code",
      "metadata": {
        "colab": {
          "base_uri": "https://localhost:8080/",
          "height": 80
        },
        "id": "g68RZtLvCTcm",
        "outputId": "92b3c3b7-4e08-486a-b07d-56433705f8be"
      },
      "source": [
        "select(sql)"
      ],
      "execution_count": 57,
      "outputs": [
        {
          "output_type": "execute_result",
          "data": {
            "text/html": [
              "<div>\n",
              "<style scoped>\n",
              "    .dataframe tbody tr th:only-of-type {\n",
              "        vertical-align: middle;\n",
              "    }\n",
              "\n",
              "    .dataframe tbody tr th {\n",
              "        vertical-align: top;\n",
              "    }\n",
              "\n",
              "    .dataframe thead th {\n",
              "        text-align: right;\n",
              "    }\n",
              "</style>\n",
              "<table border=\"1\" class=\"dataframe\">\n",
              "  <thead>\n",
              "    <tr style=\"text-align: right;\">\n",
              "      <th></th>\n",
              "      <th>id</th>\n",
              "      <th>name</th>\n",
              "      <th>cnt</th>\n",
              "    </tr>\n",
              "  </thead>\n",
              "  <tbody>\n",
              "    <tr>\n",
              "      <th>0</th>\n",
              "      <td>1</td>\n",
              "      <td>a</td>\n",
              "      <td>2</td>\n",
              "    </tr>\n",
              "  </tbody>\n",
              "</table>\n",
              "</div>"
            ],
            "text/plain": [
              "   id name  cnt\n",
              "0   1    a    2"
            ]
          },
          "metadata": {
            "tags": []
          },
          "execution_count": 57
        }
      ]
    },
    {
      "cell_type": "code",
      "metadata": {
        "id": "k3OnO85tCUrF"
      },
      "source": [
        "t = pd.DataFrame({'id':[1,1,2,2,3],\n",
        "                  'name':['a','b','c','d','e']})"
      ],
      "execution_count": 58,
      "outputs": []
    },
    {
      "cell_type": "code",
      "metadata": {
        "id": "yP04o3zqCm0W"
      },
      "source": [
        "t.to_sql('dupl_test',con,index=False,if_exists='replace')"
      ],
      "execution_count": 59,
      "outputs": []
    },
    {
      "cell_type": "code",
      "metadata": {
        "colab": {
          "base_uri": "https://localhost:8080/",
          "height": 204
        },
        "id": "Hr3F_l-qCopy",
        "outputId": "f3de0b30-6843-474c-a50b-7da795ead751"
      },
      "source": [
        "t"
      ],
      "execution_count": 60,
      "outputs": [
        {
          "output_type": "execute_result",
          "data": {
            "text/html": [
              "<div>\n",
              "<style scoped>\n",
              "    .dataframe tbody tr th:only-of-type {\n",
              "        vertical-align: middle;\n",
              "    }\n",
              "\n",
              "    .dataframe tbody tr th {\n",
              "        vertical-align: top;\n",
              "    }\n",
              "\n",
              "    .dataframe thead th {\n",
              "        text-align: right;\n",
              "    }\n",
              "</style>\n",
              "<table border=\"1\" class=\"dataframe\">\n",
              "  <thead>\n",
              "    <tr style=\"text-align: right;\">\n",
              "      <th></th>\n",
              "      <th>id</th>\n",
              "      <th>name</th>\n",
              "    </tr>\n",
              "  </thead>\n",
              "  <tbody>\n",
              "    <tr>\n",
              "      <th>0</th>\n",
              "      <td>1</td>\n",
              "      <td>a</td>\n",
              "    </tr>\n",
              "    <tr>\n",
              "      <th>1</th>\n",
              "      <td>1</td>\n",
              "      <td>b</td>\n",
              "    </tr>\n",
              "    <tr>\n",
              "      <th>2</th>\n",
              "      <td>2</td>\n",
              "      <td>c</td>\n",
              "    </tr>\n",
              "    <tr>\n",
              "      <th>3</th>\n",
              "      <td>2</td>\n",
              "      <td>d</td>\n",
              "    </tr>\n",
              "    <tr>\n",
              "      <th>4</th>\n",
              "      <td>3</td>\n",
              "      <td>e</td>\n",
              "    </tr>\n",
              "  </tbody>\n",
              "</table>\n",
              "</div>"
            ],
            "text/plain": [
              "   id name\n",
              "0   1    a\n",
              "1   1    b\n",
              "2   2    c\n",
              "3   2    d\n",
              "4   3    e"
            ]
          },
          "metadata": {
            "tags": []
          },
          "execution_count": 60
        }
      ]
    },
    {
      "cell_type": "markdown",
      "metadata": {
        "id": "6WEsEGGICyC-"
      },
      "source": [
        "Идут дубли id"
      ]
    },
    {
      "cell_type": "code",
      "metadata": {
        "id": "N_CHrHyzCpq5"
      },
      "source": [
        "sql = '''select t.id, count(*) as cnt from dupl_test t\n",
        "\n",
        "group by t.id\n",
        "\n",
        "having count(*) > 1\n",
        "'''"
      ],
      "execution_count": 62,
      "outputs": []
    },
    {
      "cell_type": "code",
      "metadata": {
        "colab": {
          "base_uri": "https://localhost:8080/",
          "height": 111
        },
        "id": "zUNqR5_eC3QQ",
        "outputId": "25e25b54-2b7d-4d04-a929-1dea579f66d3"
      },
      "source": [
        "select(sql)"
      ],
      "execution_count": 64,
      "outputs": [
        {
          "output_type": "execute_result",
          "data": {
            "text/html": [
              "<div>\n",
              "<style scoped>\n",
              "    .dataframe tbody tr th:only-of-type {\n",
              "        vertical-align: middle;\n",
              "    }\n",
              "\n",
              "    .dataframe tbody tr th {\n",
              "        vertical-align: top;\n",
              "    }\n",
              "\n",
              "    .dataframe thead th {\n",
              "        text-align: right;\n",
              "    }\n",
              "</style>\n",
              "<table border=\"1\" class=\"dataframe\">\n",
              "  <thead>\n",
              "    <tr style=\"text-align: right;\">\n",
              "      <th></th>\n",
              "      <th>id</th>\n",
              "      <th>cnt</th>\n",
              "    </tr>\n",
              "  </thead>\n",
              "  <tbody>\n",
              "    <tr>\n",
              "      <th>0</th>\n",
              "      <td>1</td>\n",
              "      <td>2</td>\n",
              "    </tr>\n",
              "    <tr>\n",
              "      <th>1</th>\n",
              "      <td>2</td>\n",
              "      <td>2</td>\n",
              "    </tr>\n",
              "  </tbody>\n",
              "</table>\n",
              "</div>"
            ],
            "text/plain": [
              "   id  cnt\n",
              "0   1    2\n",
              "1   2    2"
            ]
          },
          "metadata": {
            "tags": []
          },
          "execution_count": 64
        }
      ]
    },
    {
      "cell_type": "code",
      "metadata": {
        "id": "_PgjZiFMDQ9D"
      },
      "source": [
        "sql = ''' select * from dupl_test t\n",
        "where t.id in (select t.id cnt from dupl_test t\n",
        "\n",
        "group by t.id\n",
        "\n",
        "having count(*) > 1)'''"
      ],
      "execution_count": 67,
      "outputs": []
    },
    {
      "cell_type": "code",
      "metadata": {
        "colab": {
          "base_uri": "https://localhost:8080/",
          "height": 173
        },
        "id": "bTgu5740Dm5k",
        "outputId": "22c8f034-2b50-4115-aa91-d1558d5c135f"
      },
      "source": [
        "select(sql)"
      ],
      "execution_count": 69,
      "outputs": [
        {
          "output_type": "execute_result",
          "data": {
            "text/html": [
              "<div>\n",
              "<style scoped>\n",
              "    .dataframe tbody tr th:only-of-type {\n",
              "        vertical-align: middle;\n",
              "    }\n",
              "\n",
              "    .dataframe tbody tr th {\n",
              "        vertical-align: top;\n",
              "    }\n",
              "\n",
              "    .dataframe thead th {\n",
              "        text-align: right;\n",
              "    }\n",
              "</style>\n",
              "<table border=\"1\" class=\"dataframe\">\n",
              "  <thead>\n",
              "    <tr style=\"text-align: right;\">\n",
              "      <th></th>\n",
              "      <th>id</th>\n",
              "      <th>name</th>\n",
              "    </tr>\n",
              "  </thead>\n",
              "  <tbody>\n",
              "    <tr>\n",
              "      <th>0</th>\n",
              "      <td>1</td>\n",
              "      <td>a</td>\n",
              "    </tr>\n",
              "    <tr>\n",
              "      <th>1</th>\n",
              "      <td>1</td>\n",
              "      <td>b</td>\n",
              "    </tr>\n",
              "    <tr>\n",
              "      <th>2</th>\n",
              "      <td>2</td>\n",
              "      <td>c</td>\n",
              "    </tr>\n",
              "    <tr>\n",
              "      <th>3</th>\n",
              "      <td>2</td>\n",
              "      <td>d</td>\n",
              "    </tr>\n",
              "  </tbody>\n",
              "</table>\n",
              "</div>"
            ],
            "text/plain": [
              "   id name\n",
              "0   1    a\n",
              "1   1    b\n",
              "2   2    c\n",
              "3   2    d"
            ]
          },
          "metadata": {
            "tags": []
          },
          "execution_count": 69
        }
      ]
    },
    {
      "cell_type": "code",
      "metadata": {
        "id": "prw74Q3ZD1WX"
      },
      "source": [
        "sql = ''' select t.contract_dt, date(t.contract_dt, 'start of month') as month,\n",
        "count(*) as cnt,\n",
        "count(distinct t.client_id) as client_id_cnt_dst,\n",
        "sum(t.credit_amount) as credit_amount_sum,\n",
        "avg(credit_amount) as credit_amount_avg\n",
        "\n",
        "from german_credit t\n",
        "group by month\n",
        "order by month'''"
      ],
      "execution_count": 83,
      "outputs": []
    },
    {
      "cell_type": "code",
      "metadata": {
        "colab": {
          "base_uri": "https://localhost:8080/",
          "height": 483
        },
        "id": "EHELEgcxEer7",
        "outputId": "c260f3af-8e67-4410-8e27-f75e7d4a409f"
      },
      "source": [
        "select(sql)"
      ],
      "execution_count": 84,
      "outputs": [
        {
          "output_type": "execute_result",
          "data": {
            "text/html": [
              "<div>\n",
              "<style scoped>\n",
              "    .dataframe tbody tr th:only-of-type {\n",
              "        vertical-align: middle;\n",
              "    }\n",
              "\n",
              "    .dataframe tbody tr th {\n",
              "        vertical-align: top;\n",
              "    }\n",
              "\n",
              "    .dataframe thead th {\n",
              "        text-align: right;\n",
              "    }\n",
              "</style>\n",
              "<table border=\"1\" class=\"dataframe\">\n",
              "  <thead>\n",
              "    <tr style=\"text-align: right;\">\n",
              "      <th></th>\n",
              "      <th>contract_dt</th>\n",
              "      <th>month</th>\n",
              "      <th>cnt</th>\n",
              "      <th>client_id_cnt_dst</th>\n",
              "      <th>credit_amount_sum</th>\n",
              "      <th>credit_amount_avg</th>\n",
              "    </tr>\n",
              "  </thead>\n",
              "  <tbody>\n",
              "    <tr>\n",
              "      <th>0</th>\n",
              "      <td>2007-05-20 18:30:19</td>\n",
              "      <td>2007-05-01</td>\n",
              "      <td>81</td>\n",
              "      <td>81</td>\n",
              "      <td>207663</td>\n",
              "      <td>2563.740741</td>\n",
              "    </tr>\n",
              "    <tr>\n",
              "      <th>1</th>\n",
              "      <td>2007-06-19 09:54:24</td>\n",
              "      <td>2007-06-01</td>\n",
              "      <td>74</td>\n",
              "      <td>74</td>\n",
              "      <td>239594</td>\n",
              "      <td>3237.756757</td>\n",
              "    </tr>\n",
              "    <tr>\n",
              "      <th>2</th>\n",
              "      <td>2007-07-21 13:22:14</td>\n",
              "      <td>2007-07-01</td>\n",
              "      <td>71</td>\n",
              "      <td>71</td>\n",
              "      <td>224333</td>\n",
              "      <td>3159.619718</td>\n",
              "    </tr>\n",
              "    <tr>\n",
              "      <th>3</th>\n",
              "      <td>2007-08-01 18:36:24</td>\n",
              "      <td>2007-08-01</td>\n",
              "      <td>57</td>\n",
              "      <td>57</td>\n",
              "      <td>178569</td>\n",
              "      <td>3132.789474</td>\n",
              "    </tr>\n",
              "    <tr>\n",
              "      <th>4</th>\n",
              "      <td>2007-09-11 20:27:28</td>\n",
              "      <td>2007-09-01</td>\n",
              "      <td>58</td>\n",
              "      <td>58</td>\n",
              "      <td>186909</td>\n",
              "      <td>3222.568966</td>\n",
              "    </tr>\n",
              "    <tr>\n",
              "      <th>5</th>\n",
              "      <td>2007-10-03 06:52:44</td>\n",
              "      <td>2007-10-01</td>\n",
              "      <td>70</td>\n",
              "      <td>70</td>\n",
              "      <td>188534</td>\n",
              "      <td>2693.342857</td>\n",
              "    </tr>\n",
              "    <tr>\n",
              "      <th>6</th>\n",
              "      <td>2007-11-29 00:20:44</td>\n",
              "      <td>2007-11-01</td>\n",
              "      <td>87</td>\n",
              "      <td>87</td>\n",
              "      <td>300504</td>\n",
              "      <td>3454.068966</td>\n",
              "    </tr>\n",
              "    <tr>\n",
              "      <th>7</th>\n",
              "      <td>2007-12-18 13:03:24</td>\n",
              "      <td>2007-12-01</td>\n",
              "      <td>77</td>\n",
              "      <td>77</td>\n",
              "      <td>273973</td>\n",
              "      <td>3558.090909</td>\n",
              "    </tr>\n",
              "    <tr>\n",
              "      <th>8</th>\n",
              "      <td>2008-01-20 14:51:24</td>\n",
              "      <td>2008-01-01</td>\n",
              "      <td>93</td>\n",
              "      <td>93</td>\n",
              "      <td>288080</td>\n",
              "      <td>3097.634409</td>\n",
              "    </tr>\n",
              "    <tr>\n",
              "      <th>9</th>\n",
              "      <td>2008-02-14 01:58:09</td>\n",
              "      <td>2008-02-01</td>\n",
              "      <td>55</td>\n",
              "      <td>55</td>\n",
              "      <td>211128</td>\n",
              "      <td>3838.690909</td>\n",
              "    </tr>\n",
              "    <tr>\n",
              "      <th>10</th>\n",
              "      <td>2008-03-22 10:32:04</td>\n",
              "      <td>2008-03-01</td>\n",
              "      <td>63</td>\n",
              "      <td>63</td>\n",
              "      <td>204944</td>\n",
              "      <td>3253.079365</td>\n",
              "    </tr>\n",
              "    <tr>\n",
              "      <th>11</th>\n",
              "      <td>2008-04-27 08:23:07</td>\n",
              "      <td>2008-04-01</td>\n",
              "      <td>85</td>\n",
              "      <td>85</td>\n",
              "      <td>305409</td>\n",
              "      <td>3593.047059</td>\n",
              "    </tr>\n",
              "    <tr>\n",
              "      <th>12</th>\n",
              "      <td>2008-05-29 21:18:31</td>\n",
              "      <td>2008-05-01</td>\n",
              "      <td>67</td>\n",
              "      <td>67</td>\n",
              "      <td>263043</td>\n",
              "      <td>3926.014925</td>\n",
              "    </tr>\n",
              "    <tr>\n",
              "      <th>13</th>\n",
              "      <td>2008-06-29 18:52:00</td>\n",
              "      <td>2008-06-01</td>\n",
              "      <td>62</td>\n",
              "      <td>62</td>\n",
              "      <td>198575</td>\n",
              "      <td>3202.822581</td>\n",
              "    </tr>\n",
              "  </tbody>\n",
              "</table>\n",
              "</div>"
            ],
            "text/plain": [
              "            contract_dt       month  ...  credit_amount_sum  credit_amount_avg\n",
              "0   2007-05-20 18:30:19  2007-05-01  ...             207663        2563.740741\n",
              "1   2007-06-19 09:54:24  2007-06-01  ...             239594        3237.756757\n",
              "2   2007-07-21 13:22:14  2007-07-01  ...             224333        3159.619718\n",
              "3   2007-08-01 18:36:24  2007-08-01  ...             178569        3132.789474\n",
              "4   2007-09-11 20:27:28  2007-09-01  ...             186909        3222.568966\n",
              "5   2007-10-03 06:52:44  2007-10-01  ...             188534        2693.342857\n",
              "6   2007-11-29 00:20:44  2007-11-01  ...             300504        3454.068966\n",
              "7   2007-12-18 13:03:24  2007-12-01  ...             273973        3558.090909\n",
              "8   2008-01-20 14:51:24  2008-01-01  ...             288080        3097.634409\n",
              "9   2008-02-14 01:58:09  2008-02-01  ...             211128        3838.690909\n",
              "10  2008-03-22 10:32:04  2008-03-01  ...             204944        3253.079365\n",
              "11  2008-04-27 08:23:07  2008-04-01  ...             305409        3593.047059\n",
              "12  2008-05-29 21:18:31  2008-05-01  ...             263043        3926.014925\n",
              "13  2008-06-29 18:52:00  2008-06-01  ...             198575        3202.822581\n",
              "\n",
              "[14 rows x 6 columns]"
            ]
          },
          "metadata": {
            "tags": []
          },
          "execution_count": 84
        }
      ]
    },
    {
      "cell_type": "code",
      "metadata": {
        "colab": {
          "base_uri": "https://localhost:8080/"
        },
        "id": "EMft4VRaEfmn",
        "outputId": "165a64f6-1ecc-48db-cddf-af69fee65783"
      },
      "source": [
        "pd.Series(range(600)).sample(1000,replace=True)"
      ],
      "execution_count": 86,
      "outputs": [
        {
          "output_type": "execute_result",
          "data": {
            "text/plain": [
              "487    487\n",
              "189    189\n",
              "391    391\n",
              "271    271\n",
              "84      84\n",
              "      ... \n",
              "361    361\n",
              "175    175\n",
              "268    268\n",
              "168    168\n",
              "446    446\n",
              "Length: 1000, dtype: int64"
            ]
          },
          "metadata": {
            "tags": []
          },
          "execution_count": 86
        }
      ]
    },
    {
      "cell_type": "code",
      "metadata": {
        "id": "H4m8nFLsGBBP"
      },
      "source": [
        "df['client_id_2'] = pd.Series(range(600)).sample(1000,replace=True).values"
      ],
      "execution_count": 93,
      "outputs": []
    },
    {
      "cell_type": "code",
      "metadata": {
        "id": "UvtFEPc4GGq-"
      },
      "source": [
        "df.to_sql('german_credit_not_uniq',con,index=False,if_exists='replace')"
      ],
      "execution_count": 88,
      "outputs": []
    },
    {
      "cell_type": "code",
      "metadata": {
        "id": "JZ3mADEVGNOQ"
      },
      "source": [
        "sql = ''' select date(t.contract_dt, 'start of month') as month,\n",
        "count(*) as cnt,\n",
        "count(distinct t.client_id_2) as client_id_cnt_dst,\n",
        "sum(t.credit_amount) as credit_amount_sum,\n",
        "avg(credit_amount) as credit_amount_avg\n",
        "\n",
        "from german_credit_not_uniq t\n",
        "group by month\n",
        "order by month'''"
      ],
      "execution_count": 96,
      "outputs": []
    },
    {
      "cell_type": "code",
      "metadata": {
        "colab": {
          "base_uri": "https://localhost:8080/",
          "height": 483
        },
        "id": "RaNGQg-mGPzY",
        "outputId": "96d07e28-6dd6-47b4-c600-b66c3b0c8f45"
      },
      "source": [
        "select(sql)"
      ],
      "execution_count": 97,
      "outputs": [
        {
          "output_type": "execute_result",
          "data": {
            "text/html": [
              "<div>\n",
              "<style scoped>\n",
              "    .dataframe tbody tr th:only-of-type {\n",
              "        vertical-align: middle;\n",
              "    }\n",
              "\n",
              "    .dataframe tbody tr th {\n",
              "        vertical-align: top;\n",
              "    }\n",
              "\n",
              "    .dataframe thead th {\n",
              "        text-align: right;\n",
              "    }\n",
              "</style>\n",
              "<table border=\"1\" class=\"dataframe\">\n",
              "  <thead>\n",
              "    <tr style=\"text-align: right;\">\n",
              "      <th></th>\n",
              "      <th>month</th>\n",
              "      <th>cnt</th>\n",
              "      <th>client_id_cnt_dst</th>\n",
              "      <th>credit_amount_sum</th>\n",
              "      <th>credit_amount_avg</th>\n",
              "    </tr>\n",
              "  </thead>\n",
              "  <tbody>\n",
              "    <tr>\n",
              "      <th>0</th>\n",
              "      <td>2007-05-01</td>\n",
              "      <td>81</td>\n",
              "      <td>78</td>\n",
              "      <td>207663</td>\n",
              "      <td>2563.740741</td>\n",
              "    </tr>\n",
              "    <tr>\n",
              "      <th>1</th>\n",
              "      <td>2007-06-01</td>\n",
              "      <td>74</td>\n",
              "      <td>70</td>\n",
              "      <td>239594</td>\n",
              "      <td>3237.756757</td>\n",
              "    </tr>\n",
              "    <tr>\n",
              "      <th>2</th>\n",
              "      <td>2007-07-01</td>\n",
              "      <td>71</td>\n",
              "      <td>66</td>\n",
              "      <td>224333</td>\n",
              "      <td>3159.619718</td>\n",
              "    </tr>\n",
              "    <tr>\n",
              "      <th>3</th>\n",
              "      <td>2007-08-01</td>\n",
              "      <td>57</td>\n",
              "      <td>52</td>\n",
              "      <td>178569</td>\n",
              "      <td>3132.789474</td>\n",
              "    </tr>\n",
              "    <tr>\n",
              "      <th>4</th>\n",
              "      <td>2007-09-01</td>\n",
              "      <td>58</td>\n",
              "      <td>55</td>\n",
              "      <td>186909</td>\n",
              "      <td>3222.568966</td>\n",
              "    </tr>\n",
              "    <tr>\n",
              "      <th>5</th>\n",
              "      <td>2007-10-01</td>\n",
              "      <td>70</td>\n",
              "      <td>66</td>\n",
              "      <td>188534</td>\n",
              "      <td>2693.342857</td>\n",
              "    </tr>\n",
              "    <tr>\n",
              "      <th>6</th>\n",
              "      <td>2007-11-01</td>\n",
              "      <td>87</td>\n",
              "      <td>81</td>\n",
              "      <td>300504</td>\n",
              "      <td>3454.068966</td>\n",
              "    </tr>\n",
              "    <tr>\n",
              "      <th>7</th>\n",
              "      <td>2007-12-01</td>\n",
              "      <td>77</td>\n",
              "      <td>72</td>\n",
              "      <td>273973</td>\n",
              "      <td>3558.090909</td>\n",
              "    </tr>\n",
              "    <tr>\n",
              "      <th>8</th>\n",
              "      <td>2008-01-01</td>\n",
              "      <td>93</td>\n",
              "      <td>86</td>\n",
              "      <td>288080</td>\n",
              "      <td>3097.634409</td>\n",
              "    </tr>\n",
              "    <tr>\n",
              "      <th>9</th>\n",
              "      <td>2008-02-01</td>\n",
              "      <td>55</td>\n",
              "      <td>51</td>\n",
              "      <td>211128</td>\n",
              "      <td>3838.690909</td>\n",
              "    </tr>\n",
              "    <tr>\n",
              "      <th>10</th>\n",
              "      <td>2008-03-01</td>\n",
              "      <td>63</td>\n",
              "      <td>60</td>\n",
              "      <td>204944</td>\n",
              "      <td>3253.079365</td>\n",
              "    </tr>\n",
              "    <tr>\n",
              "      <th>11</th>\n",
              "      <td>2008-04-01</td>\n",
              "      <td>85</td>\n",
              "      <td>73</td>\n",
              "      <td>305409</td>\n",
              "      <td>3593.047059</td>\n",
              "    </tr>\n",
              "    <tr>\n",
              "      <th>12</th>\n",
              "      <td>2008-05-01</td>\n",
              "      <td>67</td>\n",
              "      <td>65</td>\n",
              "      <td>263043</td>\n",
              "      <td>3926.014925</td>\n",
              "    </tr>\n",
              "    <tr>\n",
              "      <th>13</th>\n",
              "      <td>2008-06-01</td>\n",
              "      <td>62</td>\n",
              "      <td>62</td>\n",
              "      <td>198575</td>\n",
              "      <td>3202.822581</td>\n",
              "    </tr>\n",
              "  </tbody>\n",
              "</table>\n",
              "</div>"
            ],
            "text/plain": [
              "         month  cnt  client_id_cnt_dst  credit_amount_sum  credit_amount_avg\n",
              "0   2007-05-01   81                 78             207663        2563.740741\n",
              "1   2007-06-01   74                 70             239594        3237.756757\n",
              "2   2007-07-01   71                 66             224333        3159.619718\n",
              "3   2007-08-01   57                 52             178569        3132.789474\n",
              "4   2007-09-01   58                 55             186909        3222.568966\n",
              "5   2007-10-01   70                 66             188534        2693.342857\n",
              "6   2007-11-01   87                 81             300504        3454.068966\n",
              "7   2007-12-01   77                 72             273973        3558.090909\n",
              "8   2008-01-01   93                 86             288080        3097.634409\n",
              "9   2008-02-01   55                 51             211128        3838.690909\n",
              "10  2008-03-01   63                 60             204944        3253.079365\n",
              "11  2008-04-01   85                 73             305409        3593.047059\n",
              "12  2008-05-01   67                 65             263043        3926.014925\n",
              "13  2008-06-01   62                 62             198575        3202.822581"
            ]
          },
          "metadata": {
            "tags": []
          },
          "execution_count": 97
        }
      ]
    },
    {
      "cell_type": "code",
      "metadata": {
        "id": "fw27SkHFGQoC"
      },
      "source": [
        "sql = ''' select \n",
        "case \n",
        "when t.credit_amount <= 1000 then '1. < 1000' \n",
        "when t.credit_amount <= 2000 then '2. 1000-2000'\n",
        "when t.credit_amount <= 3000 then '3. 2000-3000'\n",
        "when t.credit_amount <= 4000 then '4. >= 3000'\n",
        "\n",
        "else 'other' end as credit_amount_bin,\n",
        "\n",
        "count(1)\n",
        "\n",
        "from german_credit t\n",
        "group by 1'''"
      ],
      "execution_count": 110,
      "outputs": []
    },
    {
      "cell_type": "markdown",
      "metadata": {
        "id": "Oe4VZQ25IlRe"
      },
      "source": [
        "1 - номер колонки, можно прописать credit_amount_bin"
      ]
    },
    {
      "cell_type": "code",
      "metadata": {
        "colab": {
          "base_uri": "https://localhost:8080/",
          "height": 204
        },
        "id": "f5a6ifD2G_69",
        "outputId": "249944e8-4a6a-4e0e-8570-b97f2217ce73"
      },
      "source": [
        "select(sql)"
      ],
      "execution_count": 111,
      "outputs": [
        {
          "output_type": "execute_result",
          "data": {
            "text/html": [
              "<div>\n",
              "<style scoped>\n",
              "    .dataframe tbody tr th:only-of-type {\n",
              "        vertical-align: middle;\n",
              "    }\n",
              "\n",
              "    .dataframe tbody tr th {\n",
              "        vertical-align: top;\n",
              "    }\n",
              "\n",
              "    .dataframe thead th {\n",
              "        text-align: right;\n",
              "    }\n",
              "</style>\n",
              "<table border=\"1\" class=\"dataframe\">\n",
              "  <thead>\n",
              "    <tr style=\"text-align: right;\">\n",
              "      <th></th>\n",
              "      <th>credit_amount_bin</th>\n",
              "      <th>count(1)</th>\n",
              "    </tr>\n",
              "  </thead>\n",
              "  <tbody>\n",
              "    <tr>\n",
              "      <th>0</th>\n",
              "      <td>1. &lt; 1000</td>\n",
              "      <td>116</td>\n",
              "    </tr>\n",
              "    <tr>\n",
              "      <th>1</th>\n",
              "      <td>2. 1000-2000</td>\n",
              "      <td>316</td>\n",
              "    </tr>\n",
              "    <tr>\n",
              "      <th>2</th>\n",
              "      <td>3. 2000-3000</td>\n",
              "      <td>188</td>\n",
              "    </tr>\n",
              "    <tr>\n",
              "      <th>3</th>\n",
              "      <td>4. &gt;= 3000</td>\n",
              "      <td>134</td>\n",
              "    </tr>\n",
              "    <tr>\n",
              "      <th>4</th>\n",
              "      <td>other</td>\n",
              "      <td>246</td>\n",
              "    </tr>\n",
              "  </tbody>\n",
              "</table>\n",
              "</div>"
            ],
            "text/plain": [
              "  credit_amount_bin  count(1)\n",
              "0         1. < 1000       116\n",
              "1      2. 1000-2000       316\n",
              "2      3. 2000-3000       188\n",
              "3        4. >= 3000       134\n",
              "4             other       246"
            ]
          },
          "metadata": {
            "tags": []
          },
          "execution_count": 111
        }
      ]
    },
    {
      "cell_type": "code",
      "metadata": {
        "id": "Vtf8PGTvHA9e"
      },
      "source": [
        "sql = ''' select t.housing, t.sex,\n",
        "count(case when t.sex = 'female' then 1 else null end) as female,\n",
        "count(case when t.sex = 'male' then 1 else null end) as male,\n",
        "\n",
        "count(*) as cnt\n",
        "\n",
        "from german_credit t\n",
        "group by t.housing\n",
        "'''"
      ],
      "execution_count": 123,
      "outputs": []
    },
    {
      "cell_type": "code",
      "metadata": {
        "colab": {
          "base_uri": "https://localhost:8080/",
          "height": 142
        },
        "id": "dJ419X2MJqXj",
        "outputId": "57c7dbcd-086f-4ca7-a32f-b7ff38011377"
      },
      "source": [
        "select(sql)"
      ],
      "execution_count": 126,
      "outputs": [
        {
          "output_type": "execute_result",
          "data": {
            "text/html": [
              "<div>\n",
              "<style scoped>\n",
              "    .dataframe tbody tr th:only-of-type {\n",
              "        vertical-align: middle;\n",
              "    }\n",
              "\n",
              "    .dataframe tbody tr th {\n",
              "        vertical-align: top;\n",
              "    }\n",
              "\n",
              "    .dataframe thead th {\n",
              "        text-align: right;\n",
              "    }\n",
              "</style>\n",
              "<table border=\"1\" class=\"dataframe\">\n",
              "  <thead>\n",
              "    <tr style=\"text-align: right;\">\n",
              "      <th></th>\n",
              "      <th>housing</th>\n",
              "      <th>sex</th>\n",
              "      <th>female</th>\n",
              "      <th>male</th>\n",
              "      <th>cnt</th>\n",
              "    </tr>\n",
              "  </thead>\n",
              "  <tbody>\n",
              "    <tr>\n",
              "      <th>0</th>\n",
              "      <td>free</td>\n",
              "      <td>male</td>\n",
              "      <td>19</td>\n",
              "      <td>89</td>\n",
              "      <td>108</td>\n",
              "    </tr>\n",
              "    <tr>\n",
              "      <th>1</th>\n",
              "      <td>own</td>\n",
              "      <td>male</td>\n",
              "      <td>196</td>\n",
              "      <td>517</td>\n",
              "      <td>713</td>\n",
              "    </tr>\n",
              "    <tr>\n",
              "      <th>2</th>\n",
              "      <td>rent</td>\n",
              "      <td>female</td>\n",
              "      <td>95</td>\n",
              "      <td>84</td>\n",
              "      <td>179</td>\n",
              "    </tr>\n",
              "  </tbody>\n",
              "</table>\n",
              "</div>"
            ],
            "text/plain": [
              "  housing     sex  female  male  cnt\n",
              "0    free    male      19    89  108\n",
              "1     own    male     196   517  713\n",
              "2    rent  female      95    84  179"
            ]
          },
          "metadata": {
            "tags": []
          },
          "execution_count": 126
        }
      ]
    },
    {
      "cell_type": "code",
      "metadata": {
        "id": "hme7WHKNKuwb"
      },
      "source": [
        "sql = ''' select distinct t.purpose from german_credit t'''"
      ],
      "execution_count": 127,
      "outputs": []
    },
    {
      "cell_type": "code",
      "metadata": {
        "colab": {
          "base_uri": "https://localhost:8080/"
        },
        "id": "NPwN0mJWKmax",
        "outputId": "6d2d82bb-c20f-4545-bf28-051bcef62a59"
      },
      "source": [
        "list(select(sql)['purpose'].values)"
      ],
      "execution_count": 129,
      "outputs": [
        {
          "output_type": "execute_result",
          "data": {
            "text/plain": [
              "['radio/TV',\n",
              " 'car',\n",
              " 'education',\n",
              " 'furniture/equipment',\n",
              " 'repairs',\n",
              " 'business',\n",
              " 'domestic appliances',\n",
              " 'vacation/others']"
            ]
          },
          "metadata": {
            "tags": []
          },
          "execution_count": 129
        }
      ]
    },
    {
      "cell_type": "code",
      "metadata": {
        "id": "b6Pyo8zqJrKl"
      },
      "source": [
        "purpose = list(select(sql)['purpose'].values)"
      ],
      "execution_count": 130,
      "outputs": []
    },
    {
      "cell_type": "code",
      "metadata": {
        "colab": {
          "base_uri": "https://localhost:8080/"
        },
        "id": "3LwMnYXwK7kT",
        "outputId": "8dfa98d6-2c0b-468f-e6d1-5b7fed7f76f3"
      },
      "source": [
        "for p in purpose:\n",
        "  print(f\"count(case when t.purpose = '{p}' then 1 else null end) as {p.replace(' ','').replace('/','')},\")"
      ],
      "execution_count": 133,
      "outputs": [
        {
          "output_type": "stream",
          "text": [
            "count(case when t.purpose = 'radio/TV' then 1 else null end) as radioTV,\n",
            "count(case when t.purpose = 'car' then 1 else null end) as car,\n",
            "count(case when t.purpose = 'education' then 1 else null end) as education,\n",
            "count(case when t.purpose = 'furniture/equipment' then 1 else null end) as furnitureequipment,\n",
            "count(case when t.purpose = 'repairs' then 1 else null end) as repairs,\n",
            "count(case when t.purpose = 'business' then 1 else null end) as business,\n",
            "count(case when t.purpose = 'domestic appliances' then 1 else null end) as domesticappliances,\n",
            "count(case when t.purpose = 'vacation/others' then 1 else null end) as vacationothers,\n"
          ],
          "name": "stdout"
        }
      ]
    },
    {
      "cell_type": "code",
      "metadata": {
        "id": "j25mvI8iLhA5"
      },
      "source": [
        "sql = ''' select t.housing, t.sex,\n",
        "count(case when t.purpose = 'radio/TV' then 1 else null end) as radioTV,\n",
        "count(case when t.purpose = 'car' then 1 else null end) as car,\n",
        "count(case when t.purpose = 'education' then 1 else null end) as education,\n",
        "count(case when t.purpose = 'furniture/equipment' then 1 else null end) as furnitureequipment,\n",
        "count(case when t.purpose = 'repairs' then 1 else null end) as repairs,\n",
        "count(case when t.purpose = 'business' then 1 else null end) as business,\n",
        "count(case when t.purpose = 'domestic appliances' then 1 else null end) as domesticappliances,\n",
        "count(case when t.purpose = 'vacation/others' then 1 else null end) as vacationothers,\n",
        "\n",
        "count(*) as cnt\n",
        "\n",
        "from german_credit t\n",
        "group by t.housing\n",
        "'''"
      ],
      "execution_count": 136,
      "outputs": []
    },
    {
      "cell_type": "code",
      "metadata": {
        "colab": {
          "base_uri": "https://localhost:8080/",
          "height": 142
        },
        "id": "Ym_zzzX1LonM",
        "outputId": "1dea45c3-5480-4107-ca97-055cf16431be"
      },
      "source": [
        "select(sql)"
      ],
      "execution_count": 137,
      "outputs": [
        {
          "output_type": "execute_result",
          "data": {
            "text/html": [
              "<div>\n",
              "<style scoped>\n",
              "    .dataframe tbody tr th:only-of-type {\n",
              "        vertical-align: middle;\n",
              "    }\n",
              "\n",
              "    .dataframe tbody tr th {\n",
              "        vertical-align: top;\n",
              "    }\n",
              "\n",
              "    .dataframe thead th {\n",
              "        text-align: right;\n",
              "    }\n",
              "</style>\n",
              "<table border=\"1\" class=\"dataframe\">\n",
              "  <thead>\n",
              "    <tr style=\"text-align: right;\">\n",
              "      <th></th>\n",
              "      <th>housing</th>\n",
              "      <th>sex</th>\n",
              "      <th>radioTV</th>\n",
              "      <th>car</th>\n",
              "      <th>education</th>\n",
              "      <th>furnitureequipment</th>\n",
              "      <th>repairs</th>\n",
              "      <th>business</th>\n",
              "      <th>domesticappliances</th>\n",
              "      <th>vacationothers</th>\n",
              "      <th>cnt</th>\n",
              "    </tr>\n",
              "  </thead>\n",
              "  <tbody>\n",
              "    <tr>\n",
              "      <th>0</th>\n",
              "      <td>free</td>\n",
              "      <td>male</td>\n",
              "      <td>15</td>\n",
              "      <td>55</td>\n",
              "      <td>15</td>\n",
              "      <td>11</td>\n",
              "      <td>3</td>\n",
              "      <td>5</td>\n",
              "      <td>0</td>\n",
              "      <td>4</td>\n",
              "      <td>108</td>\n",
              "    </tr>\n",
              "    <tr>\n",
              "      <th>1</th>\n",
              "      <td>own</td>\n",
              "      <td>male</td>\n",
              "      <td>227</td>\n",
              "      <td>219</td>\n",
              "      <td>34</td>\n",
              "      <td>122</td>\n",
              "      <td>17</td>\n",
              "      <td>76</td>\n",
              "      <td>10</td>\n",
              "      <td>8</td>\n",
              "      <td>713</td>\n",
              "    </tr>\n",
              "    <tr>\n",
              "      <th>2</th>\n",
              "      <td>rent</td>\n",
              "      <td>female</td>\n",
              "      <td>38</td>\n",
              "      <td>63</td>\n",
              "      <td>10</td>\n",
              "      <td>48</td>\n",
              "      <td>2</td>\n",
              "      <td>16</td>\n",
              "      <td>2</td>\n",
              "      <td>0</td>\n",
              "      <td>179</td>\n",
              "    </tr>\n",
              "  </tbody>\n",
              "</table>\n",
              "</div>"
            ],
            "text/plain": [
              "  housing     sex  radioTV  ...  domesticappliances  vacationothers  cnt\n",
              "0    free    male       15  ...                   0               4  108\n",
              "1     own    male      227  ...                  10               8  713\n",
              "2    rent  female       38  ...                   2               0  179\n",
              "\n",
              "[3 rows x 11 columns]"
            ]
          },
          "metadata": {
            "tags": []
          },
          "execution_count": 137
        }
      ]
    },
    {
      "cell_type": "code",
      "metadata": {
        "id": "f3YBwkdYLpUL"
      },
      "source": [
        "cat = '''select t.purpose, \n",
        "case when t.purpose like '%rep%' then 'repairs'\n",
        "\n",
        "when t.purpose like '%car%' or t.purpose like '%auto%' then 'car'\n",
        "\n",
        "else 'others' end as purp_cnt,\n",
        "\n",
        "count(1)\n",
        "from german_credit t\n",
        "group by t.purpose\n",
        "'''\n"
      ],
      "execution_count": 162,
      "outputs": []
    },
    {
      "cell_type": "code",
      "metadata": {
        "colab": {
          "base_uri": "https://localhost:8080/",
          "height": 297
        },
        "id": "MDFn5OCgMohM",
        "outputId": "f6eb0200-177e-484a-95a7-6c22db6ec7cc"
      },
      "source": [
        "select(sql)"
      ],
      "execution_count": 161,
      "outputs": [
        {
          "output_type": "execute_result",
          "data": {
            "text/html": [
              "<div>\n",
              "<style scoped>\n",
              "    .dataframe tbody tr th:only-of-type {\n",
              "        vertical-align: middle;\n",
              "    }\n",
              "\n",
              "    .dataframe tbody tr th {\n",
              "        vertical-align: top;\n",
              "    }\n",
              "\n",
              "    .dataframe thead th {\n",
              "        text-align: right;\n",
              "    }\n",
              "</style>\n",
              "<table border=\"1\" class=\"dataframe\">\n",
              "  <thead>\n",
              "    <tr style=\"text-align: right;\">\n",
              "      <th></th>\n",
              "      <th>purpose</th>\n",
              "      <th>purp_cnt</th>\n",
              "      <th>count(1)</th>\n",
              "    </tr>\n",
              "  </thead>\n",
              "  <tbody>\n",
              "    <tr>\n",
              "      <th>0</th>\n",
              "      <td>business</td>\n",
              "      <td>others</td>\n",
              "      <td>97</td>\n",
              "    </tr>\n",
              "    <tr>\n",
              "      <th>1</th>\n",
              "      <td>car</td>\n",
              "      <td>car</td>\n",
              "      <td>337</td>\n",
              "    </tr>\n",
              "    <tr>\n",
              "      <th>2</th>\n",
              "      <td>domestic appliances</td>\n",
              "      <td>others</td>\n",
              "      <td>12</td>\n",
              "    </tr>\n",
              "    <tr>\n",
              "      <th>3</th>\n",
              "      <td>education</td>\n",
              "      <td>others</td>\n",
              "      <td>59</td>\n",
              "    </tr>\n",
              "    <tr>\n",
              "      <th>4</th>\n",
              "      <td>furniture/equipment</td>\n",
              "      <td>others</td>\n",
              "      <td>181</td>\n",
              "    </tr>\n",
              "    <tr>\n",
              "      <th>5</th>\n",
              "      <td>radio/TV</td>\n",
              "      <td>others</td>\n",
              "      <td>280</td>\n",
              "    </tr>\n",
              "    <tr>\n",
              "      <th>6</th>\n",
              "      <td>repairs</td>\n",
              "      <td>repairs</td>\n",
              "      <td>22</td>\n",
              "    </tr>\n",
              "    <tr>\n",
              "      <th>7</th>\n",
              "      <td>vacation/others</td>\n",
              "      <td>others</td>\n",
              "      <td>12</td>\n",
              "    </tr>\n",
              "  </tbody>\n",
              "</table>\n",
              "</div>"
            ],
            "text/plain": [
              "               purpose purp_cnt  count(1)\n",
              "0             business   others        97\n",
              "1                  car      car       337\n",
              "2  domestic appliances   others        12\n",
              "3            education   others        59\n",
              "4  furniture/equipment   others       181\n",
              "5             radio/TV   others       280\n",
              "6              repairs  repairs        22\n",
              "7      vacation/others   others        12"
            ]
          },
          "metadata": {
            "tags": []
          },
          "execution_count": 161
        }
      ]
    },
    {
      "cell_type": "code",
      "metadata": {
        "id": "n25xm3EUMpUU"
      },
      "source": [
        "sql = f'''select t.purpose\n",
        "from ({cat}) t\n",
        "\n",
        "group by t.purpose\n",
        "order by count(*) desc\n",
        "'''\n"
      ],
      "execution_count": 171,
      "outputs": []
    },
    {
      "cell_type": "code",
      "metadata": {
        "colab": {
          "base_uri": "https://localhost:8080/",
          "height": 297
        },
        "id": "nATxMe4YOEhM",
        "outputId": "c8319f2f-6f82-42d5-a240-a84bcd94fa9b"
      },
      "source": [
        "select(sql)"
      ],
      "execution_count": 172,
      "outputs": [
        {
          "output_type": "execute_result",
          "data": {
            "text/html": [
              "<div>\n",
              "<style scoped>\n",
              "    .dataframe tbody tr th:only-of-type {\n",
              "        vertical-align: middle;\n",
              "    }\n",
              "\n",
              "    .dataframe tbody tr th {\n",
              "        vertical-align: top;\n",
              "    }\n",
              "\n",
              "    .dataframe thead th {\n",
              "        text-align: right;\n",
              "    }\n",
              "</style>\n",
              "<table border=\"1\" class=\"dataframe\">\n",
              "  <thead>\n",
              "    <tr style=\"text-align: right;\">\n",
              "      <th></th>\n",
              "      <th>purpose</th>\n",
              "    </tr>\n",
              "  </thead>\n",
              "  <tbody>\n",
              "    <tr>\n",
              "      <th>0</th>\n",
              "      <td>vacation/others</td>\n",
              "    </tr>\n",
              "    <tr>\n",
              "      <th>1</th>\n",
              "      <td>repairs</td>\n",
              "    </tr>\n",
              "    <tr>\n",
              "      <th>2</th>\n",
              "      <td>radio/TV</td>\n",
              "    </tr>\n",
              "    <tr>\n",
              "      <th>3</th>\n",
              "      <td>furniture/equipment</td>\n",
              "    </tr>\n",
              "    <tr>\n",
              "      <th>4</th>\n",
              "      <td>education</td>\n",
              "    </tr>\n",
              "    <tr>\n",
              "      <th>5</th>\n",
              "      <td>domestic appliances</td>\n",
              "    </tr>\n",
              "    <tr>\n",
              "      <th>6</th>\n",
              "      <td>car</td>\n",
              "    </tr>\n",
              "    <tr>\n",
              "      <th>7</th>\n",
              "      <td>business</td>\n",
              "    </tr>\n",
              "  </tbody>\n",
              "</table>\n",
              "</div>"
            ],
            "text/plain": [
              "               purpose\n",
              "0      vacation/others\n",
              "1              repairs\n",
              "2             radio/TV\n",
              "3  furniture/equipment\n",
              "4            education\n",
              "5  domestic appliances\n",
              "6                  car\n",
              "7             business"
            ]
          },
          "metadata": {
            "tags": []
          },
          "execution_count": 172
        }
      ]
    },
    {
      "cell_type": "code",
      "metadata": {
        "id": "wRbBU-ZYOGa2"
      },
      "source": [
        ""
      ],
      "execution_count": null,
      "outputs": []
    }
  ]
}