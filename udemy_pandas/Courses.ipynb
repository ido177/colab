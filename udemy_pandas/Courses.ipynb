{
  "nbformat": 4,
  "nbformat_minor": 0,
  "metadata": {
    "colab": {
      "name": "Courses.ipynb",
      "provenance": [],
      "collapsed_sections": [],
      "authorship_tag": "ABX9TyOEbMRLy55rnaxTao28yeWs",
      "include_colab_link": true
    },
    "kernelspec": {
      "name": "python3",
      "display_name": "Python 3"
    },
    "language_info": {
      "name": "python"
    }
  },
  "cells": [
    {
      "cell_type": "markdown",
      "metadata": {
        "id": "view-in-github",
        "colab_type": "text"
      },
      "source": [
        "<a href=\"https://colab.research.google.com/github/ido177/colab/blob/main/udemy/Courses.ipynb\" target=\"_parent\"><img src=\"https://colab.research.google.com/assets/colab-badge.svg\" alt=\"Open In Colab\"/></a>"
      ]
    },
    {
      "cell_type": "code",
      "metadata": {
        "id": "QwM6iQVYxwc5"
      },
      "source": [
        "import pandas as pd"
      ],
      "execution_count": 1,
      "outputs": []
    },
    {
      "cell_type": "code",
      "metadata": {
        "colab": {
          "base_uri": "https://localhost:8080/"
        },
        "id": "PFUmp46Exyio",
        "outputId": "c3721254-8088-402d-f925-521c8b69cb92"
      },
      "source": [
        "!gdown --id 1hCTK5CO48wzk8nFCcWS4TV19rLFk8ekG"
      ],
      "execution_count": 2,
      "outputs": [
        {
          "output_type": "stream",
          "text": [
            "Downloading...\n",
            "From: https://drive.google.com/uc?id=1hCTK5CO48wzk8nFCcWS4TV19rLFk8ekG\n",
            "To: /content/Udemy+Courses.csv\n",
            "\r  0% 0.00/492k [00:00<?, ?B/s]\r100% 492k/492k [00:00<00:00, 68.3MB/s]\n"
          ],
          "name": "stdout"
        }
      ]
    },
    {
      "cell_type": "code",
      "metadata": {
        "id": "InrY_k_qx0tK"
      },
      "source": [
        "df = pd.read_csv(r\"Udemy+Courses.csv\")"
      ],
      "execution_count": 3,
      "outputs": []
    },
    {
      "cell_type": "code",
      "metadata": {
        "colab": {
          "base_uri": "https://localhost:8080/",
          "height": 674
        },
        "id": "IQHzPfzxx51m",
        "outputId": "2dd06dcc-80b4-420b-e340-2c76e60edb81"
      },
      "source": [
        "df"
      ],
      "execution_count": 4,
      "outputs": [
        {
          "output_type": "execute_result",
          "data": {
            "text/html": [
              "<div>\n",
              "<style scoped>\n",
              "    .dataframe tbody tr th:only-of-type {\n",
              "        vertical-align: middle;\n",
              "    }\n",
              "\n",
              "    .dataframe tbody tr th {\n",
              "        vertical-align: top;\n",
              "    }\n",
              "\n",
              "    .dataframe thead th {\n",
              "        text-align: right;\n",
              "    }\n",
              "</style>\n",
              "<table border=\"1\" class=\"dataframe\">\n",
              "  <thead>\n",
              "    <tr style=\"text-align: right;\">\n",
              "      <th></th>\n",
              "      <th>course_id</th>\n",
              "      <th>course_title</th>\n",
              "      <th>is_paid</th>\n",
              "      <th>price</th>\n",
              "      <th>num_subscribers</th>\n",
              "      <th>num_reviews</th>\n",
              "      <th>num_lectures</th>\n",
              "      <th>level</th>\n",
              "      <th>content_duration</th>\n",
              "      <th>published_timestamp</th>\n",
              "      <th>subject</th>\n",
              "    </tr>\n",
              "  </thead>\n",
              "  <tbody>\n",
              "    <tr>\n",
              "      <th>0</th>\n",
              "      <td>288942</td>\n",
              "      <td>#1 Piano Hand Coordination: Play 10th Ballad i...</td>\n",
              "      <td>True</td>\n",
              "      <td>35</td>\n",
              "      <td>3137</td>\n",
              "      <td>18</td>\n",
              "      <td>68</td>\n",
              "      <td>All Levels</td>\n",
              "      <td>1.5 hours</td>\n",
              "      <td>2014-09-18T05:07:05Z</td>\n",
              "      <td>Musical Instruments</td>\n",
              "    </tr>\n",
              "    <tr>\n",
              "      <th>1</th>\n",
              "      <td>1170074</td>\n",
              "      <td>#10 Hand Coordination - Transfer Chord Ballad ...</td>\n",
              "      <td>True</td>\n",
              "      <td>75</td>\n",
              "      <td>1593</td>\n",
              "      <td>1</td>\n",
              "      <td>41</td>\n",
              "      <td>Intermediate Level</td>\n",
              "      <td>1 hour</td>\n",
              "      <td>2017-04-12T19:06:34Z</td>\n",
              "      <td>Musical Instruments</td>\n",
              "    </tr>\n",
              "    <tr>\n",
              "      <th>2</th>\n",
              "      <td>1193886</td>\n",
              "      <td>#12 Hand Coordination: Let your Hands dance wi...</td>\n",
              "      <td>True</td>\n",
              "      <td>75</td>\n",
              "      <td>482</td>\n",
              "      <td>1</td>\n",
              "      <td>47</td>\n",
              "      <td>Intermediate Level</td>\n",
              "      <td>1.5 hours</td>\n",
              "      <td>2017-04-26T18:34:57Z</td>\n",
              "      <td>Musical Instruments</td>\n",
              "    </tr>\n",
              "    <tr>\n",
              "      <th>3</th>\n",
              "      <td>1116700</td>\n",
              "      <td>#4 Piano Hand Coordination: Fun Piano Runs in ...</td>\n",
              "      <td>True</td>\n",
              "      <td>75</td>\n",
              "      <td>850</td>\n",
              "      <td>3</td>\n",
              "      <td>43</td>\n",
              "      <td>Intermediate Level</td>\n",
              "      <td>1 hour</td>\n",
              "      <td>2017-02-21T23:48:18Z</td>\n",
              "      <td>Musical Instruments</td>\n",
              "    </tr>\n",
              "    <tr>\n",
              "      <th>4</th>\n",
              "      <td>1120410</td>\n",
              "      <td>#5  Piano Hand Coordination:  Piano Runs in 2 ...</td>\n",
              "      <td>True</td>\n",
              "      <td>75</td>\n",
              "      <td>940</td>\n",
              "      <td>3</td>\n",
              "      <td>32</td>\n",
              "      <td>Intermediate Level</td>\n",
              "      <td>37 mins</td>\n",
              "      <td>2017-02-21T23:44:49Z</td>\n",
              "      <td>Musical Instruments</td>\n",
              "    </tr>\n",
              "    <tr>\n",
              "      <th>...</th>\n",
              "      <td>...</td>\n",
              "      <td>...</td>\n",
              "      <td>...</td>\n",
              "      <td>...</td>\n",
              "      <td>...</td>\n",
              "      <td>...</td>\n",
              "      <td>...</td>\n",
              "      <td>...</td>\n",
              "      <td>...</td>\n",
              "      <td>...</td>\n",
              "      <td>...</td>\n",
              "    </tr>\n",
              "    <tr>\n",
              "      <th>3677</th>\n",
              "      <td>328960</td>\n",
              "      <td>Your Own Site in 45 Min: The Complete Wordpres...</td>\n",
              "      <td>True</td>\n",
              "      <td>120</td>\n",
              "      <td>1566</td>\n",
              "      <td>29</td>\n",
              "      <td>36</td>\n",
              "      <td>All Levels</td>\n",
              "      <td>4 hours</td>\n",
              "      <td>2015-04-20T22:15:17Z</td>\n",
              "      <td>Web Development</td>\n",
              "    </tr>\n",
              "    <tr>\n",
              "      <th>3678</th>\n",
              "      <td>552700</td>\n",
              "      <td>Your Second Course on Piano: Two Handed Playing</td>\n",
              "      <td>True</td>\n",
              "      <td>70</td>\n",
              "      <td>1018</td>\n",
              "      <td>12</td>\n",
              "      <td>22</td>\n",
              "      <td>Beginner Level</td>\n",
              "      <td>5 hours</td>\n",
              "      <td>2015-10-26T20:04:21Z</td>\n",
              "      <td>Musical Instruments</td>\n",
              "    </tr>\n",
              "    <tr>\n",
              "      <th>3679</th>\n",
              "      <td>631754</td>\n",
              "      <td>Zend Framework 2: Learn the PHP framework ZF2 ...</td>\n",
              "      <td>True</td>\n",
              "      <td>40</td>\n",
              "      <td>723</td>\n",
              "      <td>130</td>\n",
              "      <td>37</td>\n",
              "      <td>All Levels</td>\n",
              "      <td>6.5 hours</td>\n",
              "      <td>2015-11-11T18:55:45Z</td>\n",
              "      <td>Web Development</td>\n",
              "    </tr>\n",
              "    <tr>\n",
              "      <th>3680</th>\n",
              "      <td>1225194</td>\n",
              "      <td>Zoho Books Gestion Financière d'Entreprise pas...</td>\n",
              "      <td>False</td>\n",
              "      <td>Free</td>\n",
              "      <td>229</td>\n",
              "      <td>0</td>\n",
              "      <td>33</td>\n",
              "      <td>All Levels</td>\n",
              "      <td>2 hours</td>\n",
              "      <td>2017-05-26T16:45:55Z</td>\n",
              "      <td>Business Finance</td>\n",
              "    </tr>\n",
              "    <tr>\n",
              "      <th>3681</th>\n",
              "      <td>964478</td>\n",
              "      <td>Zombie Apocalypse Photoshop Actions</td>\n",
              "      <td>True</td>\n",
              "      <td>50</td>\n",
              "      <td>12</td>\n",
              "      <td>1</td>\n",
              "      <td>15</td>\n",
              "      <td>All Levels</td>\n",
              "      <td>1.5 hours</td>\n",
              "      <td>2016-09-26T22:19:48Z</td>\n",
              "      <td>Graphic Design</td>\n",
              "    </tr>\n",
              "  </tbody>\n",
              "</table>\n",
              "<p>3682 rows × 11 columns</p>\n",
              "</div>"
            ],
            "text/plain": [
              "      course_id  ...              subject\n",
              "0        288942  ...  Musical Instruments\n",
              "1       1170074  ...  Musical Instruments\n",
              "2       1193886  ...  Musical Instruments\n",
              "3       1116700  ...  Musical Instruments\n",
              "4       1120410  ...  Musical Instruments\n",
              "...         ...  ...                  ...\n",
              "3677     328960  ...      Web Development\n",
              "3678     552700  ...  Musical Instruments\n",
              "3679     631754  ...      Web Development\n",
              "3680    1225194  ...     Business Finance\n",
              "3681     964478  ...       Graphic Design\n",
              "\n",
              "[3682 rows x 11 columns]"
            ]
          },
          "metadata": {},
          "execution_count": 4
        }
      ]
    },
    {
      "cell_type": "markdown",
      "metadata": {
        "id": "ynilZmi30nIO"
      },
      "source": [
        "1. What are the deffrent subject Udemy offers?"
      ]
    },
    {
      "cell_type": "code",
      "metadata": {
        "colab": {
          "base_uri": "https://localhost:8080/",
          "height": 97
        },
        "id": "6CwWDMv5ymVh",
        "outputId": "bbd5296e-e34f-4858-f358-ffa49a2836bc"
      },
      "source": [
        "df.head(1)"
      ],
      "execution_count": 7,
      "outputs": [
        {
          "output_type": "execute_result",
          "data": {
            "text/html": [
              "<div>\n",
              "<style scoped>\n",
              "    .dataframe tbody tr th:only-of-type {\n",
              "        vertical-align: middle;\n",
              "    }\n",
              "\n",
              "    .dataframe tbody tr th {\n",
              "        vertical-align: top;\n",
              "    }\n",
              "\n",
              "    .dataframe thead th {\n",
              "        text-align: right;\n",
              "    }\n",
              "</style>\n",
              "<table border=\"1\" class=\"dataframe\">\n",
              "  <thead>\n",
              "    <tr style=\"text-align: right;\">\n",
              "      <th></th>\n",
              "      <th>course_id</th>\n",
              "      <th>course_title</th>\n",
              "      <th>is_paid</th>\n",
              "      <th>price</th>\n",
              "      <th>num_subscribers</th>\n",
              "      <th>num_reviews</th>\n",
              "      <th>num_lectures</th>\n",
              "      <th>level</th>\n",
              "      <th>content_duration</th>\n",
              "      <th>published_timestamp</th>\n",
              "      <th>subject</th>\n",
              "    </tr>\n",
              "  </thead>\n",
              "  <tbody>\n",
              "    <tr>\n",
              "      <th>0</th>\n",
              "      <td>288942</td>\n",
              "      <td>#1 Piano Hand Coordination: Play 10th Ballad i...</td>\n",
              "      <td>True</td>\n",
              "      <td>35</td>\n",
              "      <td>3137</td>\n",
              "      <td>18</td>\n",
              "      <td>68</td>\n",
              "      <td>All Levels</td>\n",
              "      <td>1.5 hours</td>\n",
              "      <td>2014-09-18T05:07:05Z</td>\n",
              "      <td>Musical Instruments</td>\n",
              "    </tr>\n",
              "  </tbody>\n",
              "</table>\n",
              "</div>"
            ],
            "text/plain": [
              "   course_id  ...              subject\n",
              "0     288942  ...  Musical Instruments\n",
              "\n",
              "[1 rows x 11 columns]"
            ]
          },
          "metadata": {},
          "execution_count": 7
        }
      ]
    },
    {
      "cell_type": "code",
      "metadata": {
        "colab": {
          "base_uri": "https://localhost:8080/"
        },
        "id": "0RMA_uhm0txQ",
        "outputId": "ef35168e-e619-4d7c-c4fe-2c62b3608077"
      },
      "source": [
        "df['subject'].unique()"
      ],
      "execution_count": 6,
      "outputs": [
        {
          "output_type": "execute_result",
          "data": {
            "text/plain": [
              "array(['Musical Instruments', 'Business Finance', 'Graphic Design',\n",
              "       'Web Development'], dtype=object)"
            ]
          },
          "metadata": {},
          "execution_count": 6
        }
      ]
    },
    {
      "cell_type": "markdown",
      "metadata": {
        "id": "WEnckabr09aI"
      },
      "source": [
        "2. find out the max number of courses each category has"
      ]
    },
    {
      "cell_type": "code",
      "metadata": {
        "colab": {
          "base_uri": "https://localhost:8080/"
        },
        "id": "o6fWJlIM0yND",
        "outputId": "c34a3ad1-d7fc-46de-fce0-29c869111d63"
      },
      "source": [
        "df.subject.value_counts()"
      ],
      "execution_count": 10,
      "outputs": [
        {
          "output_type": "execute_result",
          "data": {
            "text/plain": [
              "Web Development        1200\n",
              "Business Finance       1199\n",
              "Musical Instruments     680\n",
              "Graphic Design          603\n",
              "Name: subject, dtype: int64"
            ]
          },
          "metadata": {},
          "execution_count": 10
        }
      ]
    },
    {
      "cell_type": "markdown",
      "metadata": {
        "id": "la4DNMF71di2"
      },
      "source": [
        "3. Show all courses which are free of cost"
      ]
    },
    {
      "cell_type": "code",
      "metadata": {
        "colab": {
          "base_uri": "https://localhost:8080/",
          "height": 97
        },
        "id": "uu2rEBu51OpU",
        "outputId": "05d35ac7-7217-4dca-9bb4-b7b33f97832d"
      },
      "source": [
        "df.head(1)"
      ],
      "execution_count": 11,
      "outputs": [
        {
          "output_type": "execute_result",
          "data": {
            "text/html": [
              "<div>\n",
              "<style scoped>\n",
              "    .dataframe tbody tr th:only-of-type {\n",
              "        vertical-align: middle;\n",
              "    }\n",
              "\n",
              "    .dataframe tbody tr th {\n",
              "        vertical-align: top;\n",
              "    }\n",
              "\n",
              "    .dataframe thead th {\n",
              "        text-align: right;\n",
              "    }\n",
              "</style>\n",
              "<table border=\"1\" class=\"dataframe\">\n",
              "  <thead>\n",
              "    <tr style=\"text-align: right;\">\n",
              "      <th></th>\n",
              "      <th>course_id</th>\n",
              "      <th>course_title</th>\n",
              "      <th>is_paid</th>\n",
              "      <th>price</th>\n",
              "      <th>num_subscribers</th>\n",
              "      <th>num_reviews</th>\n",
              "      <th>num_lectures</th>\n",
              "      <th>level</th>\n",
              "      <th>content_duration</th>\n",
              "      <th>published_timestamp</th>\n",
              "      <th>subject</th>\n",
              "    </tr>\n",
              "  </thead>\n",
              "  <tbody>\n",
              "    <tr>\n",
              "      <th>0</th>\n",
              "      <td>288942</td>\n",
              "      <td>#1 Piano Hand Coordination: Play 10th Ballad i...</td>\n",
              "      <td>True</td>\n",
              "      <td>35</td>\n",
              "      <td>3137</td>\n",
              "      <td>18</td>\n",
              "      <td>68</td>\n",
              "      <td>All Levels</td>\n",
              "      <td>1.5 hours</td>\n",
              "      <td>2014-09-18T05:07:05Z</td>\n",
              "      <td>Musical Instruments</td>\n",
              "    </tr>\n",
              "  </tbody>\n",
              "</table>\n",
              "</div>"
            ],
            "text/plain": [
              "   course_id  ...              subject\n",
              "0     288942  ...  Musical Instruments\n",
              "\n",
              "[1 rows x 11 columns]"
            ]
          },
          "metadata": {},
          "execution_count": 11
        }
      ]
    },
    {
      "cell_type": "code",
      "metadata": {
        "colab": {
          "base_uri": "https://localhost:8080/"
        },
        "id": "UULT4Rjn1kP2",
        "outputId": "d66d5f1b-f1c4-4400-80ca-1be0655d2ee0"
      },
      "source": [
        "df[df.is_paid == False].shape"
      ],
      "execution_count": 17,
      "outputs": [
        {
          "output_type": "execute_result",
          "data": {
            "text/plain": [
              "(310, 11)"
            ]
          },
          "metadata": {},
          "execution_count": 17
        }
      ]
    },
    {
      "cell_type": "code",
      "metadata": {
        "colab": {
          "base_uri": "https://localhost:8080/",
          "height": 289
        },
        "id": "NaIXKZ8c1sSy",
        "outputId": "49cf52f8-7da4-4614-be74-9c0c1ddbebc3"
      },
      "source": [
        "df[df.is_paid == True].head()"
      ],
      "execution_count": 20,
      "outputs": [
        {
          "output_type": "execute_result",
          "data": {
            "text/html": [
              "<div>\n",
              "<style scoped>\n",
              "    .dataframe tbody tr th:only-of-type {\n",
              "        vertical-align: middle;\n",
              "    }\n",
              "\n",
              "    .dataframe tbody tr th {\n",
              "        vertical-align: top;\n",
              "    }\n",
              "\n",
              "    .dataframe thead th {\n",
              "        text-align: right;\n",
              "    }\n",
              "</style>\n",
              "<table border=\"1\" class=\"dataframe\">\n",
              "  <thead>\n",
              "    <tr style=\"text-align: right;\">\n",
              "      <th></th>\n",
              "      <th>course_id</th>\n",
              "      <th>course_title</th>\n",
              "      <th>is_paid</th>\n",
              "      <th>price</th>\n",
              "      <th>num_subscribers</th>\n",
              "      <th>num_reviews</th>\n",
              "      <th>num_lectures</th>\n",
              "      <th>level</th>\n",
              "      <th>content_duration</th>\n",
              "      <th>published_timestamp</th>\n",
              "      <th>subject</th>\n",
              "    </tr>\n",
              "  </thead>\n",
              "  <tbody>\n",
              "    <tr>\n",
              "      <th>0</th>\n",
              "      <td>288942</td>\n",
              "      <td>#1 Piano Hand Coordination: Play 10th Ballad i...</td>\n",
              "      <td>True</td>\n",
              "      <td>35</td>\n",
              "      <td>3137</td>\n",
              "      <td>18</td>\n",
              "      <td>68</td>\n",
              "      <td>All Levels</td>\n",
              "      <td>1.5 hours</td>\n",
              "      <td>2014-09-18T05:07:05Z</td>\n",
              "      <td>Musical Instruments</td>\n",
              "    </tr>\n",
              "    <tr>\n",
              "      <th>1</th>\n",
              "      <td>1170074</td>\n",
              "      <td>#10 Hand Coordination - Transfer Chord Ballad ...</td>\n",
              "      <td>True</td>\n",
              "      <td>75</td>\n",
              "      <td>1593</td>\n",
              "      <td>1</td>\n",
              "      <td>41</td>\n",
              "      <td>Intermediate Level</td>\n",
              "      <td>1 hour</td>\n",
              "      <td>2017-04-12T19:06:34Z</td>\n",
              "      <td>Musical Instruments</td>\n",
              "    </tr>\n",
              "    <tr>\n",
              "      <th>2</th>\n",
              "      <td>1193886</td>\n",
              "      <td>#12 Hand Coordination: Let your Hands dance wi...</td>\n",
              "      <td>True</td>\n",
              "      <td>75</td>\n",
              "      <td>482</td>\n",
              "      <td>1</td>\n",
              "      <td>47</td>\n",
              "      <td>Intermediate Level</td>\n",
              "      <td>1.5 hours</td>\n",
              "      <td>2017-04-26T18:34:57Z</td>\n",
              "      <td>Musical Instruments</td>\n",
              "    </tr>\n",
              "    <tr>\n",
              "      <th>3</th>\n",
              "      <td>1116700</td>\n",
              "      <td>#4 Piano Hand Coordination: Fun Piano Runs in ...</td>\n",
              "      <td>True</td>\n",
              "      <td>75</td>\n",
              "      <td>850</td>\n",
              "      <td>3</td>\n",
              "      <td>43</td>\n",
              "      <td>Intermediate Level</td>\n",
              "      <td>1 hour</td>\n",
              "      <td>2017-02-21T23:48:18Z</td>\n",
              "      <td>Musical Instruments</td>\n",
              "    </tr>\n",
              "    <tr>\n",
              "      <th>4</th>\n",
              "      <td>1120410</td>\n",
              "      <td>#5  Piano Hand Coordination:  Piano Runs in 2 ...</td>\n",
              "      <td>True</td>\n",
              "      <td>75</td>\n",
              "      <td>940</td>\n",
              "      <td>3</td>\n",
              "      <td>32</td>\n",
              "      <td>Intermediate Level</td>\n",
              "      <td>37 mins</td>\n",
              "      <td>2017-02-21T23:44:49Z</td>\n",
              "      <td>Musical Instruments</td>\n",
              "    </tr>\n",
              "  </tbody>\n",
              "</table>\n",
              "</div>"
            ],
            "text/plain": [
              "   course_id  ...              subject\n",
              "0     288942  ...  Musical Instruments\n",
              "1    1170074  ...  Musical Instruments\n",
              "2    1193886  ...  Musical Instruments\n",
              "3    1116700  ...  Musical Instruments\n",
              "4    1120410  ...  Musical Instruments\n",
              "\n",
              "[5 rows x 11 columns]"
            ]
          },
          "metadata": {},
          "execution_count": 20
        }
      ]
    },
    {
      "cell_type": "markdown",
      "metadata": {
        "id": "O0ps7kLu2eQu"
      },
      "source": [
        "5. Which are the top selling courses"
      ]
    },
    {
      "cell_type": "code",
      "metadata": {
        "colab": {
          "base_uri": "https://localhost:8080/",
          "height": 97
        },
        "id": "sDnBC41X2WL6",
        "outputId": "f4b13dbd-2286-438a-b837-1be484a5d4c1"
      },
      "source": [
        "df.head(1)"
      ],
      "execution_count": 21,
      "outputs": [
        {
          "output_type": "execute_result",
          "data": {
            "text/html": [
              "<div>\n",
              "<style scoped>\n",
              "    .dataframe tbody tr th:only-of-type {\n",
              "        vertical-align: middle;\n",
              "    }\n",
              "\n",
              "    .dataframe tbody tr th {\n",
              "        vertical-align: top;\n",
              "    }\n",
              "\n",
              "    .dataframe thead th {\n",
              "        text-align: right;\n",
              "    }\n",
              "</style>\n",
              "<table border=\"1\" class=\"dataframe\">\n",
              "  <thead>\n",
              "    <tr style=\"text-align: right;\">\n",
              "      <th></th>\n",
              "      <th>course_id</th>\n",
              "      <th>course_title</th>\n",
              "      <th>is_paid</th>\n",
              "      <th>price</th>\n",
              "      <th>num_subscribers</th>\n",
              "      <th>num_reviews</th>\n",
              "      <th>num_lectures</th>\n",
              "      <th>level</th>\n",
              "      <th>content_duration</th>\n",
              "      <th>published_timestamp</th>\n",
              "      <th>subject</th>\n",
              "    </tr>\n",
              "  </thead>\n",
              "  <tbody>\n",
              "    <tr>\n",
              "      <th>0</th>\n",
              "      <td>288942</td>\n",
              "      <td>#1 Piano Hand Coordination: Play 10th Ballad i...</td>\n",
              "      <td>True</td>\n",
              "      <td>35</td>\n",
              "      <td>3137</td>\n",
              "      <td>18</td>\n",
              "      <td>68</td>\n",
              "      <td>All Levels</td>\n",
              "      <td>1.5 hours</td>\n",
              "      <td>2014-09-18T05:07:05Z</td>\n",
              "      <td>Musical Instruments</td>\n",
              "    </tr>\n",
              "  </tbody>\n",
              "</table>\n",
              "</div>"
            ],
            "text/plain": [
              "   course_id  ...              subject\n",
              "0     288942  ...  Musical Instruments\n",
              "\n",
              "[1 rows x 11 columns]"
            ]
          },
          "metadata": {},
          "execution_count": 21
        }
      ]
    },
    {
      "cell_type": "code",
      "metadata": {
        "colab": {
          "base_uri": "https://localhost:8080/",
          "height": 589
        },
        "id": "b_kcBWZo2lJW",
        "outputId": "632b20ae-df99-4700-8e37-38b0e849bcc6"
      },
      "source": [
        "df[df.is_paid == True].sort_values('num_subscribers', ascending = False)"
      ],
      "execution_count": 25,
      "outputs": [
        {
          "output_type": "execute_result",
          "data": {
            "text/html": [
              "<div>\n",
              "<style scoped>\n",
              "    .dataframe tbody tr th:only-of-type {\n",
              "        vertical-align: middle;\n",
              "    }\n",
              "\n",
              "    .dataframe tbody tr th {\n",
              "        vertical-align: top;\n",
              "    }\n",
              "\n",
              "    .dataframe thead th {\n",
              "        text-align: right;\n",
              "    }\n",
              "</style>\n",
              "<table border=\"1\" class=\"dataframe\">\n",
              "  <thead>\n",
              "    <tr style=\"text-align: right;\">\n",
              "      <th></th>\n",
              "      <th>course_id</th>\n",
              "      <th>course_title</th>\n",
              "      <th>is_paid</th>\n",
              "      <th>price</th>\n",
              "      <th>num_subscribers</th>\n",
              "      <th>num_reviews</th>\n",
              "      <th>num_lectures</th>\n",
              "      <th>level</th>\n",
              "      <th>content_duration</th>\n",
              "      <th>published_timestamp</th>\n",
              "      <th>subject</th>\n",
              "    </tr>\n",
              "  </thead>\n",
              "  <tbody>\n",
              "    <tr>\n",
              "      <th>3385</th>\n",
              "      <td>625204</td>\n",
              "      <td>The Web Developer Bootcamp</td>\n",
              "      <td>True</td>\n",
              "      <td>200</td>\n",
              "      <td>121584</td>\n",
              "      <td>27445</td>\n",
              "      <td>342</td>\n",
              "      <td>All Levels</td>\n",
              "      <td>43 hours</td>\n",
              "      <td>2015-11-02T21:13:27Z</td>\n",
              "      <td>Web Development</td>\n",
              "    </tr>\n",
              "    <tr>\n",
              "      <th>3316</th>\n",
              "      <td>764164</td>\n",
              "      <td>The Complete Web Developer Course 2.0</td>\n",
              "      <td>True</td>\n",
              "      <td>200</td>\n",
              "      <td>114512</td>\n",
              "      <td>22412</td>\n",
              "      <td>304</td>\n",
              "      <td>All Levels</td>\n",
              "      <td>30.5 hours</td>\n",
              "      <td>2016-03-08T22:28:36Z</td>\n",
              "      <td>Web Development</td>\n",
              "    </tr>\n",
              "    <tr>\n",
              "      <th>2233</th>\n",
              "      <td>94430</td>\n",
              "      <td>Learn Javascript &amp; JQuery From Scratch</td>\n",
              "      <td>True</td>\n",
              "      <td>30</td>\n",
              "      <td>84897</td>\n",
              "      <td>2685</td>\n",
              "      <td>10</td>\n",
              "      <td>All Levels</td>\n",
              "      <td>2 hours</td>\n",
              "      <td>2013-10-10T15:19:29Z</td>\n",
              "      <td>Web Development</td>\n",
              "    </tr>\n",
              "    <tr>\n",
              "      <th>2034</th>\n",
              "      <td>364426</td>\n",
              "      <td>JavaScript: Understanding the Weird Parts</td>\n",
              "      <td>True</td>\n",
              "      <td>175</td>\n",
              "      <td>79612</td>\n",
              "      <td>16976</td>\n",
              "      <td>85</td>\n",
              "      <td>All Levels</td>\n",
              "      <td>11.5 hours</td>\n",
              "      <td>2015-03-12T23:19:54Z</td>\n",
              "      <td>Web Development</td>\n",
              "    </tr>\n",
              "    <tr>\n",
              "      <th>2829</th>\n",
              "      <td>238934</td>\n",
              "      <td>Pianoforall - Incredible New Way To Learn Pian...</td>\n",
              "      <td>True</td>\n",
              "      <td>200</td>\n",
              "      <td>75499</td>\n",
              "      <td>7676</td>\n",
              "      <td>362</td>\n",
              "      <td>All Levels</td>\n",
              "      <td>30 hours</td>\n",
              "      <td>2014-08-07T06:27:51Z</td>\n",
              "      <td>Musical Instruments</td>\n",
              "    </tr>\n",
              "    <tr>\n",
              "      <th>...</th>\n",
              "      <td>...</td>\n",
              "      <td>...</td>\n",
              "      <td>...</td>\n",
              "      <td>...</td>\n",
              "      <td>...</td>\n",
              "      <td>...</td>\n",
              "      <td>...</td>\n",
              "      <td>...</td>\n",
              "      <td>...</td>\n",
              "      <td>...</td>\n",
              "      <td>...</td>\n",
              "    </tr>\n",
              "    <tr>\n",
              "      <th>1132</th>\n",
              "      <td>1047408</td>\n",
              "      <td>Easy Coloring Book Design</td>\n",
              "      <td>True</td>\n",
              "      <td>25</td>\n",
              "      <td>0</td>\n",
              "      <td>0</td>\n",
              "      <td>9</td>\n",
              "      <td>Beginner Level</td>\n",
              "      <td>35 mins</td>\n",
              "      <td>2016-12-22T00:46:38Z</td>\n",
              "      <td>Graphic Design</td>\n",
              "    </tr>\n",
              "    <tr>\n",
              "      <th>3467</th>\n",
              "      <td>1214670</td>\n",
              "      <td>Tune that Sour Note on Your Piano</td>\n",
              "      <td>True</td>\n",
              "      <td>20</td>\n",
              "      <td>0</td>\n",
              "      <td>0</td>\n",
              "      <td>6</td>\n",
              "      <td>All Levels</td>\n",
              "      <td>33 mins</td>\n",
              "      <td>2017-06-20T21:46:40Z</td>\n",
              "      <td>Musical Instruments</td>\n",
              "    </tr>\n",
              "    <tr>\n",
              "      <th>1185</th>\n",
              "      <td>837322</td>\n",
              "      <td>Essentials of money value: Get a financial Life !</td>\n",
              "      <td>True</td>\n",
              "      <td>20</td>\n",
              "      <td>0</td>\n",
              "      <td>0</td>\n",
              "      <td>20</td>\n",
              "      <td>All Levels</td>\n",
              "      <td>37 mins</td>\n",
              "      <td>2016-05-16T18:28:30Z</td>\n",
              "      <td>Business Finance</td>\n",
              "    </tr>\n",
              "    <tr>\n",
              "      <th>1186</th>\n",
              "      <td>837322</td>\n",
              "      <td>Essentials of money value: Get a financial Life !</td>\n",
              "      <td>True</td>\n",
              "      <td>20</td>\n",
              "      <td>0</td>\n",
              "      <td>0</td>\n",
              "      <td>20</td>\n",
              "      <td>All Levels</td>\n",
              "      <td>37 mins</td>\n",
              "      <td>2016-05-16T18:28:30Z</td>\n",
              "      <td>Business Finance</td>\n",
              "    </tr>\n",
              "    <tr>\n",
              "      <th>2900</th>\n",
              "      <td>995384</td>\n",
              "      <td>Professional Business Logo Design Using Free O...</td>\n",
              "      <td>True</td>\n",
              "      <td>20</td>\n",
              "      <td>0</td>\n",
              "      <td>0</td>\n",
              "      <td>5</td>\n",
              "      <td>All Levels</td>\n",
              "      <td>37 mins</td>\n",
              "      <td>2016-10-31T16:09:48Z</td>\n",
              "      <td>Graphic Design</td>\n",
              "    </tr>\n",
              "  </tbody>\n",
              "</table>\n",
              "<p>3372 rows × 11 columns</p>\n",
              "</div>"
            ],
            "text/plain": [
              "      course_id  ...              subject\n",
              "3385     625204  ...      Web Development\n",
              "3316     764164  ...      Web Development\n",
              "2233      94430  ...      Web Development\n",
              "2034     364426  ...      Web Development\n",
              "2829     238934  ...  Musical Instruments\n",
              "...         ...  ...                  ...\n",
              "1132    1047408  ...       Graphic Design\n",
              "3467    1214670  ...  Musical Instruments\n",
              "1185     837322  ...     Business Finance\n",
              "1186     837322  ...     Business Finance\n",
              "2900     995384  ...       Graphic Design\n",
              "\n",
              "[3372 rows x 11 columns]"
            ]
          },
          "metadata": {},
          "execution_count": 25
        }
      ]
    },
    {
      "cell_type": "markdown",
      "metadata": {
        "id": "vicGsU7o3z8J"
      },
      "source": [
        "7. all the cources pf grafic design where the prices are below $100"
      ]
    },
    {
      "cell_type": "code",
      "metadata": {
        "colab": {
          "base_uri": "https://localhost:8080/",
          "height": 289
        },
        "id": "1ewLd3WC2yvL",
        "outputId": "936355f1-6345-48c3-d590-40782759f12f"
      },
      "source": [
        "df[(df.subject == 'Graphic Design') & (df.price <= '101')].head()"
      ],
      "execution_count": 40,
      "outputs": [
        {
          "output_type": "execute_result",
          "data": {
            "text/html": [
              "<div>\n",
              "<style scoped>\n",
              "    .dataframe tbody tr th:only-of-type {\n",
              "        vertical-align: middle;\n",
              "    }\n",
              "\n",
              "    .dataframe tbody tr th {\n",
              "        vertical-align: top;\n",
              "    }\n",
              "\n",
              "    .dataframe thead th {\n",
              "        text-align: right;\n",
              "    }\n",
              "</style>\n",
              "<table border=\"1\" class=\"dataframe\">\n",
              "  <thead>\n",
              "    <tr style=\"text-align: right;\">\n",
              "      <th></th>\n",
              "      <th>course_id</th>\n",
              "      <th>course_title</th>\n",
              "      <th>is_paid</th>\n",
              "      <th>price</th>\n",
              "      <th>num_subscribers</th>\n",
              "      <th>num_reviews</th>\n",
              "      <th>num_lectures</th>\n",
              "      <th>level</th>\n",
              "      <th>content_duration</th>\n",
              "      <th>published_timestamp</th>\n",
              "      <th>subject</th>\n",
              "    </tr>\n",
              "  </thead>\n",
              "  <tbody>\n",
              "    <tr>\n",
              "      <th>47</th>\n",
              "      <td>1269190</td>\n",
              "      <td>7 Secrets To Designing In Black and White</td>\n",
              "      <td>True</td>\n",
              "      <td>100</td>\n",
              "      <td>1000</td>\n",
              "      <td>1</td>\n",
              "      <td>12</td>\n",
              "      <td>All Levels</td>\n",
              "      <td>1.5 hours</td>\n",
              "      <td>2017-06-27T19:55:18Z</td>\n",
              "      <td>Graphic Design</td>\n",
              "    </tr>\n",
              "    <tr>\n",
              "      <th>169</th>\n",
              "      <td>983444</td>\n",
              "      <td>Adobe Illustrator Vectors For Hand Letterers</td>\n",
              "      <td>True</td>\n",
              "      <td>100</td>\n",
              "      <td>23</td>\n",
              "      <td>2</td>\n",
              "      <td>9</td>\n",
              "      <td>Beginner Level</td>\n",
              "      <td>37 mins</td>\n",
              "      <td>2016-10-21T18:50:38Z</td>\n",
              "      <td>Graphic Design</td>\n",
              "    </tr>\n",
              "    <tr>\n",
              "      <th>184</th>\n",
              "      <td>638040</td>\n",
              "      <td>Adobe Photoshop Essentials: Master Adobe Photo...</td>\n",
              "      <td>True</td>\n",
              "      <td>100</td>\n",
              "      <td>1373</td>\n",
              "      <td>5</td>\n",
              "      <td>63</td>\n",
              "      <td>Beginner Level</td>\n",
              "      <td>2.5 hours</td>\n",
              "      <td>2015-11-18T17:47:26Z</td>\n",
              "      <td>Graphic Design</td>\n",
              "    </tr>\n",
              "    <tr>\n",
              "      <th>520</th>\n",
              "      <td>978462</td>\n",
              "      <td>Blender Modelling Series - Volume Two</td>\n",
              "      <td>True</td>\n",
              "      <td>100</td>\n",
              "      <td>1526</td>\n",
              "      <td>3</td>\n",
              "      <td>24</td>\n",
              "      <td>Beginner Level</td>\n",
              "      <td>2 hours</td>\n",
              "      <td>2016-10-12T20:22:14Z</td>\n",
              "      <td>Graphic Design</td>\n",
              "    </tr>\n",
              "    <tr>\n",
              "      <th>699</th>\n",
              "      <td>757900</td>\n",
              "      <td>Canva : Book Cover Design</td>\n",
              "      <td>True</td>\n",
              "      <td>100</td>\n",
              "      <td>3377</td>\n",
              "      <td>20</td>\n",
              "      <td>15</td>\n",
              "      <td>Beginner Level</td>\n",
              "      <td>2 hours</td>\n",
              "      <td>2016-02-26T01:08:20Z</td>\n",
              "      <td>Graphic Design</td>\n",
              "    </tr>\n",
              "  </tbody>\n",
              "</table>\n",
              "</div>"
            ],
            "text/plain": [
              "     course_id  ...         subject\n",
              "47     1269190  ...  Graphic Design\n",
              "169     983444  ...  Graphic Design\n",
              "184     638040  ...  Graphic Design\n",
              "520     978462  ...  Graphic Design\n",
              "699     757900  ...  Graphic Design\n",
              "\n",
              "[5 rows x 11 columns]"
            ]
          },
          "metadata": {},
          "execution_count": 40
        }
      ]
    },
    {
      "cell_type": "markdown",
      "metadata": {
        "id": "Urm712Ij5knC"
      },
      "source": [
        "8. Find out all the courses whoch are related to Python"
      ]
    },
    {
      "cell_type": "code",
      "metadata": {
        "colab": {
          "base_uri": "https://localhost:8080/",
          "height": 340
        },
        "id": "CtL3G5ju3-J-",
        "outputId": "6c242c11-f2ae-44b0-cfc9-299c615fbe07"
      },
      "source": [
        "df[df.course_title.str.contains('Python')].head()"
      ],
      "execution_count": 42,
      "outputs": [
        {
          "output_type": "execute_result",
          "data": {
            "text/html": [
              "<div>\n",
              "<style scoped>\n",
              "    .dataframe tbody tr th:only-of-type {\n",
              "        vertical-align: middle;\n",
              "    }\n",
              "\n",
              "    .dataframe tbody tr th {\n",
              "        vertical-align: top;\n",
              "    }\n",
              "\n",
              "    .dataframe thead th {\n",
              "        text-align: right;\n",
              "    }\n",
              "</style>\n",
              "<table border=\"1\" class=\"dataframe\">\n",
              "  <thead>\n",
              "    <tr style=\"text-align: right;\">\n",
              "      <th></th>\n",
              "      <th>course_id</th>\n",
              "      <th>course_title</th>\n",
              "      <th>is_paid</th>\n",
              "      <th>price</th>\n",
              "      <th>num_subscribers</th>\n",
              "      <th>num_reviews</th>\n",
              "      <th>num_lectures</th>\n",
              "      <th>level</th>\n",
              "      <th>content_duration</th>\n",
              "      <th>published_timestamp</th>\n",
              "      <th>subject</th>\n",
              "    </tr>\n",
              "  </thead>\n",
              "  <tbody>\n",
              "    <tr>\n",
              "      <th>216</th>\n",
              "      <td>599504</td>\n",
              "      <td>Advanced Scalable Python Web Development Using...</td>\n",
              "      <td>True</td>\n",
              "      <td>120</td>\n",
              "      <td>1299</td>\n",
              "      <td>56</td>\n",
              "      <td>71</td>\n",
              "      <td>Intermediate Level</td>\n",
              "      <td>14 hours</td>\n",
              "      <td>2016-08-11T22:09:24Z</td>\n",
              "      <td>Web Development</td>\n",
              "    </tr>\n",
              "    <tr>\n",
              "      <th>777</th>\n",
              "      <td>47963</td>\n",
              "      <td>Coding for Entrepreneurs: Learn Python, Django...</td>\n",
              "      <td>True</td>\n",
              "      <td>195</td>\n",
              "      <td>23412</td>\n",
              "      <td>799</td>\n",
              "      <td>251</td>\n",
              "      <td>All Levels</td>\n",
              "      <td>45 hours</td>\n",
              "      <td>2013-04-08T00:46:14Z</td>\n",
              "      <td>Web Development</td>\n",
              "    </tr>\n",
              "    <tr>\n",
              "      <th>814</th>\n",
              "      <td>631128</td>\n",
              "      <td>Complete Python Web Course: Build 8 Python Web...</td>\n",
              "      <td>True</td>\n",
              "      <td>110</td>\n",
              "      <td>7489</td>\n",
              "      <td>941</td>\n",
              "      <td>173</td>\n",
              "      <td>All Levels</td>\n",
              "      <td>16 hours</td>\n",
              "      <td>2015-11-08T20:57:35Z</td>\n",
              "      <td>Web Development</td>\n",
              "    </tr>\n",
              "    <tr>\n",
              "      <th>842</th>\n",
              "      <td>186096</td>\n",
              "      <td>Core: A Web App Reference Guide for Django, Py...</td>\n",
              "      <td>True</td>\n",
              "      <td>195</td>\n",
              "      <td>2497</td>\n",
              "      <td>98</td>\n",
              "      <td>154</td>\n",
              "      <td>All Levels</td>\n",
              "      <td>26 hours</td>\n",
              "      <td>2014-05-29T00:58:43Z</td>\n",
              "      <td>Web Development</td>\n",
              "    </tr>\n",
              "    <tr>\n",
              "      <th>1400</th>\n",
              "      <td>394832</td>\n",
              "      <td>Fun and creative web engineering with Python a...</td>\n",
              "      <td>False</td>\n",
              "      <td>Free</td>\n",
              "      <td>10917</td>\n",
              "      <td>319</td>\n",
              "      <td>25</td>\n",
              "      <td>All Levels</td>\n",
              "      <td>2 hours</td>\n",
              "      <td>2015-06-09T19:51:50Z</td>\n",
              "      <td>Web Development</td>\n",
              "    </tr>\n",
              "  </tbody>\n",
              "</table>\n",
              "</div>"
            ],
            "text/plain": [
              "      course_id  ...          subject\n",
              "216      599504  ...  Web Development\n",
              "777       47963  ...  Web Development\n",
              "814      631128  ...  Web Development\n",
              "842      186096  ...  Web Development\n",
              "1400     394832  ...  Web Development\n",
              "\n",
              "[5 rows x 11 columns]"
            ]
          },
          "metadata": {},
          "execution_count": 42
        }
      ]
    },
    {
      "cell_type": "markdown",
      "metadata": {
        "id": "JEoli_y15_hu"
      },
      "source": [
        "9. Courses published in 2017"
      ]
    },
    {
      "cell_type": "code",
      "metadata": {
        "colab": {
          "base_uri": "https://localhost:8080/",
          "height": 97
        },
        "id": "v3OoWDdX5u07",
        "outputId": "1429d9c0-adb0-4d6b-cc35-e8c1d26e8dc4"
      },
      "source": [
        "df.head(1)"
      ],
      "execution_count": 43,
      "outputs": [
        {
          "output_type": "execute_result",
          "data": {
            "text/html": [
              "<div>\n",
              "<style scoped>\n",
              "    .dataframe tbody tr th:only-of-type {\n",
              "        vertical-align: middle;\n",
              "    }\n",
              "\n",
              "    .dataframe tbody tr th {\n",
              "        vertical-align: top;\n",
              "    }\n",
              "\n",
              "    .dataframe thead th {\n",
              "        text-align: right;\n",
              "    }\n",
              "</style>\n",
              "<table border=\"1\" class=\"dataframe\">\n",
              "  <thead>\n",
              "    <tr style=\"text-align: right;\">\n",
              "      <th></th>\n",
              "      <th>course_id</th>\n",
              "      <th>course_title</th>\n",
              "      <th>is_paid</th>\n",
              "      <th>price</th>\n",
              "      <th>num_subscribers</th>\n",
              "      <th>num_reviews</th>\n",
              "      <th>num_lectures</th>\n",
              "      <th>level</th>\n",
              "      <th>content_duration</th>\n",
              "      <th>published_timestamp</th>\n",
              "      <th>subject</th>\n",
              "    </tr>\n",
              "  </thead>\n",
              "  <tbody>\n",
              "    <tr>\n",
              "      <th>0</th>\n",
              "      <td>288942</td>\n",
              "      <td>#1 Piano Hand Coordination: Play 10th Ballad i...</td>\n",
              "      <td>True</td>\n",
              "      <td>35</td>\n",
              "      <td>3137</td>\n",
              "      <td>18</td>\n",
              "      <td>68</td>\n",
              "      <td>All Levels</td>\n",
              "      <td>1.5 hours</td>\n",
              "      <td>2014-09-18T05:07:05Z</td>\n",
              "      <td>Musical Instruments</td>\n",
              "    </tr>\n",
              "  </tbody>\n",
              "</table>\n",
              "</div>"
            ],
            "text/plain": [
              "   course_id  ...              subject\n",
              "0     288942  ...  Musical Instruments\n",
              "\n",
              "[1 rows x 11 columns]"
            ]
          },
          "metadata": {},
          "execution_count": 43
        }
      ]
    },
    {
      "cell_type": "code",
      "metadata": {
        "id": "Nu3_fEiA6DbX"
      },
      "source": [
        "df['published_timestamp'] = pd.to_datetime(df.published_timestamp)"
      ],
      "execution_count": 45,
      "outputs": []
    },
    {
      "cell_type": "code",
      "metadata": {
        "id": "JRy4CODs6sWz"
      },
      "source": [
        "df['Year'] = df['published_timestamp'].dt.year"
      ],
      "execution_count": 49,
      "outputs": []
    },
    {
      "cell_type": "code",
      "metadata": {
        "colab": {
          "base_uri": "https://localhost:8080/",
          "height": 357
        },
        "id": "h11I0Ggg6uRr",
        "outputId": "51df6708-74d9-4236-a6ff-aa5b49b99bba"
      },
      "source": [
        "df[df.Year == 2017].head()"
      ],
      "execution_count": 51,
      "outputs": [
        {
          "output_type": "execute_result",
          "data": {
            "text/html": [
              "<div>\n",
              "<style scoped>\n",
              "    .dataframe tbody tr th:only-of-type {\n",
              "        vertical-align: middle;\n",
              "    }\n",
              "\n",
              "    .dataframe tbody tr th {\n",
              "        vertical-align: top;\n",
              "    }\n",
              "\n",
              "    .dataframe thead th {\n",
              "        text-align: right;\n",
              "    }\n",
              "</style>\n",
              "<table border=\"1\" class=\"dataframe\">\n",
              "  <thead>\n",
              "    <tr style=\"text-align: right;\">\n",
              "      <th></th>\n",
              "      <th>course_id</th>\n",
              "      <th>course_title</th>\n",
              "      <th>is_paid</th>\n",
              "      <th>price</th>\n",
              "      <th>num_subscribers</th>\n",
              "      <th>num_reviews</th>\n",
              "      <th>num_lectures</th>\n",
              "      <th>level</th>\n",
              "      <th>content_duration</th>\n",
              "      <th>published_timestamp</th>\n",
              "      <th>subject</th>\n",
              "      <th>Year</th>\n",
              "    </tr>\n",
              "  </thead>\n",
              "  <tbody>\n",
              "    <tr>\n",
              "      <th>1</th>\n",
              "      <td>1170074</td>\n",
              "      <td>#10 Hand Coordination - Transfer Chord Ballad ...</td>\n",
              "      <td>True</td>\n",
              "      <td>75</td>\n",
              "      <td>1593</td>\n",
              "      <td>1</td>\n",
              "      <td>41</td>\n",
              "      <td>Intermediate Level</td>\n",
              "      <td>1 hour</td>\n",
              "      <td>2017-04-12 19:06:34+00:00</td>\n",
              "      <td>Musical Instruments</td>\n",
              "      <td>2017</td>\n",
              "    </tr>\n",
              "    <tr>\n",
              "      <th>2</th>\n",
              "      <td>1193886</td>\n",
              "      <td>#12 Hand Coordination: Let your Hands dance wi...</td>\n",
              "      <td>True</td>\n",
              "      <td>75</td>\n",
              "      <td>482</td>\n",
              "      <td>1</td>\n",
              "      <td>47</td>\n",
              "      <td>Intermediate Level</td>\n",
              "      <td>1.5 hours</td>\n",
              "      <td>2017-04-26 18:34:57+00:00</td>\n",
              "      <td>Musical Instruments</td>\n",
              "      <td>2017</td>\n",
              "    </tr>\n",
              "    <tr>\n",
              "      <th>3</th>\n",
              "      <td>1116700</td>\n",
              "      <td>#4 Piano Hand Coordination: Fun Piano Runs in ...</td>\n",
              "      <td>True</td>\n",
              "      <td>75</td>\n",
              "      <td>850</td>\n",
              "      <td>3</td>\n",
              "      <td>43</td>\n",
              "      <td>Intermediate Level</td>\n",
              "      <td>1 hour</td>\n",
              "      <td>2017-02-21 23:48:18+00:00</td>\n",
              "      <td>Musical Instruments</td>\n",
              "      <td>2017</td>\n",
              "    </tr>\n",
              "    <tr>\n",
              "      <th>4</th>\n",
              "      <td>1120410</td>\n",
              "      <td>#5  Piano Hand Coordination:  Piano Runs in 2 ...</td>\n",
              "      <td>True</td>\n",
              "      <td>75</td>\n",
              "      <td>940</td>\n",
              "      <td>3</td>\n",
              "      <td>32</td>\n",
              "      <td>Intermediate Level</td>\n",
              "      <td>37 mins</td>\n",
              "      <td>2017-02-21 23:44:49+00:00</td>\n",
              "      <td>Musical Instruments</td>\n",
              "      <td>2017</td>\n",
              "    </tr>\n",
              "    <tr>\n",
              "      <th>5</th>\n",
              "      <td>1122832</td>\n",
              "      <td>#6 Piano Hand Coordination: Play Open 10 Balla...</td>\n",
              "      <td>True</td>\n",
              "      <td>65</td>\n",
              "      <td>2015</td>\n",
              "      <td>3</td>\n",
              "      <td>21</td>\n",
              "      <td>Intermediate Level</td>\n",
              "      <td>44 mins</td>\n",
              "      <td>2017-03-08 17:53:36+00:00</td>\n",
              "      <td>Musical Instruments</td>\n",
              "      <td>2017</td>\n",
              "    </tr>\n",
              "  </tbody>\n",
              "</table>\n",
              "</div>"
            ],
            "text/plain": [
              "   course_id  ...  Year\n",
              "1    1170074  ...  2017\n",
              "2    1193886  ...  2017\n",
              "3    1116700  ...  2017\n",
              "4    1120410  ...  2017\n",
              "5    1122832  ...  2017\n",
              "\n",
              "[5 rows x 12 columns]"
            ]
          },
          "metadata": {},
          "execution_count": 51
        }
      ]
    },
    {
      "cell_type": "markdown",
      "metadata": {
        "id": "fhx06P9v7ziu"
      },
      "source": [
        "10. What are the maximum number of subs for each level of courses"
      ]
    },
    {
      "cell_type": "code",
      "metadata": {
        "colab": {
          "base_uri": "https://localhost:8080/",
          "height": 97
        },
        "id": "7_wIvUqu7cju",
        "outputId": "08aa8ec2-db6d-4e65-cb70-49f3d46845c5"
      },
      "source": [
        "df.head(1)"
      ],
      "execution_count": 52,
      "outputs": [
        {
          "output_type": "execute_result",
          "data": {
            "text/html": [
              "<div>\n",
              "<style scoped>\n",
              "    .dataframe tbody tr th:only-of-type {\n",
              "        vertical-align: middle;\n",
              "    }\n",
              "\n",
              "    .dataframe tbody tr th {\n",
              "        vertical-align: top;\n",
              "    }\n",
              "\n",
              "    .dataframe thead th {\n",
              "        text-align: right;\n",
              "    }\n",
              "</style>\n",
              "<table border=\"1\" class=\"dataframe\">\n",
              "  <thead>\n",
              "    <tr style=\"text-align: right;\">\n",
              "      <th></th>\n",
              "      <th>course_id</th>\n",
              "      <th>course_title</th>\n",
              "      <th>is_paid</th>\n",
              "      <th>price</th>\n",
              "      <th>num_subscribers</th>\n",
              "      <th>num_reviews</th>\n",
              "      <th>num_lectures</th>\n",
              "      <th>level</th>\n",
              "      <th>content_duration</th>\n",
              "      <th>published_timestamp</th>\n",
              "      <th>subject</th>\n",
              "      <th>Year</th>\n",
              "    </tr>\n",
              "  </thead>\n",
              "  <tbody>\n",
              "    <tr>\n",
              "      <th>0</th>\n",
              "      <td>288942</td>\n",
              "      <td>#1 Piano Hand Coordination: Play 10th Ballad i...</td>\n",
              "      <td>True</td>\n",
              "      <td>35</td>\n",
              "      <td>3137</td>\n",
              "      <td>18</td>\n",
              "      <td>68</td>\n",
              "      <td>All Levels</td>\n",
              "      <td>1.5 hours</td>\n",
              "      <td>2014-09-18 05:07:05+00:00</td>\n",
              "      <td>Musical Instruments</td>\n",
              "      <td>2014</td>\n",
              "    </tr>\n",
              "  </tbody>\n",
              "</table>\n",
              "</div>"
            ],
            "text/plain": [
              "   course_id  ...  Year\n",
              "0     288942  ...  2014\n",
              "\n",
              "[1 rows x 12 columns]"
            ]
          },
          "metadata": {},
          "execution_count": 52
        }
      ]
    },
    {
      "cell_type": "code",
      "metadata": {
        "colab": {
          "base_uri": "https://localhost:8080/"
        },
        "id": "fKMn0tig76Xc",
        "outputId": "b10f7f2d-b9f2-4ab6-8701-33fc33578fab"
      },
      "source": [
        "df.level.unique()"
      ],
      "execution_count": 54,
      "outputs": [
        {
          "output_type": "execute_result",
          "data": {
            "text/plain": [
              "array(['All Levels', 'Intermediate Level', 'Beginner Level',\n",
              "       'Expert Level'], dtype=object)"
            ]
          },
          "metadata": {},
          "execution_count": 54
        }
      ]
    },
    {
      "cell_type": "code",
      "metadata": {
        "colab": {
          "base_uri": "https://localhost:8080/"
        },
        "id": "FUdarFcZ8Ajv",
        "outputId": "e58b63b9-c8e8-468b-dc9d-42ff43efe437"
      },
      "source": [
        "df.groupby('level')['num_subscribers'].max()"
      ],
      "execution_count": 56,
      "outputs": [
        {
          "output_type": "execute_result",
          "data": {
            "text/plain": [
              "level\n",
              "All Levels            268923\n",
              "Beginner Level        161029\n",
              "Expert Level            5172\n",
              "Intermediate Level     29167\n",
              "Name: num_subscribers, dtype: int64"
            ]
          },
          "metadata": {},
          "execution_count": 56
        }
      ]
    },
    {
      "cell_type": "code",
      "metadata": {
        "id": "YD5GtExY8Inj"
      },
      "source": [
        ""
      ],
      "execution_count": null,
      "outputs": []
    }
  ]
}